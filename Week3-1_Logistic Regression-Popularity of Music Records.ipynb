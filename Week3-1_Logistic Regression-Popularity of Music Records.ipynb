{
 "cells": [
  {
   "cell_type": "markdown",
   "metadata": {},
   "source": [
    "# Popularity of Music Records"
   ]
  },
  {
   "cell_type": "markdown",
   "metadata": {},
   "source": [
    "The music industry has a well-developed market with a global annual revenue around $15 billion. The recording industry is highly competitive and is dominated by three big production companies which make up nearly 82% of the total annual album sales. \n",
    "\n",
    "Artists are at the core of the music industry and record labels provide them with the necessary resources to sell their music on a large scale. A record label incurs numerous costs (studio recording, marketing, distribution, and touring) in exchange for a percentage of the profits from album sales, singles and concert tickets.\n",
    "\n",
    "Unfortunately, the success of an artist's release is highly uncertain: a single may be extremely popular, resulting in widespread radio play and digital downloads, while another single may turn out quite unpopular, and therefore unprofitable. \n",
    "\n",
    "Knowing the competitive nature of the recording industry, record labels face the fundamental decision problem of which musical releases to support to maximize their financial success. \n",
    "\n",
    "How can we use analytics to predict the popularity of a song? In this assignment, we challenge ourselves to predict whether a song will reach a spot in the Top 10 of the Billboard Hot 100 Chart.\n",
    "\n",
    "Taking an analytics approach, we aim to use information about a song's properties to predict its popularity. The dataset `songs.csv` consists of all songs which made it to the Top 10 of the Billboard Hot 100 Chart from 1990-2010 plus a sample of additional songs that didn't make the Top 10. This data comes from three sources: Wikipedia, Billboard.com, and EchoNest.\n",
    "\n",
    "The variables included in the dataset either describe the artist or the song, or they are associated with the following song attributes: `time signature`, `loudness`, `key`, `pitch`, `tempo`, and `timbre`.\n",
    "\n",
    "Here's a detailed description of the variables:\n",
    "\n",
    "__year__ = the year the song was released\n",
    "\n",
    "__songtitle__ = the title of the song\n",
    "\n",
    "__artistname__ = the name of the artist of the song\n",
    "\n",
    "__songID__ and __artistID__ = identifying variables for the song and artist\n",
    "\n",
    "__timesignature__ and __timesignature_confidence__ = a variable estimating the time signature of the song, and the confidence in the estimate\n",
    "\n",
    "__loudness__ = a continuous variable indicating the average amplitude of the audio in decibels\n",
    "\n",
    "__tempo__ and __tempo_confidence__ = a variable indicating the estimated beats per minute of the song, and the confidence in the estimate\n",
    "\n",
    "__key__ and __key_confidence__ = a variable with twelve levels indicating the estimated key of the song (C, C#, . . ., B), and the confidence in the estimate\n",
    "\n",
    "__energy__ = a variable that represents the overall acoustic energy of the song, using a mix of features such as loudness\n",
    "\n",
    "__pitch__ = a continuous variable that indicates the pitch of the song\n",
    "\n",
    "__timbre_0_min__, __timbre_0_max__, __timbre_1_min__, __timbre_1_max__, . . . , __timbre_11_min__, and __timbre_11_max__ = variables that indicate the minimum/maximum values over all segments for each of the twelve values in the timbre vector (resulting in 24 continuous variables)\n",
    "\n",
    "__Top10__ = a binary variable indicating whether or not the song made it to the Top 10 of the Billboard Hot 100 Chart (1 if it was in the top 10, and 0 if it was not)"
   ]
  },
  {
   "cell_type": "markdown",
   "metadata": {},
   "source": []
  }
 ],
 "metadata": {
  "kernelspec": {
   "display_name": "Python 3",
   "language": "python",
   "name": "python3"
  },
  "language_info": {
   "codemirror_mode": {
    "name": "ipython",
    "version": 3
   },
   "file_extension": ".py",
   "mimetype": "text/x-python",
   "name": "python",
   "nbconvert_exporter": "python",
   "pygments_lexer": "ipython3",
   "version": "3.6.2"
  }
 },
 "nbformat": 4,
 "nbformat_minor": 2
}
