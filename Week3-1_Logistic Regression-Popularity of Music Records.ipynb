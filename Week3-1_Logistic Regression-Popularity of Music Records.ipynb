{
 "cells": [
  {
   "cell_type": "markdown",
   "metadata": {},
   "source": [
    "# Popularity of Music Records"
   ]
  },
  {
   "cell_type": "markdown",
   "metadata": {},
   "source": [
    "The music industry has a well-developed market with a global annual revenue around $15 billion. The recording industry is highly competitive and is dominated by three big production companies which make up nearly 82% of the total annual album sales. \n",
    "\n",
    "Artists are at the core of the music industry and record labels provide them with the necessary resources to sell their music on a large scale. A record label incurs numerous costs (studio recording, marketing, distribution, and touring) in exchange for a percentage of the profits from album sales, singles and concert tickets.\n",
    "\n",
    "Unfortunately, the success of an artist's release is highly uncertain: a single may be extremely popular, resulting in widespread radio play and digital downloads, while another single may turn out quite unpopular, and therefore unprofitable. \n",
    "\n",
    "Knowing the competitive nature of the recording industry, record labels face the fundamental decision problem of which musical releases to support to maximize their financial success. \n",
    "\n",
    "How can we use analytics to predict the popularity of a song? In this assignment, we challenge ourselves to predict whether a song will reach a spot in the Top 10 of the Billboard Hot 100 Chart.\n",
    "\n",
    "Taking an analytics approach, we aim to use information about a song's properties to predict its popularity. The dataset `songs.csv` consists of all songs which made it to the Top 10 of the Billboard Hot 100 Chart from 1990-2010 plus a sample of additional songs that didn't make the Top 10. This data comes from three sources: Wikipedia, Billboard.com, and EchoNest.\n",
    "\n",
    "The variables included in the dataset either describe the artist or the song, or they are associated with the following song attributes: `time signature`, `loudness`, `key`, `pitch`, `tempo`, and `timbre`.\n",
    "\n",
    "Here's a detailed description of the variables:\n",
    "\n",
    "__year__ = the year the song was released\n",
    "\n",
    "__songtitle__ = the title of the song\n",
    "\n",
    "__artistname__ = the name of the artist of the song\n",
    "\n",
    "__songID__ and __artistID__ = identifying variables for the song and artist\n",
    "\n",
    "__timesignature__ and __timesignature_confidence__ = a variable estimating the time signature of the song, and the confidence in the estimate\n",
    "\n",
    "__loudness__ = a continuous variable indicating the average amplitude of the audio in decibels\n",
    "\n",
    "__tempo__ and __tempo_confidence__ = a variable indicating the estimated beats per minute of the song, and the confidence in the estimate\n",
    "\n",
    "__key__ and __key_confidence__ = a variable with twelve levels indicating the estimated key of the song (C, C#, . . ., B), and the confidence in the estimate\n",
    "\n",
    "__energy__ = a variable that represents the overall acoustic energy of the song, using a mix of features such as loudness\n",
    "\n",
    "__pitch__ = a continuous variable that indicates the pitch of the song\n",
    "\n",
    "__timbre_0_min__, __timbre_0_max__, __timbre_1_min__, __timbre_1_max__, . . . , __timbre_11_min__, and __timbre_11_max__ = variables that indicate the minimum/maximum values over all segments for each of the twelve values in the timbre vector (resulting in 24 continuous variables)\n",
    "\n",
    "__Top10__ = a binary variable indicating whether or not the song made it to the Top 10 of the Billboard Hot 100 Chart (1 if it was in the top 10, and 0 if it was not)"
   ]
  },
  {
   "cell_type": "markdown",
   "metadata": {},
   "source": [
    "### Understanding the data"
   ]
  },
  {
   "cell_type": "code",
   "execution_count": 1,
   "metadata": {},
   "outputs": [],
   "source": [
    "import pandas as pd\n",
    "import numpy as np\n",
    "import matplotlib.pyplot as plt\n",
    "import seaborn as sns"
   ]
  },
  {
   "cell_type": "code",
   "execution_count": 2,
   "metadata": {},
   "outputs": [
    {
     "data": {
      "text/html": [
       "<div>\n",
       "<style scoped>\n",
       "    .dataframe tbody tr th:only-of-type {\n",
       "        vertical-align: middle;\n",
       "    }\n",
       "\n",
       "    .dataframe tbody tr th {\n",
       "        vertical-align: top;\n",
       "    }\n",
       "\n",
       "    .dataframe thead th {\n",
       "        text-align: right;\n",
       "    }\n",
       "</style>\n",
       "<table border=\"1\" class=\"dataframe\">\n",
       "  <thead>\n",
       "    <tr style=\"text-align: right;\">\n",
       "      <th></th>\n",
       "      <th>year</th>\n",
       "      <th>songtitle</th>\n",
       "      <th>artistname</th>\n",
       "      <th>songID</th>\n",
       "      <th>artistID</th>\n",
       "      <th>timesignature</th>\n",
       "      <th>timesignature_confidence</th>\n",
       "      <th>loudness</th>\n",
       "      <th>tempo</th>\n",
       "      <th>tempo_confidence</th>\n",
       "      <th>key</th>\n",
       "      <th>key_confidence</th>\n",
       "      <th>energy</th>\n",
       "      <th>pitch</th>\n",
       "      <th>timbre_0_min</th>\n",
       "      <th>timbre_0_max</th>\n",
       "      <th>timbre_1_min</th>\n",
       "      <th>timbre_1_max</th>\n",
       "      <th>timbre_2_min</th>\n",
       "      <th>timbre_2_max</th>\n",
       "      <th>timbre_3_min</th>\n",
       "      <th>timbre_3_max</th>\n",
       "      <th>timbre_4_min</th>\n",
       "      <th>timbre_4_max</th>\n",
       "      <th>timbre_5_min</th>\n",
       "      <th>timbre_5_max</th>\n",
       "      <th>timbre_6_min</th>\n",
       "      <th>timbre_6_max</th>\n",
       "      <th>timbre_7_min</th>\n",
       "      <th>timbre_7_max</th>\n",
       "      <th>timbre_8_min</th>\n",
       "      <th>timbre_8_max</th>\n",
       "      <th>timbre_9_min</th>\n",
       "      <th>timbre_9_max</th>\n",
       "      <th>timbre_10_min</th>\n",
       "      <th>timbre_10_max</th>\n",
       "      <th>timbre_11_min</th>\n",
       "      <th>timbre_11_max</th>\n",
       "      <th>Top10</th>\n",
       "    </tr>\n",
       "  </thead>\n",
       "  <tbody>\n",
       "    <tr>\n",
       "      <th>0</th>\n",
       "      <td>2010</td>\n",
       "      <td>This Is the House That Doubt Built</td>\n",
       "      <td>A Day to Remember</td>\n",
       "      <td>SOBGGAB12C5664F054</td>\n",
       "      <td>AROBSHL1187B9AFB01</td>\n",
       "      <td>3</td>\n",
       "      <td>0.853</td>\n",
       "      <td>-4.262</td>\n",
       "      <td>91.525</td>\n",
       "      <td>0.953</td>\n",
       "      <td>11</td>\n",
       "      <td>0.453</td>\n",
       "      <td>0.966656</td>\n",
       "      <td>0.024</td>\n",
       "      <td>0.002</td>\n",
       "      <td>57.342</td>\n",
       "      <td>-6.496</td>\n",
       "      <td>171.093</td>\n",
       "      <td>-81.664</td>\n",
       "      <td>95.117</td>\n",
       "      <td>-285.049</td>\n",
       "      <td>259.426</td>\n",
       "      <td>-40.385</td>\n",
       "      <td>73.630</td>\n",
       "      <td>-104.683</td>\n",
       "      <td>183.089</td>\n",
       "      <td>-88.771</td>\n",
       "      <td>73.549</td>\n",
       "      <td>-71.127</td>\n",
       "      <td>82.475</td>\n",
       "      <td>-52.025</td>\n",
       "      <td>39.116</td>\n",
       "      <td>-35.368</td>\n",
       "      <td>71.642</td>\n",
       "      <td>-126.440</td>\n",
       "      <td>18.658</td>\n",
       "      <td>-44.770</td>\n",
       "      <td>25.989</td>\n",
       "      <td>0</td>\n",
       "    </tr>\n",
       "    <tr>\n",
       "      <th>1</th>\n",
       "      <td>2010</td>\n",
       "      <td>Sticks &amp; Bricks</td>\n",
       "      <td>A Day to Remember</td>\n",
       "      <td>SOPAQHU1315CD47F31</td>\n",
       "      <td>AROBSHL1187B9AFB01</td>\n",
       "      <td>4</td>\n",
       "      <td>1.000</td>\n",
       "      <td>-4.051</td>\n",
       "      <td>140.048</td>\n",
       "      <td>0.921</td>\n",
       "      <td>10</td>\n",
       "      <td>0.469</td>\n",
       "      <td>0.984710</td>\n",
       "      <td>0.025</td>\n",
       "      <td>0.000</td>\n",
       "      <td>57.414</td>\n",
       "      <td>-37.351</td>\n",
       "      <td>171.130</td>\n",
       "      <td>-149.589</td>\n",
       "      <td>180.334</td>\n",
       "      <td>-380.143</td>\n",
       "      <td>384.166</td>\n",
       "      <td>-48.662</td>\n",
       "      <td>100.414</td>\n",
       "      <td>-87.267</td>\n",
       "      <td>42.798</td>\n",
       "      <td>-86.895</td>\n",
       "      <td>75.455</td>\n",
       "      <td>-65.807</td>\n",
       "      <td>106.918</td>\n",
       "      <td>-61.320</td>\n",
       "      <td>35.378</td>\n",
       "      <td>-81.928</td>\n",
       "      <td>74.574</td>\n",
       "      <td>-103.808</td>\n",
       "      <td>121.935</td>\n",
       "      <td>-38.892</td>\n",
       "      <td>22.513</td>\n",
       "      <td>0</td>\n",
       "    </tr>\n",
       "    <tr>\n",
       "      <th>2</th>\n",
       "      <td>2010</td>\n",
       "      <td>All I Want</td>\n",
       "      <td>A Day to Remember</td>\n",
       "      <td>SOOIZOU1376E7C6386</td>\n",
       "      <td>AROBSHL1187B9AFB01</td>\n",
       "      <td>4</td>\n",
       "      <td>1.000</td>\n",
       "      <td>-3.571</td>\n",
       "      <td>160.512</td>\n",
       "      <td>0.489</td>\n",
       "      <td>2</td>\n",
       "      <td>0.209</td>\n",
       "      <td>0.989900</td>\n",
       "      <td>0.026</td>\n",
       "      <td>0.003</td>\n",
       "      <td>57.422</td>\n",
       "      <td>-17.222</td>\n",
       "      <td>171.060</td>\n",
       "      <td>-72.912</td>\n",
       "      <td>157.925</td>\n",
       "      <td>-203.984</td>\n",
       "      <td>251.258</td>\n",
       "      <td>-66.044</td>\n",
       "      <td>152.095</td>\n",
       "      <td>-98.673</td>\n",
       "      <td>141.365</td>\n",
       "      <td>-88.874</td>\n",
       "      <td>66.504</td>\n",
       "      <td>-67.433</td>\n",
       "      <td>80.621</td>\n",
       "      <td>-59.773</td>\n",
       "      <td>45.979</td>\n",
       "      <td>-46.293</td>\n",
       "      <td>59.904</td>\n",
       "      <td>-108.313</td>\n",
       "      <td>33.300</td>\n",
       "      <td>-43.733</td>\n",
       "      <td>25.744</td>\n",
       "      <td>0</td>\n",
       "    </tr>\n",
       "    <tr>\n",
       "      <th>3</th>\n",
       "      <td>2010</td>\n",
       "      <td>It's Complicated</td>\n",
       "      <td>A Day to Remember</td>\n",
       "      <td>SODRYWD1315CD49DBE</td>\n",
       "      <td>AROBSHL1187B9AFB01</td>\n",
       "      <td>4</td>\n",
       "      <td>1.000</td>\n",
       "      <td>-3.815</td>\n",
       "      <td>97.525</td>\n",
       "      <td>0.794</td>\n",
       "      <td>1</td>\n",
       "      <td>0.632</td>\n",
       "      <td>0.939207</td>\n",
       "      <td>0.013</td>\n",
       "      <td>0.000</td>\n",
       "      <td>57.765</td>\n",
       "      <td>-32.083</td>\n",
       "      <td>220.895</td>\n",
       "      <td>-138.596</td>\n",
       "      <td>173.365</td>\n",
       "      <td>-73.490</td>\n",
       "      <td>373.492</td>\n",
       "      <td>-55.607</td>\n",
       "      <td>119.158</td>\n",
       "      <td>-77.515</td>\n",
       "      <td>141.178</td>\n",
       "      <td>-70.790</td>\n",
       "      <td>64.540</td>\n",
       "      <td>-63.667</td>\n",
       "      <td>96.675</td>\n",
       "      <td>-78.660</td>\n",
       "      <td>41.088</td>\n",
       "      <td>-49.194</td>\n",
       "      <td>95.440</td>\n",
       "      <td>-102.676</td>\n",
       "      <td>46.422</td>\n",
       "      <td>-59.439</td>\n",
       "      <td>37.082</td>\n",
       "      <td>0</td>\n",
       "    </tr>\n",
       "    <tr>\n",
       "      <th>4</th>\n",
       "      <td>2010</td>\n",
       "      <td>2nd Sucks</td>\n",
       "      <td>A Day to Remember</td>\n",
       "      <td>SOICMQB1315CD46EE3</td>\n",
       "      <td>AROBSHL1187B9AFB01</td>\n",
       "      <td>4</td>\n",
       "      <td>0.788</td>\n",
       "      <td>-4.707</td>\n",
       "      <td>140.053</td>\n",
       "      <td>0.286</td>\n",
       "      <td>6</td>\n",
       "      <td>0.483</td>\n",
       "      <td>0.987738</td>\n",
       "      <td>0.063</td>\n",
       "      <td>0.000</td>\n",
       "      <td>56.872</td>\n",
       "      <td>-223.922</td>\n",
       "      <td>171.130</td>\n",
       "      <td>-147.153</td>\n",
       "      <td>166.008</td>\n",
       "      <td>-128.082</td>\n",
       "      <td>389.419</td>\n",
       "      <td>-43.908</td>\n",
       "      <td>99.332</td>\n",
       "      <td>-96.147</td>\n",
       "      <td>38.303</td>\n",
       "      <td>-110.757</td>\n",
       "      <td>72.391</td>\n",
       "      <td>-55.935</td>\n",
       "      <td>110.332</td>\n",
       "      <td>-56.450</td>\n",
       "      <td>37.555</td>\n",
       "      <td>-48.588</td>\n",
       "      <td>67.570</td>\n",
       "      <td>-52.796</td>\n",
       "      <td>22.888</td>\n",
       "      <td>-50.414</td>\n",
       "      <td>32.758</td>\n",
       "      <td>0</td>\n",
       "    </tr>\n",
       "  </tbody>\n",
       "</table>\n",
       "</div>"
      ],
      "text/plain": [
       "   year                           songtitle  ... timbre_11_max Top10\n",
       "0  2010  This Is the House That Doubt Built  ...        25.989     0\n",
       "1  2010                     Sticks & Bricks  ...        22.513     0\n",
       "2  2010                          All I Want  ...        25.744     0\n",
       "3  2010                    It's Complicated  ...        37.082     0\n",
       "4  2010                           2nd Sucks  ...        32.758     0\n",
       "\n",
       "[5 rows x 39 columns]"
      ]
     },
     "execution_count": 2,
     "metadata": {},
     "output_type": "execute_result"
    }
   ],
   "source": [
    "songs = pd.read_csv(\"../Data/songs.csv\", encoding = \"ISO-8859-1\")\n",
    "songs.head()"
   ]
  },
  {
   "cell_type": "code",
   "execution_count": 3,
   "metadata": {},
   "outputs": [
    {
     "name": "stdout",
     "output_type": "stream",
     "text": [
      "<class 'pandas.core.frame.DataFrame'>\n",
      "RangeIndex: 7574 entries, 0 to 7573\n",
      "Data columns (total 39 columns):\n",
      "year                        7574 non-null int64\n",
      "songtitle                   7574 non-null object\n",
      "artistname                  7574 non-null object\n",
      "songID                      7574 non-null object\n",
      "artistID                    7574 non-null object\n",
      "timesignature               7574 non-null int64\n",
      "timesignature_confidence    7574 non-null float64\n",
      "loudness                    7574 non-null float64\n",
      "tempo                       7574 non-null float64\n",
      "tempo_confidence            7574 non-null float64\n",
      "key                         7574 non-null int64\n",
      "key_confidence              7574 non-null float64\n",
      "energy                      7574 non-null float64\n",
      "pitch                       7574 non-null float64\n",
      "timbre_0_min                7574 non-null float64\n",
      "timbre_0_max                7574 non-null float64\n",
      "timbre_1_min                7574 non-null float64\n",
      "timbre_1_max                7574 non-null float64\n",
      "timbre_2_min                7574 non-null float64\n",
      "timbre_2_max                7574 non-null float64\n",
      "timbre_3_min                7574 non-null float64\n",
      "timbre_3_max                7574 non-null float64\n",
      "timbre_4_min                7574 non-null float64\n",
      "timbre_4_max                7574 non-null float64\n",
      "timbre_5_min                7574 non-null float64\n",
      "timbre_5_max                7574 non-null float64\n",
      "timbre_6_min                7574 non-null float64\n",
      "timbre_6_max                7574 non-null float64\n",
      "timbre_7_min                7574 non-null float64\n",
      "timbre_7_max                7574 non-null float64\n",
      "timbre_8_min                7574 non-null float64\n",
      "timbre_8_max                7574 non-null float64\n",
      "timbre_9_min                7574 non-null float64\n",
      "timbre_9_max                7574 non-null float64\n",
      "timbre_10_min               7574 non-null float64\n",
      "timbre_10_max               7574 non-null float64\n",
      "timbre_11_min               7574 non-null float64\n",
      "timbre_11_max               7574 non-null float64\n",
      "Top10                       7574 non-null int64\n",
      "dtypes: float64(31), int64(4), object(4)\n",
      "memory usage: 2.3+ MB\n"
     ]
    }
   ],
   "source": [
    "songs.info()"
   ]
  },
  {
   "cell_type": "code",
   "execution_count": 4,
   "metadata": {},
   "outputs": [
    {
     "data": {
      "text/plain": [
       "year                        0\n",
       "songtitle                   0\n",
       "artistname                  0\n",
       "songID                      0\n",
       "artistID                    0\n",
       "timesignature               0\n",
       "timesignature_confidence    0\n",
       "loudness                    0\n",
       "tempo                       0\n",
       "tempo_confidence            0\n",
       "key                         0\n",
       "key_confidence              0\n",
       "energy                      0\n",
       "pitch                       0\n",
       "timbre_0_min                0\n",
       "timbre_0_max                0\n",
       "timbre_1_min                0\n",
       "timbre_1_max                0\n",
       "timbre_2_min                0\n",
       "timbre_2_max                0\n",
       "timbre_3_min                0\n",
       "timbre_3_max                0\n",
       "timbre_4_min                0\n",
       "timbre_4_max                0\n",
       "timbre_5_min                0\n",
       "timbre_5_max                0\n",
       "timbre_6_min                0\n",
       "timbre_6_max                0\n",
       "timbre_7_min                0\n",
       "timbre_7_max                0\n",
       "timbre_8_min                0\n",
       "timbre_8_max                0\n",
       "timbre_9_min                0\n",
       "timbre_9_max                0\n",
       "timbre_10_min               0\n",
       "timbre_10_max               0\n",
       "timbre_11_min               0\n",
       "timbre_11_max               0\n",
       "Top10                       0\n",
       "dtype: int64"
      ]
     },
     "execution_count": 4,
     "metadata": {},
     "output_type": "execute_result"
    }
   ],
   "source": [
    "songs.isnull().sum(axis=0)"
   ]
  },
  {
   "cell_type": "markdown",
   "metadata": {},
   "source": [
    "How many observations (songs) are from year 2010?"
   ]
  },
  {
   "cell_type": "code",
   "execution_count": 5,
   "metadata": {},
   "outputs": [
    {
     "data": {
      "text/plain": [
       "373"
      ]
     },
     "execution_count": 5,
     "metadata": {},
     "output_type": "execute_result"
    }
   ],
   "source": [
    "len(songs[songs[\"year\"]==2010])"
   ]
  },
  {
   "cell_type": "markdown",
   "metadata": {},
   "source": [
    "How many songs does the dataset include for which the artist name is \"Michael Jackson\"?"
   ]
  },
  {
   "cell_type": "code",
   "execution_count": 6,
   "metadata": {},
   "outputs": [
    {
     "data": {
      "text/plain": [
       "18"
      ]
     },
     "execution_count": 6,
     "metadata": {},
     "output_type": "execute_result"
    }
   ],
   "source": [
    "len(songs[songs[\"artistname\"]==\"Michael Jackson\"])"
   ]
  },
  {
   "cell_type": "markdown",
   "metadata": {},
   "source": [
    "Which of these songs by Michael Jackson made it to the Top 10?"
   ]
  },
  {
   "cell_type": "code",
   "execution_count": 7,
   "metadata": {},
   "outputs": [
    {
     "data": {
      "text/html": [
       "<div>\n",
       "<style scoped>\n",
       "    .dataframe tbody tr th:only-of-type {\n",
       "        vertical-align: middle;\n",
       "    }\n",
       "\n",
       "    .dataframe tbody tr th {\n",
       "        vertical-align: top;\n",
       "    }\n",
       "\n",
       "    .dataframe thead th {\n",
       "        text-align: right;\n",
       "    }\n",
       "</style>\n",
       "<table border=\"1\" class=\"dataframe\">\n",
       "  <thead>\n",
       "    <tr style=\"text-align: right;\">\n",
       "      <th></th>\n",
       "      <th>year</th>\n",
       "      <th>songtitle</th>\n",
       "    </tr>\n",
       "  </thead>\n",
       "  <tbody>\n",
       "    <tr>\n",
       "      <th>4328</th>\n",
       "      <td>2001</td>\n",
       "      <td>You Rock My World</td>\n",
       "    </tr>\n",
       "    <tr>\n",
       "      <th>6206</th>\n",
       "      <td>1995</td>\n",
       "      <td>You Are Not Alone</td>\n",
       "    </tr>\n",
       "    <tr>\n",
       "      <th>6209</th>\n",
       "      <td>1995</td>\n",
       "      <td>Black or White</td>\n",
       "    </tr>\n",
       "    <tr>\n",
       "      <th>6217</th>\n",
       "      <td>1995</td>\n",
       "      <td>Remember the Time</td>\n",
       "    </tr>\n",
       "    <tr>\n",
       "      <th>6914</th>\n",
       "      <td>1992</td>\n",
       "      <td>In The Closet</td>\n",
       "    </tr>\n",
       "  </tbody>\n",
       "</table>\n",
       "</div>"
      ],
      "text/plain": [
       "      year          songtitle\n",
       "4328  2001  You Rock My World\n",
       "6206  1995  You Are Not Alone\n",
       "6209  1995     Black or White\n",
       "6217  1995  Remember the Time\n",
       "6914  1992      In The Closet"
      ]
     },
     "execution_count": 7,
     "metadata": {},
     "output_type": "execute_result"
    }
   ],
   "source": [
    "songs[[\"year\", \"songtitle\"]][(songs[\"artistname\"]==\"Michael Jackson\")&(songs[\"Top10\"]==1)]"
   ]
  },
  {
   "cell_type": "markdown",
   "metadata": {},
   "source": [
    "The variable corresponding to the estimated time signature (timesignature) is discrete, meaning that it only takes integer values (0, 1, 2, 3, ...). What are the values of this variable that occur in our dataset?"
   ]
  },
  {
   "cell_type": "code",
   "execution_count": 8,
   "metadata": {},
   "outputs": [
    {
     "data": {
      "text/plain": [
       "array([3, 4, 5, 7, 1, 0], dtype=int64)"
      ]
     },
     "execution_count": 8,
     "metadata": {},
     "output_type": "execute_result"
    }
   ],
   "source": [
    "songs[\"timesignature\"].unique()"
   ]
  },
  {
   "cell_type": "markdown",
   "metadata": {},
   "source": [
    "Which timesignature value is the most frequent among songs in our dataset?"
   ]
  },
  {
   "cell_type": "code",
   "execution_count": 9,
   "metadata": {},
   "outputs": [
    {
     "data": {
      "text/plain": [
       "4    6787\n",
       "3     503\n",
       "1     143\n",
       "5     112\n",
       "7      19\n",
       "0      10\n",
       "Name: timesignature, dtype: int64"
      ]
     },
     "execution_count": 9,
     "metadata": {},
     "output_type": "execute_result"
    }
   ],
   "source": [
    "songs[\"timesignature\"].value_counts()"
   ]
  },
  {
   "cell_type": "markdown",
   "metadata": {},
   "source": [
    "Out of all the songs in our dataset, what is the song with the highest tempo?"
   ]
  },
  {
   "cell_type": "code",
   "execution_count": 10,
   "metadata": {},
   "outputs": [
    {
     "data": {
      "text/html": [
       "<div>\n",
       "<style scoped>\n",
       "    .dataframe tbody tr th:only-of-type {\n",
       "        vertical-align: middle;\n",
       "    }\n",
       "\n",
       "    .dataframe tbody tr th {\n",
       "        vertical-align: top;\n",
       "    }\n",
       "\n",
       "    .dataframe thead th {\n",
       "        text-align: right;\n",
       "    }\n",
       "</style>\n",
       "<table border=\"1\" class=\"dataframe\">\n",
       "  <thead>\n",
       "    <tr style=\"text-align: right;\">\n",
       "      <th></th>\n",
       "      <th>year</th>\n",
       "      <th>songtitle</th>\n",
       "      <th>artistname</th>\n",
       "    </tr>\n",
       "  </thead>\n",
       "  <tbody>\n",
       "    <tr>\n",
       "      <th>6205</th>\n",
       "      <td>1995</td>\n",
       "      <td>Wanna Be Startin' Somethin'</td>\n",
       "      <td>Michael Jackson</td>\n",
       "    </tr>\n",
       "  </tbody>\n",
       "</table>\n",
       "</div>"
      ],
      "text/plain": [
       "      year                    songtitle       artistname\n",
       "6205  1995  Wanna Be Startin' Somethin'  Michael Jackson"
      ]
     },
     "execution_count": 10,
     "metadata": {},
     "output_type": "execute_result"
    }
   ],
   "source": [
    "songs[songs[\"tempo\"]==songs[\"tempo\"].max()][[\"year\", \"songtitle\", \"artistname\"]]"
   ]
  },
  {
   "cell_type": "markdown",
   "metadata": {},
   "source": [
    "### Creating our Prediction Model"
   ]
  },
  {
   "cell_type": "markdown",
   "metadata": {},
   "source": [
    "We wish to predict whether or not a song will make it to the Top 10. To do this, first use the subset function to split the data into a training set \"SongsTrain\" consisting of all observations up to and including 2009 song release, and a testing set \"SongsTest\", consisting of the 2010 song releases. How many observations (songs) are in the training set?"
   ]
  },
  {
   "cell_type": "code",
   "execution_count": 11,
   "metadata": {},
   "outputs": [
    {
     "data": {
      "text/plain": [
       "7201"
      ]
     },
     "execution_count": 11,
     "metadata": {},
     "output_type": "execute_result"
    }
   ],
   "source": [
    "SongsTrain = songs[songs[\"year\"]<=2009]\n",
    "SongsTest = songs[songs[\"year\"]==2010]\n",
    "\n",
    "len(SongsTrain)"
   ]
  },
  {
   "cell_type": "markdown",
   "metadata": {},
   "source": [
    "In this problem, our outcome variable is \"Top10\" - we are trying to predict whether or not a song will make it to the Top 10 of the Billboard Hot 100 Chart. Since the outcome variable is binary, we will build a logistic regression model. We will start by using all songs attributes as our independent variables, which we will call Model 1.\n",
    "\n",
    "We will only use the variables in our dataset that describe the numerical attributes of the song in our logistic regression model. So we whould not use the variables \"year\", \"songtitle\", \"artistname\", \"songID\" or \"artistID\".\n"
   ]
  },
  {
   "cell_type": "code",
   "execution_count": 12,
   "metadata": {},
   "outputs": [],
   "source": [
    "features = ['timesignature', 'timesignature_confidence', 'loudness', 'tempo',\n",
    "       'tempo_confidence', 'key', 'key_confidence', 'energy', 'pitch',\n",
    "       'timbre_0_min', 'timbre_0_max', 'timbre_1_min', 'timbre_1_max',\n",
    "       'timbre_2_min', 'timbre_2_max', 'timbre_3_min', 'timbre_3_max',\n",
    "       'timbre_4_min', 'timbre_4_max', 'timbre_5_min', 'timbre_5_max',\n",
    "       'timbre_6_min', 'timbre_6_max', 'timbre_7_min', 'timbre_7_max',\n",
    "       'timbre_8_min', 'timbre_8_max', 'timbre_9_min', 'timbre_9_max',\n",
    "       'timbre_10_min', 'timbre_10_max', 'timbre_11_min', 'timbre_11_max',\n",
    "       'Top10']"
   ]
  },
  {
   "cell_type": "code",
   "execution_count": 13,
   "metadata": {},
   "outputs": [],
   "source": [
    "SongsTrain = SongsTrain[features]\n",
    "SongsTest = SongsTest[features]"
   ]
  },
  {
   "cell_type": "markdown",
   "metadata": {},
   "source": [
    "Now we build a logistic regression model to predict Top10 using all of the other variables as independent variables and \"SongsTrain\" dataset."
   ]
  },
  {
   "cell_type": "markdown",
   "metadata": {},
   "source": [
    "#### Logistic Regression\n",
    "We consider the problem of predicting a binary response $Y$ using multiple $p$ predictors $X_{1}, X_{2}, ..., X_{p}$. Logistic regression models the probability that $Y$ belongs to a particular category.\n",
    "\n",
    "\\begin{equation}\n",
    "p(X)=Pr(Y=1|X)\n",
    "\\end{equation}\n",
    "\n",
    "For convinience we are using the generic $0/1$ coding for response. In logistic regression, we use the logistic function\n",
    "\n",
    "\\begin{equation}\n",
    "p(X)=\\frac{e^{\\beta_{0}+\\beta_{1}X_{1}+...+\\beta_{p}X_{p}}}{1+e^{\\beta_{0}+\\beta_{1}X_{1}+...+\\beta_{p}X_{p}}}\n",
    "\\end{equation}\n",
    "\n",
    "We use the maximum likelihood method to estimate $\\beta_{0},\\beta_{1},...\\beta_{p}$. See [[1]](#Reference) for more details."
   ]
  },
  {
   "cell_type": "code",
   "execution_count": 14,
   "metadata": {},
   "outputs": [
    {
     "name": "stdout",
     "output_type": "stream",
     "text": [
      "Optimization terminated successfully.\n",
      "         Current function value: 0.330451\n",
      "         Iterations 8\n"
     ]
    },
    {
     "name": "stderr",
     "output_type": "stream",
     "text": [
      "C:\\Users\\Olena\\Conda\\lib\\site-packages\\numpy\\core\\fromnumeric.py:2389: FutureWarning: Method .ptp is deprecated and will be removed in a future version. Use numpy.ptp instead.\n",
      "  return ptp(axis=axis, out=out, **kwargs)\n"
     ]
    },
    {
     "data": {
      "text/html": [
       "<table class=\"simpletable\">\n",
       "<caption>Logit Regression Results</caption>\n",
       "<tr>\n",
       "  <th>Dep. Variable:</th>         <td>Top10</td>      <th>  No. Observations:  </th>   <td>  7201</td>  \n",
       "</tr>\n",
       "<tr>\n",
       "  <th>Model:</th>                 <td>Logit</td>      <th>  Df Residuals:      </th>   <td>  7167</td>  \n",
       "</tr>\n",
       "<tr>\n",
       "  <th>Method:</th>                 <td>MLE</td>       <th>  Df Model:          </th>   <td>    33</td>  \n",
       "</tr>\n",
       "<tr>\n",
       "  <th>Date:</th>            <td>Thu, 29 Aug 2019</td> <th>  Pseudo R-squ.:     </th>   <td>0.2091</td>  \n",
       "</tr>\n",
       "<tr>\n",
       "  <th>Time:</th>                <td>19:56:09</td>     <th>  Log-Likelihood:    </th>  <td> -2379.6</td> \n",
       "</tr>\n",
       "<tr>\n",
       "  <th>converged:</th>             <td>True</td>       <th>  LL-Null:           </th>  <td> -3008.8</td> \n",
       "</tr>\n",
       "<tr>\n",
       "  <th>Covariance Type:</th>     <td>nonrobust</td>    <th>  LLR p-value:       </th> <td>2.683e-243</td>\n",
       "</tr>\n",
       "</table>\n",
       "<table class=\"simpletable\">\n",
       "<tr>\n",
       "              <td></td>                <th>coef</th>     <th>std err</th>      <th>z</th>      <th>P>|z|</th>  <th>[0.025</th>    <th>0.975]</th>  \n",
       "</tr>\n",
       "<tr>\n",
       "  <th>const</th>                    <td>   14.7000</td> <td>    1.806</td> <td>    8.138</td> <td> 0.000</td> <td>   11.160</td> <td>   18.240</td>\n",
       "</tr>\n",
       "<tr>\n",
       "  <th>timesignature</th>            <td>    0.1264</td> <td>    0.087</td> <td>    1.457</td> <td> 0.145</td> <td>   -0.044</td> <td>    0.296</td>\n",
       "</tr>\n",
       "<tr>\n",
       "  <th>timesignature_confidence</th> <td>    0.7450</td> <td>    0.195</td> <td>    3.814</td> <td> 0.000</td> <td>    0.362</td> <td>    1.128</td>\n",
       "</tr>\n",
       "<tr>\n",
       "  <th>loudness</th>                 <td>    0.2999</td> <td>    0.029</td> <td>   10.282</td> <td> 0.000</td> <td>    0.243</td> <td>    0.357</td>\n",
       "</tr>\n",
       "<tr>\n",
       "  <th>tempo</th>                    <td>    0.0004</td> <td>    0.002</td> <td>    0.215</td> <td> 0.830</td> <td>   -0.003</td> <td>    0.004</td>\n",
       "</tr>\n",
       "<tr>\n",
       "  <th>tempo_confidence</th>         <td>    0.4732</td> <td>    0.142</td> <td>    3.328</td> <td> 0.001</td> <td>    0.195</td> <td>    0.752</td>\n",
       "</tr>\n",
       "<tr>\n",
       "  <th>key</th>                      <td>    0.0159</td> <td>    0.010</td> <td>    1.529</td> <td> 0.126</td> <td>   -0.004</td> <td>    0.036</td>\n",
       "</tr>\n",
       "<tr>\n",
       "  <th>key_confidence</th>           <td>    0.3087</td> <td>    0.141</td> <td>    2.187</td> <td> 0.029</td> <td>    0.032</td> <td>    0.585</td>\n",
       "</tr>\n",
       "<tr>\n",
       "  <th>energy</th>                   <td>   -1.5021</td> <td>    0.310</td> <td>   -4.847</td> <td> 0.000</td> <td>   -2.110</td> <td>   -0.895</td>\n",
       "</tr>\n",
       "<tr>\n",
       "  <th>pitch</th>                    <td>  -44.9077</td> <td>    6.835</td> <td>   -6.570</td> <td> 0.000</td> <td>  -58.304</td> <td>  -31.511</td>\n",
       "</tr>\n",
       "<tr>\n",
       "  <th>timbre_0_min</th>             <td>    0.0232</td> <td>    0.004</td> <td>    5.441</td> <td> 0.000</td> <td>    0.015</td> <td>    0.032</td>\n",
       "</tr>\n",
       "<tr>\n",
       "  <th>timbre_0_max</th>             <td>   -0.3310</td> <td>    0.026</td> <td>  -12.882</td> <td> 0.000</td> <td>   -0.381</td> <td>   -0.281</td>\n",
       "</tr>\n",
       "<tr>\n",
       "  <th>timbre_1_min</th>             <td>    0.0059</td> <td>    0.001</td> <td>    7.542</td> <td> 0.000</td> <td>    0.004</td> <td>    0.007</td>\n",
       "</tr>\n",
       "<tr>\n",
       "  <th>timbre_1_max</th>             <td>   -0.0002</td> <td>    0.001</td> <td>   -0.342</td> <td> 0.732</td> <td>   -0.002</td> <td>    0.001</td>\n",
       "</tr>\n",
       "<tr>\n",
       "  <th>timbre_2_min</th>             <td>   -0.0021</td> <td>    0.001</td> <td>   -1.889</td> <td> 0.059</td> <td>   -0.004</td> <td> 7.95e-05</td>\n",
       "</tr>\n",
       "<tr>\n",
       "  <th>timbre_2_max</th>             <td>    0.0007</td> <td>    0.001</td> <td>    0.726</td> <td> 0.468</td> <td>   -0.001</td> <td>    0.002</td>\n",
       "</tr>\n",
       "<tr>\n",
       "  <th>timbre_3_min</th>             <td>    0.0007</td> <td>    0.001</td> <td>    1.156</td> <td> 0.248</td> <td>   -0.000</td> <td>    0.002</td>\n",
       "</tr>\n",
       "<tr>\n",
       "  <th>timbre_3_max</th>             <td>   -0.0030</td> <td>    0.001</td> <td>   -5.103</td> <td> 0.000</td> <td>   -0.004</td> <td>   -0.002</td>\n",
       "</tr>\n",
       "<tr>\n",
       "  <th>timbre_4_min</th>             <td>    0.0104</td> <td>    0.002</td> <td>    5.237</td> <td> 0.000</td> <td>    0.007</td> <td>    0.014</td>\n",
       "</tr>\n",
       "<tr>\n",
       "  <th>timbre_4_max</th>             <td>    0.0061</td> <td>    0.002</td> <td>    3.942</td> <td> 0.000</td> <td>    0.003</td> <td>    0.009</td>\n",
       "</tr>\n",
       "<tr>\n",
       "  <th>timbre_5_min</th>             <td>   -0.0056</td> <td>    0.001</td> <td>   -4.385</td> <td> 0.000</td> <td>   -0.008</td> <td>   -0.003</td>\n",
       "</tr>\n",
       "<tr>\n",
       "  <th>timbre_5_max</th>             <td> 7.736e-05</td> <td>    0.001</td> <td>    0.097</td> <td> 0.922</td> <td>   -0.001</td> <td>    0.002</td>\n",
       "</tr>\n",
       "<tr>\n",
       "  <th>timbre_6_min</th>             <td>   -0.0169</td> <td>    0.002</td> <td>   -7.445</td> <td> 0.000</td> <td>   -0.021</td> <td>   -0.012</td>\n",
       "</tr>\n",
       "<tr>\n",
       "  <th>timbre_6_max</th>             <td>    0.0037</td> <td>    0.002</td> <td>    1.675</td> <td> 0.094</td> <td>   -0.001</td> <td>    0.008</td>\n",
       "</tr>\n",
       "<tr>\n",
       "  <th>timbre_7_min</th>             <td>   -0.0045</td> <td>    0.002</td> <td>   -2.554</td> <td> 0.011</td> <td>   -0.008</td> <td>   -0.001</td>\n",
       "</tr>\n",
       "<tr>\n",
       "  <th>timbre_7_max</th>             <td>   -0.0038</td> <td>    0.002</td> <td>   -2.060</td> <td> 0.039</td> <td>   -0.007</td> <td>   -0.000</td>\n",
       "</tr>\n",
       "<tr>\n",
       "  <th>timbre_8_min</th>             <td>    0.0039</td> <td>    0.003</td> <td>    1.372</td> <td> 0.170</td> <td>   -0.002</td> <td>    0.009</td>\n",
       "</tr>\n",
       "<tr>\n",
       "  <th>timbre_8_max</th>             <td>    0.0040</td> <td>    0.003</td> <td>    1.336</td> <td> 0.182</td> <td>   -0.002</td> <td>    0.010</td>\n",
       "</tr>\n",
       "<tr>\n",
       "  <th>timbre_9_min</th>             <td>    0.0014</td> <td>    0.003</td> <td>    0.456</td> <td> 0.648</td> <td>   -0.005</td> <td>    0.007</td>\n",
       "</tr>\n",
       "<tr>\n",
       "  <th>timbre_9_max</th>             <td>    0.0016</td> <td>    0.002</td> <td>    0.659</td> <td> 0.510</td> <td>   -0.003</td> <td>    0.006</td>\n",
       "</tr>\n",
       "<tr>\n",
       "  <th>timbre_10_min</th>            <td>    0.0041</td> <td>    0.002</td> <td>    2.244</td> <td> 0.025</td> <td>    0.001</td> <td>    0.008</td>\n",
       "</tr>\n",
       "<tr>\n",
       "  <th>timbre_10_max</th>            <td>    0.0058</td> <td>    0.002</td> <td>    3.292</td> <td> 0.001</td> <td>    0.002</td> <td>    0.009</td>\n",
       "</tr>\n",
       "<tr>\n",
       "  <th>timbre_11_min</th>            <td>   -0.0263</td> <td>    0.004</td> <td>   -7.108</td> <td> 0.000</td> <td>   -0.033</td> <td>   -0.019</td>\n",
       "</tr>\n",
       "<tr>\n",
       "  <th>timbre_11_max</th>            <td>    0.0197</td> <td>    0.003</td> <td>    5.811</td> <td> 0.000</td> <td>    0.013</td> <td>    0.026</td>\n",
       "</tr>\n",
       "</table>"
      ],
      "text/plain": [
       "<class 'statsmodels.iolib.summary.Summary'>\n",
       "\"\"\"\n",
       "                           Logit Regression Results                           \n",
       "==============================================================================\n",
       "Dep. Variable:                  Top10   No. Observations:                 7201\n",
       "Model:                          Logit   Df Residuals:                     7167\n",
       "Method:                           MLE   Df Model:                           33\n",
       "Date:                Thu, 29 Aug 2019   Pseudo R-squ.:                  0.2091\n",
       "Time:                        19:56:09   Log-Likelihood:                -2379.6\n",
       "converged:                       True   LL-Null:                       -3008.8\n",
       "Covariance Type:            nonrobust   LLR p-value:                2.683e-243\n",
       "============================================================================================\n",
       "                               coef    std err          z      P>|z|      [0.025      0.975]\n",
       "--------------------------------------------------------------------------------------------\n",
       "const                       14.7000      1.806      8.138      0.000      11.160      18.240\n",
       "timesignature                0.1264      0.087      1.457      0.145      -0.044       0.296\n",
       "timesignature_confidence     0.7450      0.195      3.814      0.000       0.362       1.128\n",
       "loudness                     0.2999      0.029     10.282      0.000       0.243       0.357\n",
       "tempo                        0.0004      0.002      0.215      0.830      -0.003       0.004\n",
       "tempo_confidence             0.4732      0.142      3.328      0.001       0.195       0.752\n",
       "key                          0.0159      0.010      1.529      0.126      -0.004       0.036\n",
       "key_confidence               0.3087      0.141      2.187      0.029       0.032       0.585\n",
       "energy                      -1.5021      0.310     -4.847      0.000      -2.110      -0.895\n",
       "pitch                      -44.9077      6.835     -6.570      0.000     -58.304     -31.511\n",
       "timbre_0_min                 0.0232      0.004      5.441      0.000       0.015       0.032\n",
       "timbre_0_max                -0.3310      0.026    -12.882      0.000      -0.381      -0.281\n",
       "timbre_1_min                 0.0059      0.001      7.542      0.000       0.004       0.007\n",
       "timbre_1_max                -0.0002      0.001     -0.342      0.732      -0.002       0.001\n",
       "timbre_2_min                -0.0021      0.001     -1.889      0.059      -0.004    7.95e-05\n",
       "timbre_2_max                 0.0007      0.001      0.726      0.468      -0.001       0.002\n",
       "timbre_3_min                 0.0007      0.001      1.156      0.248      -0.000       0.002\n",
       "timbre_3_max                -0.0030      0.001     -5.103      0.000      -0.004      -0.002\n",
       "timbre_4_min                 0.0104      0.002      5.237      0.000       0.007       0.014\n",
       "timbre_4_max                 0.0061      0.002      3.942      0.000       0.003       0.009\n",
       "timbre_5_min                -0.0056      0.001     -4.385      0.000      -0.008      -0.003\n",
       "timbre_5_max              7.736e-05      0.001      0.097      0.922      -0.001       0.002\n",
       "timbre_6_min                -0.0169      0.002     -7.445      0.000      -0.021      -0.012\n",
       "timbre_6_max                 0.0037      0.002      1.675      0.094      -0.001       0.008\n",
       "timbre_7_min                -0.0045      0.002     -2.554      0.011      -0.008      -0.001\n",
       "timbre_7_max                -0.0038      0.002     -2.060      0.039      -0.007      -0.000\n",
       "timbre_8_min                 0.0039      0.003      1.372      0.170      -0.002       0.009\n",
       "timbre_8_max                 0.0040      0.003      1.336      0.182      -0.002       0.010\n",
       "timbre_9_min                 0.0014      0.003      0.456      0.648      -0.005       0.007\n",
       "timbre_9_max                 0.0016      0.002      0.659      0.510      -0.003       0.006\n",
       "timbre_10_min                0.0041      0.002      2.244      0.025       0.001       0.008\n",
       "timbre_10_max                0.0058      0.002      3.292      0.001       0.002       0.009\n",
       "timbre_11_min               -0.0263      0.004     -7.108      0.000      -0.033      -0.019\n",
       "timbre_11_max                0.0197      0.003      5.811      0.000       0.013       0.026\n",
       "============================================================================================\n",
       "\"\"\""
      ]
     },
     "execution_count": 14,
     "metadata": {},
     "output_type": "execute_result"
    }
   ],
   "source": [
    "from statsmodels.api import add_constant\n",
    "from statsmodels.discrete.discrete_model import Logit, DiscreteResults\n",
    "\n",
    "X_train = SongsTrain[['timesignature', 'timesignature_confidence', 'loudness', 'tempo',\n",
    "       'tempo_confidence', 'key', 'key_confidence', 'energy', 'pitch',\n",
    "       'timbre_0_min', 'timbre_0_max', 'timbre_1_min', 'timbre_1_max',\n",
    "       'timbre_2_min', 'timbre_2_max', 'timbre_3_min', 'timbre_3_max',\n",
    "       'timbre_4_min', 'timbre_4_max', 'timbre_5_min', 'timbre_5_max',\n",
    "       'timbre_6_min', 'timbre_6_max', 'timbre_7_min', 'timbre_7_max',\n",
    "       'timbre_8_min', 'timbre_8_max', 'timbre_9_min', 'timbre_9_max',\n",
    "       'timbre_10_min', 'timbre_10_max', 'timbre_11_min', 'timbre_11_max']]\n",
    "\n",
    "y_train = SongsTrain[\"Top10\"]\n",
    "\n",
    "X_train = add_constant(X_train) # for intersept in model\n",
    "\n",
    "logit_mod = Logit(y_train, X_train)\n",
    "logit_res = logit_mod.fit()\n",
    "\n",
    "logit_res.summary()"
   ]
  },
  {
   "cell_type": "markdown",
   "metadata": {},
   "source": [
    "What is the value of Akaike Information Criterion (AIC)?"
   ]
  },
  {
   "cell_type": "code",
   "execution_count": 15,
   "metadata": {},
   "outputs": [
    {
     "data": {
      "text/plain": [
       "4827.154102388616"
      ]
     },
     "execution_count": 15,
     "metadata": {},
     "output_type": "execute_result"
    }
   ],
   "source": [
    "DiscreteResults.aic(logit_res)"
   ]
  },
  {
   "cell_type": "markdown",
   "metadata": {},
   "source": [
    "Let us now think about the variables in our datasets related to the confidence of the time signature, key and tempo (timesignature_confidence, key_confidence, and tempo_confidence). Our model seems to indicate that these confidence variables are significant (rather than the variables timesignature, key, and tempo). So the model suggests that the higher our confidence about time signature, key and tempo, the more likely the song is to be in the Top 10."
   ]
  },
  {
   "cell_type": "markdown",
   "metadata": {},
   "source": [
    "In general, if the confidence is low for time signature, tempo, and key, then the song is more likely to be complex. Our model suggests that mainstream listeners tend to preffer less complex songs."
   ]
  },
  {
   "cell_type": "markdown",
   "metadata": {},
   "source": [
    "Songs with heavier instrumentation tend to be louder (have higher values in the variable \"loudness\") and more energetic (have higher values in variable \"energy\"). By inspecting the coefficient of the variable \"loudness\", our model suggests that mainstream listeners prefer songs with heavy instrumentation."
   ]
  },
  {
   "cell_type": "markdown",
   "metadata": {},
   "source": [
    "### Beware of multicollinearity issues"
   ]
  },
  {
   "cell_type": "markdown",
   "metadata": {},
   "source": [
    "What is the correlation between the variables \"loudness\" and \"energy\" in the training set?"
   ]
  },
  {
   "cell_type": "code",
   "execution_count": 16,
   "metadata": {},
   "outputs": [
    {
     "data": {
      "text/html": [
       "<div>\n",
       "<style scoped>\n",
       "    .dataframe tbody tr th:only-of-type {\n",
       "        vertical-align: middle;\n",
       "    }\n",
       "\n",
       "    .dataframe tbody tr th {\n",
       "        vertical-align: top;\n",
       "    }\n",
       "\n",
       "    .dataframe thead th {\n",
       "        text-align: right;\n",
       "    }\n",
       "</style>\n",
       "<table border=\"1\" class=\"dataframe\">\n",
       "  <thead>\n",
       "    <tr style=\"text-align: right;\">\n",
       "      <th></th>\n",
       "      <th>loudness</th>\n",
       "      <th>energy</th>\n",
       "    </tr>\n",
       "  </thead>\n",
       "  <tbody>\n",
       "    <tr>\n",
       "      <th>loudness</th>\n",
       "      <td>1.000000</td>\n",
       "      <td>0.739907</td>\n",
       "    </tr>\n",
       "    <tr>\n",
       "      <th>energy</th>\n",
       "      <td>0.739907</td>\n",
       "      <td>1.000000</td>\n",
       "    </tr>\n",
       "  </tbody>\n",
       "</table>\n",
       "</div>"
      ],
      "text/plain": [
       "          loudness    energy\n",
       "loudness  1.000000  0.739907\n",
       "energy    0.739907  1.000000"
      ]
     },
     "execution_count": 16,
     "metadata": {},
     "output_type": "execute_result"
    }
   ],
   "source": [
    "SongsTrain[[\"loudness\",\"energy\"]].corr()"
   ]
  },
  {
   "cell_type": "markdown",
   "metadata": {},
   "source": [
    "Given taht these two variables are highly correlated, the model sudders from multicillinearity. to avoid this issue, we will ommit one of these two variables and rerun logistic regression."
   ]
  },
  {
   "cell_type": "markdown",
   "metadata": {},
   "source": [
    "Model 2 without variable \"loudness\"."
   ]
  },
  {
   "cell_type": "code",
   "execution_count": 17,
   "metadata": {},
   "outputs": [
    {
     "name": "stdout",
     "output_type": "stream",
     "text": [
      "Optimization terminated successfully.\n",
      "         Current function value: 0.338276\n",
      "         Iterations 8\n"
     ]
    },
    {
     "data": {
      "text/html": [
       "<table class=\"simpletable\">\n",
       "<caption>Logit Regression Results</caption>\n",
       "<tr>\n",
       "  <th>Dep. Variable:</th>         <td>Top10</td>      <th>  No. Observations:  </th>   <td>  7201</td>  \n",
       "</tr>\n",
       "<tr>\n",
       "  <th>Model:</th>                 <td>Logit</td>      <th>  Df Residuals:      </th>   <td>  7168</td>  \n",
       "</tr>\n",
       "<tr>\n",
       "  <th>Method:</th>                 <td>MLE</td>       <th>  Df Model:          </th>   <td>    32</td>  \n",
       "</tr>\n",
       "<tr>\n",
       "  <th>Date:</th>            <td>Thu, 29 Aug 2019</td> <th>  Pseudo R-squ.:     </th>   <td>0.1904</td>  \n",
       "</tr>\n",
       "<tr>\n",
       "  <th>Time:</th>                <td>19:56:10</td>     <th>  Log-Likelihood:    </th>  <td> -2435.9</td> \n",
       "</tr>\n",
       "<tr>\n",
       "  <th>converged:</th>             <td>True</td>       <th>  LL-Null:           </th>  <td> -3008.8</td> \n",
       "</tr>\n",
       "<tr>\n",
       "  <th>Covariance Type:</th>     <td>nonrobust</td>    <th>  LLR p-value:       </th> <td>3.082e-220</td>\n",
       "</tr>\n",
       "</table>\n",
       "<table class=\"simpletable\">\n",
       "<tr>\n",
       "              <td></td>                <th>coef</th>     <th>std err</th>      <th>z</th>      <th>P>|z|</th>  <th>[0.025</th>    <th>0.975]</th>  \n",
       "</tr>\n",
       "<tr>\n",
       "  <th>const</th>                    <td>   -2.2406</td> <td>    0.746</td> <td>   -3.002</td> <td> 0.003</td> <td>   -3.704</td> <td>   -0.778</td>\n",
       "</tr>\n",
       "<tr>\n",
       "  <th>timesignature</th>            <td>    0.1625</td> <td>    0.087</td> <td>    1.860</td> <td> 0.063</td> <td>   -0.009</td> <td>    0.334</td>\n",
       "</tr>\n",
       "<tr>\n",
       "  <th>timesignature_confidence</th> <td>    0.6885</td> <td>    0.192</td> <td>    3.578</td> <td> 0.000</td> <td>    0.311</td> <td>    1.066</td>\n",
       "</tr>\n",
       "<tr>\n",
       "  <th>tempo</th>                    <td>    0.0006</td> <td>    0.002</td> <td>    0.332</td> <td> 0.740</td> <td>   -0.003</td> <td>    0.004</td>\n",
       "</tr>\n",
       "<tr>\n",
       "  <th>tempo_confidence</th>         <td>    0.5497</td> <td>    0.141</td> <td>    3.906</td> <td> 0.000</td> <td>    0.274</td> <td>    0.825</td>\n",
       "</tr>\n",
       "<tr>\n",
       "  <th>key</th>                      <td>    0.0174</td> <td>    0.010</td> <td>    1.697</td> <td> 0.090</td> <td>   -0.003</td> <td>    0.038</td>\n",
       "</tr>\n",
       "<tr>\n",
       "  <th>key_confidence</th>           <td>    0.2954</td> <td>    0.139</td> <td>    2.118</td> <td> 0.034</td> <td>    0.022</td> <td>    0.569</td>\n",
       "</tr>\n",
       "<tr>\n",
       "  <th>energy</th>                   <td>    0.1813</td> <td>    0.261</td> <td>    0.695</td> <td> 0.487</td> <td>   -0.330</td> <td>    0.692</td>\n",
       "</tr>\n",
       "<tr>\n",
       "  <th>pitch</th>                    <td>  -51.4986</td> <td>    6.857</td> <td>   -7.511</td> <td> 0.000</td> <td>  -64.937</td> <td>  -38.060</td>\n",
       "</tr>\n",
       "<tr>\n",
       "  <th>timbre_0_min</th>             <td>    0.0248</td> <td>    0.004</td> <td>    5.847</td> <td> 0.000</td> <td>    0.016</td> <td>    0.033</td>\n",
       "</tr>\n",
       "<tr>\n",
       "  <th>timbre_0_max</th>             <td>   -0.1007</td> <td>    0.012</td> <td>   -8.551</td> <td> 0.000</td> <td>   -0.124</td> <td>   -0.078</td>\n",
       "</tr>\n",
       "<tr>\n",
       "  <th>timbre_1_min</th>             <td>    0.0071</td> <td>    0.001</td> <td>    9.265</td> <td> 0.000</td> <td>    0.006</td> <td>    0.009</td>\n",
       "</tr>\n",
       "<tr>\n",
       "  <th>timbre_1_max</th>             <td>   -0.0008</td> <td>    0.001</td> <td>   -1.108</td> <td> 0.268</td> <td>   -0.002</td> <td>    0.001</td>\n",
       "</tr>\n",
       "<tr>\n",
       "  <th>timbre_2_min</th>             <td>   -0.0016</td> <td>    0.001</td> <td>   -1.424</td> <td> 0.155</td> <td>   -0.004</td> <td>    0.001</td>\n",
       "</tr>\n",
       "<tr>\n",
       "  <th>timbre_2_max</th>             <td>    0.0004</td> <td>    0.001</td> <td>    0.434</td> <td> 0.664</td> <td>   -0.001</td> <td>    0.002</td>\n",
       "</tr>\n",
       "<tr>\n",
       "  <th>timbre_3_min</th>             <td>    0.0007</td> <td>    0.001</td> <td>    1.093</td> <td> 0.275</td> <td>   -0.001</td> <td>    0.002</td>\n",
       "</tr>\n",
       "<tr>\n",
       "  <th>timbre_3_max</th>             <td>   -0.0025</td> <td>    0.001</td> <td>   -4.339</td> <td> 0.000</td> <td>   -0.004</td> <td>   -0.001</td>\n",
       "</tr>\n",
       "<tr>\n",
       "  <th>timbre_4_min</th>             <td>    0.0091</td> <td>    0.002</td> <td>    4.670</td> <td> 0.000</td> <td>    0.005</td> <td>    0.013</td>\n",
       "</tr>\n",
       "<tr>\n",
       "  <th>timbre_4_max</th>             <td>    0.0063</td> <td>    0.002</td> <td>    4.115</td> <td> 0.000</td> <td>    0.003</td> <td>    0.009</td>\n",
       "</tr>\n",
       "<tr>\n",
       "  <th>timbre_5_min</th>             <td>   -0.0056</td> <td>    0.001</td> <td>   -4.495</td> <td> 0.000</td> <td>   -0.008</td> <td>   -0.003</td>\n",
       "</tr>\n",
       "<tr>\n",
       "  <th>timbre_5_max</th>             <td>    0.0007</td> <td>    0.001</td> <td>    0.889</td> <td> 0.374</td> <td>   -0.001</td> <td>    0.002</td>\n",
       "</tr>\n",
       "<tr>\n",
       "  <th>timbre_6_min</th>             <td>   -0.0161</td> <td>    0.002</td> <td>   -7.214</td> <td> 0.000</td> <td>   -0.021</td> <td>   -0.012</td>\n",
       "</tr>\n",
       "<tr>\n",
       "  <th>timbre_6_max</th>             <td>    0.0038</td> <td>    0.002</td> <td>    1.768</td> <td> 0.077</td> <td>   -0.000</td> <td>    0.008</td>\n",
       "</tr>\n",
       "<tr>\n",
       "  <th>timbre_7_min</th>             <td>   -0.0051</td> <td>    0.002</td> <td>   -2.907</td> <td> 0.004</td> <td>   -0.009</td> <td>   -0.002</td>\n",
       "</tr>\n",
       "<tr>\n",
       "  <th>timbre_7_max</th>             <td>   -0.0032</td> <td>    0.002</td> <td>   -1.744</td> <td> 0.081</td> <td>   -0.007</td> <td>    0.000</td>\n",
       "</tr>\n",
       "<tr>\n",
       "  <th>timbre_8_min</th>             <td>    0.0045</td> <td>    0.003</td> <td>    1.597</td> <td> 0.110</td> <td>   -0.001</td> <td>    0.010</td>\n",
       "</tr>\n",
       "<tr>\n",
       "  <th>timbre_8_max</th>             <td>    0.0064</td> <td>    0.003</td> <td>    2.177</td> <td> 0.029</td> <td>    0.001</td> <td>    0.012</td>\n",
       "</tr>\n",
       "<tr>\n",
       "  <th>timbre_9_min</th>             <td>   -0.0004</td> <td>    0.003</td> <td>   -0.145</td> <td> 0.885</td> <td>   -0.006</td> <td>    0.005</td>\n",
       "</tr>\n",
       "<tr>\n",
       "  <th>timbre_9_max</th>             <td>    0.0035</td> <td>    0.002</td> <td>    1.483</td> <td> 0.138</td> <td>   -0.001</td> <td>    0.008</td>\n",
       "</tr>\n",
       "<tr>\n",
       "  <th>timbre_10_min</th>            <td>    0.0030</td> <td>    0.002</td> <td>    1.660</td> <td> 0.097</td> <td>   -0.001</td> <td>    0.007</td>\n",
       "</tr>\n",
       "<tr>\n",
       "  <th>timbre_10_max</th>            <td>    0.0074</td> <td>    0.002</td> <td>    4.255</td> <td> 0.000</td> <td>    0.004</td> <td>    0.011</td>\n",
       "</tr>\n",
       "<tr>\n",
       "  <th>timbre_11_min</th>            <td>   -0.0284</td> <td>    0.004</td> <td>   -7.815</td> <td> 0.000</td> <td>   -0.035</td> <td>   -0.021</td>\n",
       "</tr>\n",
       "<tr>\n",
       "  <th>timbre_11_max</th>            <td>    0.0183</td> <td>    0.003</td> <td>    5.476</td> <td> 0.000</td> <td>    0.012</td> <td>    0.025</td>\n",
       "</tr>\n",
       "</table>"
      ],
      "text/plain": [
       "<class 'statsmodels.iolib.summary.Summary'>\n",
       "\"\"\"\n",
       "                           Logit Regression Results                           \n",
       "==============================================================================\n",
       "Dep. Variable:                  Top10   No. Observations:                 7201\n",
       "Model:                          Logit   Df Residuals:                     7168\n",
       "Method:                           MLE   Df Model:                           32\n",
       "Date:                Thu, 29 Aug 2019   Pseudo R-squ.:                  0.1904\n",
       "Time:                        19:56:10   Log-Likelihood:                -2435.9\n",
       "converged:                       True   LL-Null:                       -3008.8\n",
       "Covariance Type:            nonrobust   LLR p-value:                3.082e-220\n",
       "============================================================================================\n",
       "                               coef    std err          z      P>|z|      [0.025      0.975]\n",
       "--------------------------------------------------------------------------------------------\n",
       "const                       -2.2406      0.746     -3.002      0.003      -3.704      -0.778\n",
       "timesignature                0.1625      0.087      1.860      0.063      -0.009       0.334\n",
       "timesignature_confidence     0.6885      0.192      3.578      0.000       0.311       1.066\n",
       "tempo                        0.0006      0.002      0.332      0.740      -0.003       0.004\n",
       "tempo_confidence             0.5497      0.141      3.906      0.000       0.274       0.825\n",
       "key                          0.0174      0.010      1.697      0.090      -0.003       0.038\n",
       "key_confidence               0.2954      0.139      2.118      0.034       0.022       0.569\n",
       "energy                       0.1813      0.261      0.695      0.487      -0.330       0.692\n",
       "pitch                      -51.4986      6.857     -7.511      0.000     -64.937     -38.060\n",
       "timbre_0_min                 0.0248      0.004      5.847      0.000       0.016       0.033\n",
       "timbre_0_max                -0.1007      0.012     -8.551      0.000      -0.124      -0.078\n",
       "timbre_1_min                 0.0071      0.001      9.265      0.000       0.006       0.009\n",
       "timbre_1_max                -0.0008      0.001     -1.108      0.268      -0.002       0.001\n",
       "timbre_2_min                -0.0016      0.001     -1.424      0.155      -0.004       0.001\n",
       "timbre_2_max                 0.0004      0.001      0.434      0.664      -0.001       0.002\n",
       "timbre_3_min                 0.0007      0.001      1.093      0.275      -0.001       0.002\n",
       "timbre_3_max                -0.0025      0.001     -4.339      0.000      -0.004      -0.001\n",
       "timbre_4_min                 0.0091      0.002      4.670      0.000       0.005       0.013\n",
       "timbre_4_max                 0.0063      0.002      4.115      0.000       0.003       0.009\n",
       "timbre_5_min                -0.0056      0.001     -4.495      0.000      -0.008      -0.003\n",
       "timbre_5_max                 0.0007      0.001      0.889      0.374      -0.001       0.002\n",
       "timbre_6_min                -0.0161      0.002     -7.214      0.000      -0.021      -0.012\n",
       "timbre_6_max                 0.0038      0.002      1.768      0.077      -0.000       0.008\n",
       "timbre_7_min                -0.0051      0.002     -2.907      0.004      -0.009      -0.002\n",
       "timbre_7_max                -0.0032      0.002     -1.744      0.081      -0.007       0.000\n",
       "timbre_8_min                 0.0045      0.003      1.597      0.110      -0.001       0.010\n",
       "timbre_8_max                 0.0064      0.003      2.177      0.029       0.001       0.012\n",
       "timbre_9_min                -0.0004      0.003     -0.145      0.885      -0.006       0.005\n",
       "timbre_9_max                 0.0035      0.002      1.483      0.138      -0.001       0.008\n",
       "timbre_10_min                0.0030      0.002      1.660      0.097      -0.001       0.007\n",
       "timbre_10_max                0.0074      0.002      4.255      0.000       0.004       0.011\n",
       "timbre_11_min               -0.0284      0.004     -7.815      0.000      -0.035      -0.021\n",
       "timbre_11_max                0.0183      0.003      5.476      0.000       0.012       0.025\n",
       "============================================================================================\n",
       "\"\"\""
      ]
     },
     "execution_count": 17,
     "metadata": {},
     "output_type": "execute_result"
    }
   ],
   "source": [
    "X_train = SongsTrain[['timesignature', 'timesignature_confidence', 'tempo',\n",
    "       'tempo_confidence', 'key', 'key_confidence', 'energy', 'pitch',\n",
    "       'timbre_0_min', 'timbre_0_max', 'timbre_1_min', 'timbre_1_max',\n",
    "       'timbre_2_min', 'timbre_2_max', 'timbre_3_min', 'timbre_3_max',\n",
    "       'timbre_4_min', 'timbre_4_max', 'timbre_5_min', 'timbre_5_max',\n",
    "       'timbre_6_min', 'timbre_6_max', 'timbre_7_min', 'timbre_7_max',\n",
    "       'timbre_8_min', 'timbre_8_max', 'timbre_9_min', 'timbre_9_max',\n",
    "       'timbre_10_min', 'timbre_10_max', 'timbre_11_min', 'timbre_11_max']]\n",
    "\n",
    "y_train = SongsTrain[\"Top10\"]\n",
    "\n",
    "X_train = add_constant(X_train) # for intersept in model\n",
    "\n",
    "logit_mod2 = Logit(y_train, X_train)\n",
    "logit_res2 = logit_mod2.fit()\n",
    "\n",
    "logit_res2.summary()"
   ]
  },
  {
   "cell_type": "code",
   "execution_count": 18,
   "metadata": {},
   "outputs": [
    {
     "name": "stdout",
     "output_type": "stream",
     "text": [
      "Optimization terminated successfully.\n",
      "         Current function value: 0.332087\n",
      "         Iterations 8\n"
     ]
    },
    {
     "data": {
      "text/html": [
       "<table class=\"simpletable\">\n",
       "<caption>Logit Regression Results</caption>\n",
       "<tr>\n",
       "  <th>Dep. Variable:</th>         <td>Top10</td>      <th>  No. Observations:  </th>   <td>  7201</td>  \n",
       "</tr>\n",
       "<tr>\n",
       "  <th>Model:</th>                 <td>Logit</td>      <th>  Df Residuals:      </th>   <td>  7168</td>  \n",
       "</tr>\n",
       "<tr>\n",
       "  <th>Method:</th>                 <td>MLE</td>       <th>  Df Model:          </th>   <td>    32</td>  \n",
       "</tr>\n",
       "<tr>\n",
       "  <th>Date:</th>            <td>Thu, 29 Aug 2019</td> <th>  Pseudo R-squ.:     </th>   <td>0.2052</td>  \n",
       "</tr>\n",
       "<tr>\n",
       "  <th>Time:</th>                <td>19:56:10</td>     <th>  Log-Likelihood:    </th>  <td> -2391.4</td> \n",
       "</tr>\n",
       "<tr>\n",
       "  <th>converged:</th>             <td>True</td>       <th>  LL-Null:           </th>  <td> -3008.8</td> \n",
       "</tr>\n",
       "<tr>\n",
       "  <th>Covariance Type:</th>     <td>nonrobust</td>    <th>  LLR p-value:       </th> <td>4.186e-239</td>\n",
       "</tr>\n",
       "</table>\n",
       "<table class=\"simpletable\">\n",
       "<tr>\n",
       "              <td></td>                <th>coef</th>     <th>std err</th>      <th>z</th>      <th>P>|z|</th>  <th>[0.025</th>    <th>0.975]</th>  \n",
       "</tr>\n",
       "<tr>\n",
       "  <th>const</th>                    <td>   11.9606</td> <td>    1.714</td> <td>    6.977</td> <td> 0.000</td> <td>    8.601</td> <td>   15.320</td>\n",
       "</tr>\n",
       "<tr>\n",
       "  <th>timesignature</th>            <td>    0.1151</td> <td>    0.087</td> <td>    1.319</td> <td> 0.187</td> <td>   -0.056</td> <td>    0.286</td>\n",
       "</tr>\n",
       "<tr>\n",
       "  <th>timesignature_confidence</th> <td>    0.7143</td> <td>    0.195</td> <td>    3.670</td> <td> 0.000</td> <td>    0.333</td> <td>    1.096</td>\n",
       "</tr>\n",
       "<tr>\n",
       "  <th>loudness</th>                 <td>    0.2306</td> <td>    0.025</td> <td>    9.120</td> <td> 0.000</td> <td>    0.181</td> <td>    0.280</td>\n",
       "</tr>\n",
       "<tr>\n",
       "  <th>tempo</th>                    <td>   -0.0006</td> <td>    0.002</td> <td>   -0.388</td> <td> 0.698</td> <td>   -0.004</td> <td>    0.003</td>\n",
       "</tr>\n",
       "<tr>\n",
       "  <th>tempo_confidence</th>         <td>    0.3841</td> <td>    0.140</td> <td>    2.747</td> <td> 0.006</td> <td>    0.110</td> <td>    0.658</td>\n",
       "</tr>\n",
       "<tr>\n",
       "  <th>key</th>                      <td>    0.0165</td> <td>    0.010</td> <td>    1.593</td> <td> 0.111</td> <td>   -0.004</td> <td>    0.037</td>\n",
       "</tr>\n",
       "<tr>\n",
       "  <th>key_confidence</th>           <td>    0.3394</td> <td>    0.141</td> <td>    2.409</td> <td> 0.016</td> <td>    0.063</td> <td>    0.616</td>\n",
       "</tr>\n",
       "<tr>\n",
       "  <th>pitch</th>                    <td>  -53.2841</td> <td>    6.733</td> <td>   -7.914</td> <td> 0.000</td> <td>  -66.480</td> <td>  -40.088</td>\n",
       "</tr>\n",
       "<tr>\n",
       "  <th>timbre_0_min</th>             <td>    0.0220</td> <td>    0.004</td> <td>    5.200</td> <td> 0.000</td> <td>    0.014</td> <td>    0.030</td>\n",
       "</tr>\n",
       "<tr>\n",
       "  <th>timbre_0_max</th>             <td>   -0.3105</td> <td>    0.025</td> <td>  -12.240</td> <td> 0.000</td> <td>   -0.360</td> <td>   -0.261</td>\n",
       "</tr>\n",
       "<tr>\n",
       "  <th>timbre_1_min</th>             <td>    0.0054</td> <td>    0.001</td> <td>    7.086</td> <td> 0.000</td> <td>    0.004</td> <td>    0.007</td>\n",
       "</tr>\n",
       "<tr>\n",
       "  <th>timbre_1_max</th>             <td>   -0.0005</td> <td>    0.001</td> <td>   -0.719</td> <td> 0.472</td> <td>   -0.002</td> <td>    0.001</td>\n",
       "</tr>\n",
       "<tr>\n",
       "  <th>timbre_2_min</th>             <td>   -0.0023</td> <td>    0.001</td> <td>   -2.012</td> <td> 0.044</td> <td>   -0.004</td> <td>-5.86e-05</td>\n",
       "</tr>\n",
       "<tr>\n",
       "  <th>timbre_2_max</th>             <td>    0.0004</td> <td>    0.001</td> <td>    0.457</td> <td> 0.648</td> <td>   -0.001</td> <td>    0.002</td>\n",
       "</tr>\n",
       "<tr>\n",
       "  <th>timbre_3_min</th>             <td>    0.0003</td> <td>    0.001</td> <td>    0.542</td> <td> 0.588</td> <td>   -0.001</td> <td>    0.001</td>\n",
       "</tr>\n",
       "<tr>\n",
       "  <th>timbre_3_max</th>             <td>   -0.0030</td> <td>    0.001</td> <td>   -5.147</td> <td> 0.000</td> <td>   -0.004</td> <td>   -0.002</td>\n",
       "</tr>\n",
       "<tr>\n",
       "  <th>timbre_4_min</th>             <td>    0.0110</td> <td>    0.002</td> <td>    5.585</td> <td> 0.000</td> <td>    0.007</td> <td>    0.015</td>\n",
       "</tr>\n",
       "<tr>\n",
       "  <th>timbre_4_max</th>             <td>    0.0065</td> <td>    0.002</td> <td>    4.196</td> <td> 0.000</td> <td>    0.003</td> <td>    0.009</td>\n",
       "</tr>\n",
       "<tr>\n",
       "  <th>timbre_5_min</th>             <td>   -0.0051</td> <td>    0.001</td> <td>   -4.046</td> <td> 0.000</td> <td>   -0.008</td> <td>   -0.003</td>\n",
       "</tr>\n",
       "<tr>\n",
       "  <th>timbre_5_max</th>             <td>    0.0003</td> <td>    0.001</td> <td>    0.379</td> <td> 0.705</td> <td>   -0.001</td> <td>    0.002</td>\n",
       "</tr>\n",
       "<tr>\n",
       "  <th>timbre_6_min</th>             <td>   -0.0178</td> <td>    0.002</td> <td>   -7.945</td> <td> 0.000</td> <td>   -0.022</td> <td>   -0.013</td>\n",
       "</tr>\n",
       "<tr>\n",
       "  <th>timbre_6_max</th>             <td>    0.0034</td> <td>    0.002</td> <td>    1.580</td> <td> 0.114</td> <td>   -0.001</td> <td>    0.008</td>\n",
       "</tr>\n",
       "<tr>\n",
       "  <th>timbre_7_min</th>             <td>   -0.0051</td> <td>    0.002</td> <td>   -2.900</td> <td> 0.004</td> <td>   -0.009</td> <td>   -0.002</td>\n",
       "</tr>\n",
       "<tr>\n",
       "  <th>timbre_7_max</th>             <td>   -0.0034</td> <td>    0.002</td> <td>   -1.865</td> <td> 0.062</td> <td>   -0.007</td> <td>    0.000</td>\n",
       "</tr>\n",
       "<tr>\n",
       "  <th>timbre_8_min</th>             <td>    0.0037</td> <td>    0.003</td> <td>    1.301</td> <td> 0.193</td> <td>   -0.002</td> <td>    0.009</td>\n",
       "</tr>\n",
       "<tr>\n",
       "  <th>timbre_8_max</th>             <td>    0.0047</td> <td>    0.003</td> <td>    1.559</td> <td> 0.119</td> <td>   -0.001</td> <td>    0.011</td>\n",
       "</tr>\n",
       "<tr>\n",
       "  <th>timbre_9_min</th>             <td>-9.318e-05</td> <td>    0.003</td> <td>   -0.032</td> <td> 0.975</td> <td>   -0.006</td> <td>    0.006</td>\n",
       "</tr>\n",
       "<tr>\n",
       "  <th>timbre_9_max</th>             <td>    0.0013</td> <td>    0.002</td> <td>    0.554</td> <td> 0.580</td> <td>   -0.003</td> <td>    0.006</td>\n",
       "</tr>\n",
       "<tr>\n",
       "  <th>timbre_10_min</th>            <td>    0.0041</td> <td>    0.002</td> <td>    2.217</td> <td> 0.027</td> <td>    0.000</td> <td>    0.008</td>\n",
       "</tr>\n",
       "<tr>\n",
       "  <th>timbre_10_max</th>            <td>    0.0058</td> <td>    0.002</td> <td>    3.294</td> <td> 0.001</td> <td>    0.002</td> <td>    0.009</td>\n",
       "</tr>\n",
       "<tr>\n",
       "  <th>timbre_11_min</th>            <td>   -0.0264</td> <td>    0.004</td> <td>   -7.162</td> <td> 0.000</td> <td>   -0.034</td> <td>   -0.019</td>\n",
       "</tr>\n",
       "<tr>\n",
       "  <th>timbre_11_max</th>            <td>    0.0198</td> <td>    0.003</td> <td>    5.896</td> <td> 0.000</td> <td>    0.013</td> <td>    0.026</td>\n",
       "</tr>\n",
       "</table>"
      ],
      "text/plain": [
       "<class 'statsmodels.iolib.summary.Summary'>\n",
       "\"\"\"\n",
       "                           Logit Regression Results                           \n",
       "==============================================================================\n",
       "Dep. Variable:                  Top10   No. Observations:                 7201\n",
       "Model:                          Logit   Df Residuals:                     7168\n",
       "Method:                           MLE   Df Model:                           32\n",
       "Date:                Thu, 29 Aug 2019   Pseudo R-squ.:                  0.2052\n",
       "Time:                        19:56:10   Log-Likelihood:                -2391.4\n",
       "converged:                       True   LL-Null:                       -3008.8\n",
       "Covariance Type:            nonrobust   LLR p-value:                4.186e-239\n",
       "============================================================================================\n",
       "                               coef    std err          z      P>|z|      [0.025      0.975]\n",
       "--------------------------------------------------------------------------------------------\n",
       "const                       11.9606      1.714      6.977      0.000       8.601      15.320\n",
       "timesignature                0.1151      0.087      1.319      0.187      -0.056       0.286\n",
       "timesignature_confidence     0.7143      0.195      3.670      0.000       0.333       1.096\n",
       "loudness                     0.2306      0.025      9.120      0.000       0.181       0.280\n",
       "tempo                       -0.0006      0.002     -0.388      0.698      -0.004       0.003\n",
       "tempo_confidence             0.3841      0.140      2.747      0.006       0.110       0.658\n",
       "key                          0.0165      0.010      1.593      0.111      -0.004       0.037\n",
       "key_confidence               0.3394      0.141      2.409      0.016       0.063       0.616\n",
       "pitch                      -53.2841      6.733     -7.914      0.000     -66.480     -40.088\n",
       "timbre_0_min                 0.0220      0.004      5.200      0.000       0.014       0.030\n",
       "timbre_0_max                -0.3105      0.025    -12.240      0.000      -0.360      -0.261\n",
       "timbre_1_min                 0.0054      0.001      7.086      0.000       0.004       0.007\n",
       "timbre_1_max                -0.0005      0.001     -0.719      0.472      -0.002       0.001\n",
       "timbre_2_min                -0.0023      0.001     -2.012      0.044      -0.004   -5.86e-05\n",
       "timbre_2_max                 0.0004      0.001      0.457      0.648      -0.001       0.002\n",
       "timbre_3_min                 0.0003      0.001      0.542      0.588      -0.001       0.001\n",
       "timbre_3_max                -0.0030      0.001     -5.147      0.000      -0.004      -0.002\n",
       "timbre_4_min                 0.0110      0.002      5.585      0.000       0.007       0.015\n",
       "timbre_4_max                 0.0065      0.002      4.196      0.000       0.003       0.009\n",
       "timbre_5_min                -0.0051      0.001     -4.046      0.000      -0.008      -0.003\n",
       "timbre_5_max                 0.0003      0.001      0.379      0.705      -0.001       0.002\n",
       "timbre_6_min                -0.0178      0.002     -7.945      0.000      -0.022      -0.013\n",
       "timbre_6_max                 0.0034      0.002      1.580      0.114      -0.001       0.008\n",
       "timbre_7_min                -0.0051      0.002     -2.900      0.004      -0.009      -0.002\n",
       "timbre_7_max                -0.0034      0.002     -1.865      0.062      -0.007       0.000\n",
       "timbre_8_min                 0.0037      0.003      1.301      0.193      -0.002       0.009\n",
       "timbre_8_max                 0.0047      0.003      1.559      0.119      -0.001       0.011\n",
       "timbre_9_min             -9.318e-05      0.003     -0.032      0.975      -0.006       0.006\n",
       "timbre_9_max                 0.0013      0.002      0.554      0.580      -0.003       0.006\n",
       "timbre_10_min                0.0041      0.002      2.217      0.027       0.000       0.008\n",
       "timbre_10_max                0.0058      0.002      3.294      0.001       0.002       0.009\n",
       "timbre_11_min               -0.0264      0.004     -7.162      0.000      -0.034      -0.019\n",
       "timbre_11_max                0.0198      0.003      5.896      0.000       0.013       0.026\n",
       "============================================================================================\n",
       "\"\"\""
      ]
     },
     "execution_count": 18,
     "metadata": {},
     "output_type": "execute_result"
    }
   ],
   "source": [
    "from statsmodels.api import add_constant\n",
    "from statsmodels.discrete.discrete_model import Logit, DiscreteResults\n",
    "\n",
    "X_train = SongsTrain[['timesignature', 'timesignature_confidence', 'loudness', 'tempo',\n",
    "       'tempo_confidence', 'key', 'key_confidence', 'pitch',\n",
    "       'timbre_0_min', 'timbre_0_max', 'timbre_1_min', 'timbre_1_max',\n",
    "       'timbre_2_min', 'timbre_2_max', 'timbre_3_min', 'timbre_3_max',\n",
    "       'timbre_4_min', 'timbre_4_max', 'timbre_5_min', 'timbre_5_max',\n",
    "       'timbre_6_min', 'timbre_6_max', 'timbre_7_min', 'timbre_7_max',\n",
    "       'timbre_8_min', 'timbre_8_max', 'timbre_9_min', 'timbre_9_max',\n",
    "       'timbre_10_min', 'timbre_10_max', 'timbre_11_min', 'timbre_11_max']]\n",
    "\n",
    "y_train = SongsTrain[\"Top10\"]\n",
    "\n",
    "X_train = add_constant(X_train) # for intersept in model\n",
    "\n",
    "logit_mod3 = Logit(y_train, X_train)\n",
    "logit_res3 = logit_mod3.fit()\n",
    "\n",
    "logit_res3.summary()"
   ]
  },
  {
   "cell_type": "markdown",
   "metadata": {},
   "source": [
    "We make predictions on the test set using Model 3."
   ]
  },
  {
   "cell_type": "code",
   "execution_count": 19,
   "metadata": {},
   "outputs": [],
   "source": [
    "X_test = SongsTest[['timesignature', 'timesignature_confidence', 'loudness', 'tempo',\n",
    "       'tempo_confidence', 'key', 'key_confidence', 'pitch',\n",
    "       'timbre_0_min', 'timbre_0_max', 'timbre_1_min', 'timbre_1_max',\n",
    "       'timbre_2_min', 'timbre_2_max', 'timbre_3_min', 'timbre_3_max',\n",
    "       'timbre_4_min', 'timbre_4_max', 'timbre_5_min', 'timbre_5_max',\n",
    "       'timbre_6_min', 'timbre_6_max', 'timbre_7_min', 'timbre_7_max',\n",
    "       'timbre_8_min', 'timbre_8_max', 'timbre_9_min', 'timbre_9_max',\n",
    "       'timbre_10_min', 'timbre_10_max', 'timbre_11_min', 'timbre_11_max']]\n",
    "\n",
    "X_test = add_constant(X_test) # for intersept in model\n",
    "\n",
    "y_test = SongsTest[\"Top10\"]\n",
    "\n",
    "Top10Pred = logit_res3.predict(X_test)"
   ]
  },
  {
   "cell_type": "markdown",
   "metadata": {},
   "source": [
    "#### Confusion Matrix\n",
    "A binary classifier can make two types of errors: positive cases that were incorrectly identified as negative and negative cases that were incorrectly identified as positive. Performance of such classifier is evaluated using the _confusion matrix_\n",
    "\n",
    "\n",
    "$$\\begin{matrix}\n",
    "   Actual/Predicted\\\\\n",
    "   \\begin{matrix}\n",
    "   & No & Yes\\\\\n",
    "   No & a & b\\\\\n",
    "   Yes & c & d\n",
    "   \\end{matrix} \n",
    "\\end{matrix} $$\n",
    "\n",
    "#### Accuracy\n",
    "\n",
    "- $a, d$ are the numbers of _correct_ predictions of negative/positive examples\n",
    "- $b, c$ are the numbers of _incorrect_ predictions of negative/positive examples\n",
    "- The _accuracy_ is the proportion of the predictions that are correct\n",
    "$$ \\frac{a+d}{a+b+c+d} $$\n",
    "\n",
    "#### True Positive Rate, False Positive Rate\n",
    "\n",
    "- True positive rate is a proportion of positive cases that were correctly identify\n",
    "$$ TP = \\frac{d}{d+c}$$\n",
    "- False positive rate is a proportion of negative cases that were incorrectly identify\n",
    "$$ FP = \\frac{b}{a+b}$$\n",
    "- True negative rate is a proportion of negative cases that were correctly identify\n",
    "$$ TN = \\frac{a}{a+b}$$\n",
    "- False negative rate is a proportion of positive cases that were incorrectly identify\n",
    "$$ FN = \\frac{c}{d+c}$$\n",
    "- $Sensitivity = TP, Specificity = TN = 1-FP$\n",
    "\n",
    "#### The ROC\n",
    "\n",
    "- The ROC curve is a graphic for displaying the two types of errors for all possible _thresholds_\n",
    "$$ Pr(Y=\"Yes\"|X=x)>threshold$$\n",
    "- _Threshold_ is the cutoff imposed on the predicted probabilities for assigning observation to each class\n",
    "\n",
    "#### The ROC, AUC\n",
    "\n",
    "The overall performance of a classifier is given by the area under the ROC curve (AUC). An ideal ROC curve will hug the top left corner, so the larger the AUC the better classifier.\n"
   ]
  },
  {
   "cell_type": "markdown",
   "metadata": {},
   "source": [
    "Confussion matrix"
   ]
  },
  {
   "cell_type": "code",
   "execution_count": 20,
   "metadata": {},
   "outputs": [
    {
     "data": {
      "text/html": [
       "<div>\n",
       "<style scoped>\n",
       "    .dataframe tbody tr th:only-of-type {\n",
       "        vertical-align: middle;\n",
       "    }\n",
       "\n",
       "    .dataframe tbody tr th {\n",
       "        vertical-align: top;\n",
       "    }\n",
       "\n",
       "    .dataframe thead th {\n",
       "        text-align: right;\n",
       "    }\n",
       "</style>\n",
       "<table border=\"1\" class=\"dataframe\">\n",
       "  <thead>\n",
       "    <tr style=\"text-align: right;\">\n",
       "      <th>Top10Pred</th>\n",
       "      <th>False</th>\n",
       "      <th>True</th>\n",
       "    </tr>\n",
       "    <tr>\n",
       "      <th>Top10</th>\n",
       "      <th></th>\n",
       "      <th></th>\n",
       "    </tr>\n",
       "  </thead>\n",
       "  <tbody>\n",
       "    <tr>\n",
       "      <th>0</th>\n",
       "      <td>309</td>\n",
       "      <td>5</td>\n",
       "    </tr>\n",
       "    <tr>\n",
       "      <th>1</th>\n",
       "      <td>40</td>\n",
       "      <td>19</td>\n",
       "    </tr>\n",
       "  </tbody>\n",
       "</table>\n",
       "</div>"
      ],
      "text/plain": [
       "Top10Pred  False  True \n",
       "Top10                  \n",
       "0            309      5\n",
       "1             40     19"
      ]
     },
     "execution_count": 20,
     "metadata": {},
     "output_type": "execute_result"
    }
   ],
   "source": [
    "pd.crosstab(y_test, Top10Pred >= 0.45, colnames=[\"Top10Pred\"])"
   ]
  },
  {
   "cell_type": "markdown",
   "metadata": {},
   "source": [
    "What is the accuracy of the Model 3 on the test, using a threshold of 0.45?"
   ]
  },
  {
   "cell_type": "code",
   "execution_count": 21,
   "metadata": {},
   "outputs": [
    {
     "data": {
      "text/plain": [
       "0.8793565683646113"
      ]
     },
     "execution_count": 21,
     "metadata": {},
     "output_type": "execute_result"
    }
   ],
   "source": [
    "(y_test==(Top10Pred >= 0.45)).mean()"
   ]
  },
  {
   "cell_type": "markdown",
   "metadata": {},
   "source": [
    "Let us check if there is any incremental benefit in using Model 3 instead of a baseline model (most frequent outcome). What whould the accuracy of the baseline model be on the test set?"
   ]
  },
  {
   "cell_type": "code",
   "execution_count": 22,
   "metadata": {},
   "outputs": [
    {
     "data": {
      "text/plain": [
       "0    0.841823\n",
       "1    0.158177\n",
       "Name: Top10, dtype: float64"
      ]
     },
     "execution_count": 22,
     "metadata": {},
     "output_type": "execute_result"
    }
   ],
   "source": [
    "(y_test.value_counts()/len(y_test))"
   ]
  },
  {
   "cell_type": "markdown",
   "metadata": {},
   "source": [
    "It seems that Model 3 gives us a small improvment over baseline model. Still, does it create an edge?"
   ]
  },
  {
   "cell_type": "markdown",
   "metadata": {},
   "source": [
    "Let us  view the two models from investment perspective. A production company is interested in i9nvesting in songs that are highly likely to make it to the Top 10. The company's objective is to minimize its risk of finansial losses attributed to investing in songs that end up unpopular.\n",
    "\n",
    "A competetive edge can therefore be achieved if we can provide the production company a list of songs that are highly likely to end up in the Top 10. We note that the baseline model does not prove useful, as it simply does not label any songs as a hit. Let us see what our model has to offer."
   ]
  },
  {
   "cell_type": "markdown",
   "metadata": {},
   "source": [
    "How many songs does Model 3 correctly predict (remember that all songs in 2010 went into our test set), using a threshold of 0.45?"
   ]
  },
  {
   "cell_type": "code",
   "execution_count": 23,
   "metadata": {},
   "outputs": [
    {
     "data": {
      "text/plain": [
       "328"
      ]
     },
     "execution_count": 23,
     "metadata": {},
     "output_type": "execute_result"
    }
   ],
   "source": [
    "(y_test==(Top10Pred >= 0.45)).sum()"
   ]
  },
  {
   "cell_type": "markdown",
   "metadata": {},
   "source": [
    "What is the sensitivity of Model 3 on the test set, using a threshold of 0.45?"
   ]
  },
  {
   "cell_type": "code",
   "execution_count": 24,
   "metadata": {},
   "outputs": [],
   "source": [
    "from sklearn.metrics import roc_curve\n",
    "fpr, tpr, thresholds = roc_curve(y_test, Top10Pred, drop_intermediate=False)"
   ]
  },
  {
   "cell_type": "code",
   "execution_count": 25,
   "metadata": {},
   "outputs": [],
   "source": [
    "#thresholds"
   ]
  },
  {
   "cell_type": "code",
   "execution_count": 26,
   "metadata": {},
   "outputs": [],
   "source": [
    "#tpr"
   ]
  },
  {
   "cell_type": "markdown",
   "metadata": {},
   "source": [
    "What is the spesificity of Model 3 on the test set, using a threshold of 0.45?"
   ]
  },
  {
   "cell_type": "code",
   "execution_count": 27,
   "metadata": {},
   "outputs": [],
   "source": [
    "#1 - fpr"
   ]
  },
  {
   "cell_type": "code",
   "execution_count": 34,
   "metadata": {},
   "outputs": [
    {
     "data": {
      "text/plain": [
       "0.85"
      ]
     },
     "execution_count": 34,
     "metadata": {},
     "output_type": "execute_result"
    }
   ],
   "source": [
    "from sklearn.metrics import roc_auc_score\n",
    "roc_auc=roc_auc_score(y_test, Top10Pred)\n",
    "roc_auc"
   ]
  },
  {
   "cell_type": "code",
   "execution_count": 35,
   "metadata": {},
   "outputs": [
    {
     "data": {
      "image/png": "[encoded data removed]",
      "text/plain": [
       "<Figure size 432x288 with 1 Axes>"
      ]
     },
     "metadata": {},
     "output_type": "display_data"
    }
   ],
   "source": [
    "plt.title('Receiver Operating Curve')\n",
    "plt.plot(fpr, tpr, 'b', label = f\"AUC ={round(roc_auc,2)}\" )\n",
    "plt.legend(loc = 'lower right')\n",
    "plt.plot([0, 1], [0, 1],'r--')\n",
    "plt.xlim([-0.01, 1.01])\n",
    "plt.ylim([0, 1.01])\n",
    "plt.ylabel('True Positive Rate')\n",
    "plt.xlabel('False Positive Rate')\n",
    "plt.show()"
   ]
  },
  {
   "cell_type": "markdown",
   "metadata": {},
   "source": [
    "### Reference\n",
    "\n",
    "1. [Gareth James, Daniela Witten, Trevor Hastie, Robert Tibshirani, An Introduction to Statistical Learning with Applications in R, 2013.](http://faculty.marshall.usc.edu/gareth-james/ISL/)"
   ]
  }
 ],
 "metadata": {
  "kernelspec": {
   "display_name": "Python 3 (Spyder)",
   "language": "python3",
   "name": "python3"
  },
  "language_info": {
   "codemirror_mode": {
    "name": "ipython",
    "version": 3
   },
   "file_extension": ".py",
   "mimetype": "text/x-python",
   "name": "python",
   "nbconvert_exporter": "python",
   "pygments_lexer": "ipython3",
   "version": "3.7.3"
  }
 },
 "nbformat": 4,
 "nbformat_minor": 2
}
