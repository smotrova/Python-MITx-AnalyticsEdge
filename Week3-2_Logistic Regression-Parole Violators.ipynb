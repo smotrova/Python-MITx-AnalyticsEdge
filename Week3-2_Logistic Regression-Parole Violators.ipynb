{
 "cells": [
  {
   "cell_type": "markdown",
   "metadata": {},
   "source": [
    "# Predicting Parole Violators"
   ]
  },
  {
   "cell_type": "markdown",
   "metadata": {},
   "source": [
    "In many criminal justice systems around the world, inmates deemed not to be a threat to society are released from prison under the parole system prior to completing their sentence. They are still considered to be serving their sentence while on parole, and they can be returned to prison if they violate the terms of their parole.\n",
    "\n",
    "Parole boards are charged with identifying which inmates are good candidates for release on parole. They seek to release inmates who will not commit additional crimes after release. In this problem, we will build and validate a model that predicts if an inmate will violate the terms of his or her parole. Such a model could be useful to a parole board when deciding to approve or deny an application for parole.\n",
    "\n",
    "For this prediction task, we will use data from the [United States 2004 National Corrections Reporting Program](http://www.icpsr.umich.edu/icpsrweb/NACJD/series/38/studies/26521?archive=NACJD&sortBy=7), a nationwide census of parole releases that occurred during 2004. We limited our focus to parolees who served no more than 6 months in prison and whose maximum sentence for all charges did not exceed 18 months. The dataset contains all such parolees who either successfully completed their term of parole during 2004 or those who violated the terms of their parole during that year. The dataset contains the following variables:\n",
    "\n",
    "__male__: 1 if the parolee is male, 0 if female\n",
    "\n",
    "__race__: 1 if the parolee is white, 2 otherwise\n",
    "\n",
    "__age__: the parolee's age (in years) when he or she was released from prison\n",
    "\n",
    "__state__: a code for the parolee's state. 2 is Kentucky, 3 is Louisiana, 4 is Virginia, and 1 is any other state. The three states were selected due to having a high representation in the dataset.\n",
    "\n",
    "__time.served__: the number of months the parolee served in prison (limited by the inclusion criteria to not exceed 6 months).\n",
    "\n",
    "__max.sentence__: the maximum sentence length for all charges, in months (limited by the inclusion criteria to not exceed 18 months).\n",
    "\n",
    "__multiple.offenses__: 1 if the parolee was incarcerated for multiple offenses, 0 otherwise.\n",
    "\n",
    "__crime__: a code for the parolee's main crime leading to incarceration. 2 is larceny, 3 is drug-related crime, 4 is driving-related crime, and 1 is any other crime.\n",
    "\n",
    "__violator__: 1 if the parolee violated the parole, and 0 if the parolee completed the parole without violation."
   ]
  },
  {
   "cell_type": "markdown",
   "metadata": {},
   "source": [
    "### Loading and understanding data "
   ]
  },
  {
   "cell_type": "code",
   "execution_count": 1,
   "metadata": {},
   "outputs": [],
   "source": [
    "import numpy as np\n",
    "import pandas as pd\n",
    "import matplotlib.pyplot as plt"
   ]
  },
  {
   "cell_type": "code",
   "execution_count": 2,
   "metadata": {},
   "outputs": [],
   "source": [
    "parole = pd.read_csv(\"./Data/parole.csv\")"
   ]
  },
  {
   "cell_type": "code",
   "execution_count": 3,
   "metadata": {},
   "outputs": [
    {
     "name": "stdout",
     "output_type": "stream",
     "text": [
      "<class 'pandas.core.frame.DataFrame'>\n",
      "RangeIndex: 675 entries, 0 to 674\n",
      "Data columns (total 9 columns):\n",
      "male                 675 non-null int64\n",
      "race                 675 non-null int64\n",
      "age                  675 non-null float64\n",
      "state                675 non-null int64\n",
      "time.served          675 non-null float64\n",
      "max.sentence         675 non-null int64\n",
      "multiple.offenses    675 non-null int64\n",
      "crime                675 non-null int64\n",
      "violator             675 non-null int64\n",
      "dtypes: float64(2), int64(7)\n",
      "memory usage: 47.6 KB\n"
     ]
    }
   ],
   "source": [
    "parole.info()"
   ]
  },
  {
   "cell_type": "code",
   "execution_count": 4,
   "metadata": {},
   "outputs": [
    {
     "data": {
      "text/html": [
       "<div>\n",
       "<style scoped>\n",
       "    .dataframe tbody tr th:only-of-type {\n",
       "        vertical-align: middle;\n",
       "    }\n",
       "\n",
       "    .dataframe tbody tr th {\n",
       "        vertical-align: top;\n",
       "    }\n",
       "\n",
       "    .dataframe thead th {\n",
       "        text-align: right;\n",
       "    }\n",
       "</style>\n",
       "<table border=\"1\" class=\"dataframe\">\n",
       "  <thead>\n",
       "    <tr style=\"text-align: right;\">\n",
       "      <th></th>\n",
       "      <th>male</th>\n",
       "      <th>race</th>\n",
       "      <th>age</th>\n",
       "      <th>state</th>\n",
       "      <th>time.served</th>\n",
       "      <th>max.sentence</th>\n",
       "      <th>multiple.offenses</th>\n",
       "      <th>crime</th>\n",
       "      <th>violator</th>\n",
       "    </tr>\n",
       "  </thead>\n",
       "  <tbody>\n",
       "    <tr>\n",
       "      <th>count</th>\n",
       "      <td>675.000000</td>\n",
       "      <td>675.000000</td>\n",
       "      <td>675.000000</td>\n",
       "      <td>675.000000</td>\n",
       "      <td>675.000000</td>\n",
       "      <td>675.000000</td>\n",
       "      <td>675.000000</td>\n",
       "      <td>675.000000</td>\n",
       "      <td>675.000000</td>\n",
       "    </tr>\n",
       "    <tr>\n",
       "      <th>mean</th>\n",
       "      <td>0.807407</td>\n",
       "      <td>1.423704</td>\n",
       "      <td>34.512296</td>\n",
       "      <td>2.887407</td>\n",
       "      <td>4.198074</td>\n",
       "      <td>13.056296</td>\n",
       "      <td>0.536296</td>\n",
       "      <td>2.059259</td>\n",
       "      <td>0.115556</td>\n",
       "    </tr>\n",
       "    <tr>\n",
       "      <th>std</th>\n",
       "      <td>0.394628</td>\n",
       "      <td>0.494511</td>\n",
       "      <td>10.351541</td>\n",
       "      <td>1.226224</td>\n",
       "      <td>1.226855</td>\n",
       "      <td>3.056797</td>\n",
       "      <td>0.499051</td>\n",
       "      <td>1.135892</td>\n",
       "      <td>0.319928</td>\n",
       "    </tr>\n",
       "    <tr>\n",
       "      <th>min</th>\n",
       "      <td>0.000000</td>\n",
       "      <td>1.000000</td>\n",
       "      <td>18.400000</td>\n",
       "      <td>1.000000</td>\n",
       "      <td>0.000000</td>\n",
       "      <td>1.000000</td>\n",
       "      <td>0.000000</td>\n",
       "      <td>1.000000</td>\n",
       "      <td>0.000000</td>\n",
       "    </tr>\n",
       "    <tr>\n",
       "      <th>25%</th>\n",
       "      <td>1.000000</td>\n",
       "      <td>1.000000</td>\n",
       "      <td>25.350000</td>\n",
       "      <td>2.000000</td>\n",
       "      <td>3.250000</td>\n",
       "      <td>12.000000</td>\n",
       "      <td>0.000000</td>\n",
       "      <td>1.000000</td>\n",
       "      <td>0.000000</td>\n",
       "    </tr>\n",
       "    <tr>\n",
       "      <th>50%</th>\n",
       "      <td>1.000000</td>\n",
       "      <td>1.000000</td>\n",
       "      <td>33.700000</td>\n",
       "      <td>3.000000</td>\n",
       "      <td>4.400000</td>\n",
       "      <td>12.000000</td>\n",
       "      <td>1.000000</td>\n",
       "      <td>2.000000</td>\n",
       "      <td>0.000000</td>\n",
       "    </tr>\n",
       "    <tr>\n",
       "      <th>75%</th>\n",
       "      <td>1.000000</td>\n",
       "      <td>2.000000</td>\n",
       "      <td>42.550000</td>\n",
       "      <td>4.000000</td>\n",
       "      <td>5.200000</td>\n",
       "      <td>15.000000</td>\n",
       "      <td>1.000000</td>\n",
       "      <td>3.000000</td>\n",
       "      <td>0.000000</td>\n",
       "    </tr>\n",
       "    <tr>\n",
       "      <th>max</th>\n",
       "      <td>1.000000</td>\n",
       "      <td>2.000000</td>\n",
       "      <td>67.000000</td>\n",
       "      <td>4.000000</td>\n",
       "      <td>6.000000</td>\n",
       "      <td>18.000000</td>\n",
       "      <td>1.000000</td>\n",
       "      <td>4.000000</td>\n",
       "      <td>1.000000</td>\n",
       "    </tr>\n",
       "  </tbody>\n",
       "</table>\n",
       "</div>"
      ],
      "text/plain": [
       "             male        race  ...       crime    violator\n",
       "count  675.000000  675.000000  ...  675.000000  675.000000\n",
       "mean     0.807407    1.423704  ...    2.059259    0.115556\n",
       "std      0.394628    0.494511  ...    1.135892    0.319928\n",
       "min      0.000000    1.000000  ...    1.000000    0.000000\n",
       "25%      1.000000    1.000000  ...    1.000000    0.000000\n",
       "50%      1.000000    1.000000  ...    2.000000    0.000000\n",
       "75%      1.000000    2.000000  ...    3.000000    0.000000\n",
       "max      1.000000    2.000000  ...    4.000000    1.000000\n",
       "\n",
       "[8 rows x 9 columns]"
      ]
     },
     "execution_count": 4,
     "metadata": {},
     "output_type": "execute_result"
    }
   ],
   "source": [
    "parole.describe()"
   ]
  },
  {
   "cell_type": "markdown",
   "metadata": {},
   "source": [
    "How many of the parolees in the dataset violated the terms of their parole?"
   ]
  },
  {
   "cell_type": "code",
   "execution_count": 5,
   "metadata": {},
   "outputs": [
    {
     "data": {
      "text/plain": [
       "0    597\n",
       "1     78\n",
       "Name: violator, dtype: int64"
      ]
     },
     "execution_count": 5,
     "metadata": {},
     "output_type": "execute_result"
    }
   ],
   "source": [
    "(parole[\"violator\"].value_counts())"
   ]
  },
  {
   "cell_type": "markdown",
   "metadata": {},
   "source": [
    "### Prepearing the Dataset"
   ]
  },
  {
   "cell_type": "markdown",
   "metadata": {},
   "source": [
    "Which variables in this dataset are unordered factors with at least three levels? "
   ]
  },
  {
   "cell_type": "markdown",
   "metadata": {},
   "source": [
    "`state`, `crime`"
   ]
  },
  {
   "cell_type": "markdown",
   "metadata": {},
   "source": [
    "In the last subproblem, we identified variables that are unordered factors with at least 3 levels, so we need to convert them to factors for our prediction problem. Keep in mind that we are not changing the values, the values are still numbers.\n",
    "\n",
    "How does the output of `describe()` change for a factor variable as compared to a numerical variable?"
   ]
  },
  {
   "cell_type": "code",
   "execution_count": 6,
   "metadata": {},
   "outputs": [],
   "source": [
    "dict_state = {1:\"other\", 2:\"Kentucky\", 3:\"Louisiana\", 4:\"Virginia\" }\n",
    "parole.loc[:, \"state\"] = parole[\"state\"].map(dict_state)\n",
    "\n",
    "dict_crime = {1:\"other\", 2:\"larceny\", 3:\"drug\", 4:\"driving\" }\n",
    "parole.loc[:, \"crime\"] = parole[\"crime\"].map(dict_crime)\n",
    "\n",
    "parole = pd.get_dummies(parole, columns =[\"state\", \"crime\"])"
   ]
  },
  {
   "cell_type": "code",
   "execution_count": 7,
   "metadata": {},
   "outputs": [
    {
     "data": {
      "text/html": [
       "<div>\n",
       "<style scoped>\n",
       "    .dataframe tbody tr th:only-of-type {\n",
       "        vertical-align: middle;\n",
       "    }\n",
       "\n",
       "    .dataframe tbody tr th {\n",
       "        vertical-align: top;\n",
       "    }\n",
       "\n",
       "    .dataframe thead th {\n",
       "        text-align: right;\n",
       "    }\n",
       "</style>\n",
       "<table border=\"1\" class=\"dataframe\">\n",
       "  <thead>\n",
       "    <tr style=\"text-align: right;\">\n",
       "      <th></th>\n",
       "      <th>male</th>\n",
       "      <th>race</th>\n",
       "      <th>age</th>\n",
       "      <th>time.served</th>\n",
       "      <th>max.sentence</th>\n",
       "      <th>multiple.offenses</th>\n",
       "      <th>violator</th>\n",
       "      <th>state_Kentucky</th>\n",
       "      <th>state_Louisiana</th>\n",
       "      <th>state_Virginia</th>\n",
       "      <th>state_other</th>\n",
       "      <th>crime_driving</th>\n",
       "      <th>crime_drug</th>\n",
       "      <th>crime_larceny</th>\n",
       "      <th>crime_other</th>\n",
       "    </tr>\n",
       "  </thead>\n",
       "  <tbody>\n",
       "    <tr>\n",
       "      <th>count</th>\n",
       "      <td>675.000000</td>\n",
       "      <td>675.000000</td>\n",
       "      <td>675.000000</td>\n",
       "      <td>675.000000</td>\n",
       "      <td>675.000000</td>\n",
       "      <td>675.000000</td>\n",
       "      <td>675.000000</td>\n",
       "      <td>675.000000</td>\n",
       "      <td>675.000000</td>\n",
       "      <td>675.000000</td>\n",
       "      <td>675.000000</td>\n",
       "      <td>675.000000</td>\n",
       "      <td>675.000000</td>\n",
       "      <td>675.000000</td>\n",
       "      <td>675.000000</td>\n",
       "    </tr>\n",
       "    <tr>\n",
       "      <th>mean</th>\n",
       "      <td>0.807407</td>\n",
       "      <td>1.423704</td>\n",
       "      <td>34.512296</td>\n",
       "      <td>4.198074</td>\n",
       "      <td>13.056296</td>\n",
       "      <td>0.536296</td>\n",
       "      <td>0.115556</td>\n",
       "      <td>0.177778</td>\n",
       "      <td>0.121481</td>\n",
       "      <td>0.488889</td>\n",
       "      <td>0.211852</td>\n",
       "      <td>0.149630</td>\n",
       "      <td>0.226667</td>\n",
       "      <td>0.157037</td>\n",
       "      <td>0.466667</td>\n",
       "    </tr>\n",
       "    <tr>\n",
       "      <th>std</th>\n",
       "      <td>0.394628</td>\n",
       "      <td>0.494511</td>\n",
       "      <td>10.351541</td>\n",
       "      <td>1.226855</td>\n",
       "      <td>3.056797</td>\n",
       "      <td>0.499051</td>\n",
       "      <td>0.319928</td>\n",
       "      <td>0.382609</td>\n",
       "      <td>0.326928</td>\n",
       "      <td>0.500247</td>\n",
       "      <td>0.408923</td>\n",
       "      <td>0.356973</td>\n",
       "      <td>0.418986</td>\n",
       "      <td>0.364105</td>\n",
       "      <td>0.499258</td>\n",
       "    </tr>\n",
       "    <tr>\n",
       "      <th>min</th>\n",
       "      <td>0.000000</td>\n",
       "      <td>1.000000</td>\n",
       "      <td>18.400000</td>\n",
       "      <td>0.000000</td>\n",
       "      <td>1.000000</td>\n",
       "      <td>0.000000</td>\n",
       "      <td>0.000000</td>\n",
       "      <td>0.000000</td>\n",
       "      <td>0.000000</td>\n",
       "      <td>0.000000</td>\n",
       "      <td>0.000000</td>\n",
       "      <td>0.000000</td>\n",
       "      <td>0.000000</td>\n",
       "      <td>0.000000</td>\n",
       "      <td>0.000000</td>\n",
       "    </tr>\n",
       "    <tr>\n",
       "      <th>25%</th>\n",
       "      <td>1.000000</td>\n",
       "      <td>1.000000</td>\n",
       "      <td>25.350000</td>\n",
       "      <td>3.250000</td>\n",
       "      <td>12.000000</td>\n",
       "      <td>0.000000</td>\n",
       "      <td>0.000000</td>\n",
       "      <td>0.000000</td>\n",
       "      <td>0.000000</td>\n",
       "      <td>0.000000</td>\n",
       "      <td>0.000000</td>\n",
       "      <td>0.000000</td>\n",
       "      <td>0.000000</td>\n",
       "      <td>0.000000</td>\n",
       "      <td>0.000000</td>\n",
       "    </tr>\n",
       "    <tr>\n",
       "      <th>50%</th>\n",
       "      <td>1.000000</td>\n",
       "      <td>1.000000</td>\n",
       "      <td>33.700000</td>\n",
       "      <td>4.400000</td>\n",
       "      <td>12.000000</td>\n",
       "      <td>1.000000</td>\n",
       "      <td>0.000000</td>\n",
       "      <td>0.000000</td>\n",
       "      <td>0.000000</td>\n",
       "      <td>0.000000</td>\n",
       "      <td>0.000000</td>\n",
       "      <td>0.000000</td>\n",
       "      <td>0.000000</td>\n",
       "      <td>0.000000</td>\n",
       "      <td>0.000000</td>\n",
       "    </tr>\n",
       "    <tr>\n",
       "      <th>75%</th>\n",
       "      <td>1.000000</td>\n",
       "      <td>2.000000</td>\n",
       "      <td>42.550000</td>\n",
       "      <td>5.200000</td>\n",
       "      <td>15.000000</td>\n",
       "      <td>1.000000</td>\n",
       "      <td>0.000000</td>\n",
       "      <td>0.000000</td>\n",
       "      <td>0.000000</td>\n",
       "      <td>1.000000</td>\n",
       "      <td>0.000000</td>\n",
       "      <td>0.000000</td>\n",
       "      <td>0.000000</td>\n",
       "      <td>0.000000</td>\n",
       "      <td>1.000000</td>\n",
       "    </tr>\n",
       "    <tr>\n",
       "      <th>max</th>\n",
       "      <td>1.000000</td>\n",
       "      <td>2.000000</td>\n",
       "      <td>67.000000</td>\n",
       "      <td>6.000000</td>\n",
       "      <td>18.000000</td>\n",
       "      <td>1.000000</td>\n",
       "      <td>1.000000</td>\n",
       "      <td>1.000000</td>\n",
       "      <td>1.000000</td>\n",
       "      <td>1.000000</td>\n",
       "      <td>1.000000</td>\n",
       "      <td>1.000000</td>\n",
       "      <td>1.000000</td>\n",
       "      <td>1.000000</td>\n",
       "      <td>1.000000</td>\n",
       "    </tr>\n",
       "  </tbody>\n",
       "</table>\n",
       "</div>"
      ],
      "text/plain": [
       "             male        race  ...  crime_larceny  crime_other\n",
       "count  675.000000  675.000000  ...     675.000000   675.000000\n",
       "mean     0.807407    1.423704  ...       0.157037     0.466667\n",
       "std      0.394628    0.494511  ...       0.364105     0.499258\n",
       "min      0.000000    1.000000  ...       0.000000     0.000000\n",
       "25%      1.000000    1.000000  ...       0.000000     0.000000\n",
       "50%      1.000000    1.000000  ...       0.000000     0.000000\n",
       "75%      1.000000    2.000000  ...       0.000000     1.000000\n",
       "max      1.000000    2.000000  ...       1.000000     1.000000\n",
       "\n",
       "[8 rows x 15 columns]"
      ]
     },
     "execution_count": 7,
     "metadata": {},
     "output_type": "execute_result"
    }
   ],
   "source": [
    "parole.describe(include=\"all\")"
   ]
  },
  {
   "cell_type": "markdown",
   "metadata": {},
   "source": [
    "### Splitting into a Training and testing Set"
   ]
  },
  {
   "cell_type": "code",
   "execution_count": 8,
   "metadata": {},
   "outputs": [
    {
     "data": {
      "text/plain": [
       "Index(['male', 'race', 'age', 'time.served', 'max.sentence',\n",
       "       'multiple.offenses', 'violator', 'state_Kentucky', 'state_Louisiana',\n",
       "       'state_Virginia', 'state_other', 'crime_driving', 'crime_drug',\n",
       "       'crime_larceny', 'crime_other'],\n",
       "      dtype='object')"
      ]
     },
     "execution_count": 8,
     "metadata": {},
     "output_type": "execute_result"
    }
   ],
   "source": [
    "parole.columns"
   ]
  },
  {
   "cell_type": "code",
   "execution_count": 9,
   "metadata": {},
   "outputs": [],
   "source": [
    "features = ['male', 'race', 'age', 'time.served', 'max.sentence',\n",
    "       'multiple.offenses', 'state_Kentucky', 'state_Louisiana',\n",
    "       'state_Virginia', 'state_other', 'crime_driving', 'crime_drug',\n",
    "       'crime_larceny', 'crime_other']"
   ]
  },
  {
   "cell_type": "code",
   "execution_count": 10,
   "metadata": {},
   "outputs": [],
   "source": [
    "from sklearn.model_selection import train_test_split\n",
    "\n",
    "X_train, X_test, y_train, y_test = train_test_split(parole.loc[:,features], parole.loc[:, 'violator'], \n",
    "                                                    test_size=0.3, random_state=144)"
   ]
  },
  {
   "cell_type": "markdown",
   "metadata": {},
   "source": [
    "Roughly 70\\% of parolees have been allocated to the training and 30\\% to the testing sets."
   ]
  },
  {
   "cell_type": "code",
   "execution_count": 11,
   "metadata": {},
   "outputs": [
    {
     "name": "stdout",
     "output_type": "stream",
     "text": [
      "Train: 472 obs., Test: 203 obs.\n",
      "0.6992592592592592 0.30074074074074075\n"
     ]
    }
   ],
   "source": [
    "print(f\"Train: {len(X_train)} obs., Test: {len(X_test)} obs.\")\n",
    "print(len(X_train)/len(parole), len(X_test)/len(parole))"
   ]
  },
  {
   "cell_type": "markdown",
   "metadata": {},
   "source": [
    "### Building a Logistic Regression Model"
   ]
  },
  {
   "cell_type": "markdown",
   "metadata": {},
   "source": [
    "Train a logistic regression model on the training set. Your dependent variable is \"violator\", and you should use all of the other variables as independent variables.\n",
    "\n",
    "What variables are significant in this model? Significant variables should have a probability less than 0.05 (the column Pr(>|z|) in the summary output)."
   ]
  },
  {
   "cell_type": "code",
   "execution_count": 12,
   "metadata": {},
   "outputs": [
    {
     "data": {
      "text/html": [
       "<table class=\"simpletable\">\n",
       "<caption>Generalized Linear Model Regression Results</caption>\n",
       "<tr>\n",
       "  <th>Dep. Variable:</th>       <td>violator</td>     <th>  No. Observations:  </th>  <td>   472</td> \n",
       "</tr>\n",
       "<tr>\n",
       "  <th>Model:</th>                  <td>GLM</td>       <th>  Df Residuals:      </th>  <td>   459</td> \n",
       "</tr>\n",
       "<tr>\n",
       "  <th>Model Family:</th>        <td>Binomial</td>     <th>  Df Model:          </th>  <td>    12</td> \n",
       "</tr>\n",
       "<tr>\n",
       "  <th>Link Function:</th>         <td>logit</td>      <th>  Scale:             </th> <td>  1.0000</td>\n",
       "</tr>\n",
       "<tr>\n",
       "  <th>Method:</th>                <td>IRLS</td>       <th>  Log-Likelihood:    </th> <td> -124.74</td>\n",
       "</tr>\n",
       "<tr>\n",
       "  <th>Date:</th>            <td>Fri, 30 Aug 2019</td> <th>  Deviance:          </th> <td>  249.48</td>\n",
       "</tr>\n",
       "<tr>\n",
       "  <th>Time:</th>                <td>14:50:25</td>     <th>  Pearson chi2:      </th>  <td>  445.</td> \n",
       "</tr>\n",
       "<tr>\n",
       "  <th>No. Iterations:</th>          <td>7</td>        <th>                     </th>     <td> </td>   \n",
       "</tr>\n",
       "<tr>\n",
       "  <th>Covariance Type:</th>     <td>nonrobust</td>    <th>                     </th>     <td> </td>   \n",
       "</tr>\n",
       "</table>\n",
       "<table class=\"simpletable\">\n",
       "<tr>\n",
       "          <td></td>             <th>coef</th>     <th>std err</th>      <th>z</th>      <th>P>|z|</th>  <th>[0.025</th>    <th>0.975]</th>  \n",
       "</tr>\n",
       "<tr>\n",
       "  <th>male</th>              <td>    0.4059</td> <td>    0.450</td> <td>    0.903</td> <td> 0.367</td> <td>   -0.475</td> <td>    1.287</td>\n",
       "</tr>\n",
       "<tr>\n",
       "  <th>race</th>              <td>    0.9175</td> <td>    0.390</td> <td>    2.354</td> <td> 0.019</td> <td>    0.154</td> <td>    1.681</td>\n",
       "</tr>\n",
       "<tr>\n",
       "  <th>age</th>               <td>    0.0098</td> <td>    0.016</td> <td>    0.609</td> <td> 0.543</td> <td>   -0.022</td> <td>    0.042</td>\n",
       "</tr>\n",
       "<tr>\n",
       "  <th>time.served</th>       <td>   -0.1034</td> <td>    0.119</td> <td>   -0.871</td> <td> 0.384</td> <td>   -0.336</td> <td>    0.129</td>\n",
       "</tr>\n",
       "<tr>\n",
       "  <th>max.sentence</th>      <td>    0.0243</td> <td>    0.051</td> <td>    0.472</td> <td> 0.637</td> <td>   -0.076</td> <td>    0.125</td>\n",
       "</tr>\n",
       "<tr>\n",
       "  <th>multiple.offenses</th> <td>    1.4155</td> <td>    0.390</td> <td>    3.626</td> <td> 0.000</td> <td>    0.650</td> <td>    2.181</td>\n",
       "</tr>\n",
       "<tr>\n",
       "  <th>state_Kentucky</th>    <td>   -0.0630</td> <td>    0.394</td> <td>   -0.160</td> <td> 0.873</td> <td>   -0.835</td> <td>    0.709</td>\n",
       "</tr>\n",
       "<tr>\n",
       "  <th>state_Louisiana</th>   <td>    0.3908</td> <td>    0.373</td> <td>    1.049</td> <td> 0.294</td> <td>   -0.339</td> <td>    1.121</td>\n",
       "</tr>\n",
       "<tr>\n",
       "  <th>state_Virginia</th>    <td>   -3.3651</td> <td>    0.527</td> <td>   -6.388</td> <td> 0.000</td> <td>   -4.398</td> <td>   -2.333</td>\n",
       "</tr>\n",
       "<tr>\n",
       "  <th>state_other</th>       <td>   -0.0569</td> <td>    0.358</td> <td>   -0.159</td> <td> 0.874</td> <td>   -0.759</td> <td>    0.645</td>\n",
       "</tr>\n",
       "<tr>\n",
       "  <th>crime_driving</th>     <td>   -1.0839</td> <td>    0.532</td> <td>   -2.036</td> <td> 0.042</td> <td>   -2.127</td> <td>   -0.040</td>\n",
       "</tr>\n",
       "<tr>\n",
       "  <th>crime_drug</th>        <td>   -0.8579</td> <td>    0.381</td> <td>   -2.251</td> <td> 0.024</td> <td>   -1.605</td> <td>   -0.111</td>\n",
       "</tr>\n",
       "<tr>\n",
       "  <th>crime_larceny</th>     <td>   -0.6098</td> <td>    0.413</td> <td>   -1.478</td> <td> 0.139</td> <td>   -1.418</td> <td>    0.199</td>\n",
       "</tr>\n",
       "<tr>\n",
       "  <th>crime_other</th>       <td>   -0.5427</td> <td>    0.309</td> <td>   -1.755</td> <td> 0.079</td> <td>   -1.149</td> <td>    0.063</td>\n",
       "</tr>\n",
       "<tr>\n",
       "  <th>const</th>             <td>   -3.0943</td> <td>    0.811</td> <td>   -3.817</td> <td> 0.000</td> <td>   -4.683</td> <td>   -1.505</td>\n",
       "</tr>\n",
       "</table>"
      ],
      "text/plain": [
       "<class 'statsmodels.iolib.summary.Summary'>\n",
       "\"\"\"\n",
       "                 Generalized Linear Model Regression Results                  \n",
       "==============================================================================\n",
       "Dep. Variable:               violator   No. Observations:                  472\n",
       "Model:                            GLM   Df Residuals:                      459\n",
       "Model Family:                Binomial   Df Model:                           12\n",
       "Link Function:                  logit   Scale:                          1.0000\n",
       "Method:                          IRLS   Log-Likelihood:                -124.74\n",
       "Date:                Fri, 30 Aug 2019   Deviance:                       249.48\n",
       "Time:                        14:50:25   Pearson chi2:                     445.\n",
       "No. Iterations:                     7                                         \n",
       "Covariance Type:            nonrobust                                         \n",
       "=====================================================================================\n",
       "                        coef    std err          z      P>|z|      [0.025      0.975]\n",
       "-------------------------------------------------------------------------------------\n",
       "male                  0.4059      0.450      0.903      0.367      -0.475       1.287\n",
       "race                  0.9175      0.390      2.354      0.019       0.154       1.681\n",
       "age                   0.0098      0.016      0.609      0.543      -0.022       0.042\n",
       "time.served          -0.1034      0.119     -0.871      0.384      -0.336       0.129\n",
       "max.sentence          0.0243      0.051      0.472      0.637      -0.076       0.125\n",
       "multiple.offenses     1.4155      0.390      3.626      0.000       0.650       2.181\n",
       "state_Kentucky       -0.0630      0.394     -0.160      0.873      -0.835       0.709\n",
       "state_Louisiana       0.3908      0.373      1.049      0.294      -0.339       1.121\n",
       "state_Virginia       -3.3651      0.527     -6.388      0.000      -4.398      -2.333\n",
       "state_other          -0.0569      0.358     -0.159      0.874      -0.759       0.645\n",
       "crime_driving        -1.0839      0.532     -2.036      0.042      -2.127      -0.040\n",
       "crime_drug           -0.8579      0.381     -2.251      0.024      -1.605      -0.111\n",
       "crime_larceny        -0.6098      0.413     -1.478      0.139      -1.418       0.199\n",
       "crime_other          -0.5427      0.309     -1.755      0.079      -1.149       0.063\n",
       "const                -3.0943      0.811     -3.817      0.000      -4.683      -1.505\n",
       "=====================================================================================\n",
       "\"\"\""
      ]
     },
     "execution_count": 12,
     "metadata": {},
     "output_type": "execute_result"
    }
   ],
   "source": [
    "from statsmodels.genmod.generalized_linear_model import GLMResults\n",
    "import statsmodels.api as sm\n",
    "\n",
    "X_train[\"const\"] = 1\n",
    "X_test[\"const\"] = 1\n",
    "\n",
    "model = sm.GLM(y_train, X_train, family=sm.families.Binomial())\n",
    "\n",
    "res = model.fit()\n",
    "\n",
    "res.summary()"
   ]
  },
  {
   "cell_type": "markdown",
   "metadata": {},
   "source": [
    "Significant variables are `race`, `state_Virginia`, `multiple.offenses`."
   ]
  },
  {
   "cell_type": "markdown",
   "metadata": {},
   "source": [
    "What is the value of Akaike Information Criterion (AIC)?"
   ]
  },
  {
   "cell_type": "code",
   "execution_count": 13,
   "metadata": {},
   "outputs": [
    {
     "data": {
      "text/plain": [
       "275.48364497328623"
      ]
     },
     "execution_count": 13,
     "metadata": {},
     "output_type": "execute_result"
    }
   ],
   "source": [
    "res.aic"
   ]
  },
  {
   "cell_type": "markdown",
   "metadata": {},
   "source": [
    "What can we say based on the coefficient of the multiple.offenses variable?"
   ]
  },
  {
   "cell_type": "markdown",
   "metadata": {},
   "source": [
    "Our model predicts that a parolee who committed multiple offense has $e^{1.4155}$=4.12 times higher odds of being a violator than a parolee who did not commit multiple offenses but is otherwise identical."
   ]
  },
  {
   "cell_type": "markdown",
   "metadata": {},
   "source": [
    "Logistic function:\n",
    "\n",
    "\\begin{equation}\n",
    "p(X)=\\frac{e^{\\beta_{0}+\\beta_{1}X_{1}+...+\\beta_{p}X_{p}}}{1+e^{\\beta_{0}+\\beta_{1}X_{1}+...+\\beta_{p}X_{p}}}\n",
    "\\end{equation}\n",
    "\n",
    "After a bit manipulation, we find that\n",
    "\n",
    "\\begin{equation}\n",
    "\\frac{p(X)}{1-p(X)}=e^{\\beta_{0}+\\beta_{1}X_{1}+...+\\beta_{p}X_{p}}\n",
    "\\end{equation}\n",
    "\n",
    "The quantity in the left part is called _odds_.  See [[1]](#Reference) for more details."
   ]
  },
  {
   "cell_type": "markdown",
   "metadata": {},
   "source": [
    "Consider a parolee who is male, of white race, aged 50 years at prison release, from the state of Maryland, served 3 months, had a maximum sentence of 12 months, did not commit multiple offenses, and committed a larceny. Answer the following questions based on the model's predictions for this individual. (HINT: You should use the coefficients of your model, the Logistic Response Function, and the Odds equation to solve this problem.)\n",
    "\n",
    "According to the model, what are the odds this individual is a violator?"
   ]
  },
  {
   "cell_type": "code",
   "execution_count": 14,
   "metadata": {},
   "outputs": [
    {
     "data": {
      "text/plain": [
       "male                  1\n",
       "race                  1\n",
       "age                  50\n",
       "time.served           3\n",
       "max.sentence         12\n",
       "multiple.offenses     0\n",
       "state_Kentucky        0\n",
       "state_Louisiana       0\n",
       "state_Virginia        0\n",
       "state_other           1\n",
       "crime_driving         0\n",
       "crime_drug            0\n",
       "crime_larceny         1\n",
       "crime_other           0\n",
       "const                 1\n",
       "dtype: int64"
      ]
     },
     "execution_count": 14,
     "metadata": {},
     "output_type": "execute_result"
    }
   ],
   "source": [
    "person = pd.Series([1, 1, 50, 3, 12, 0, 0, 0, 0, 1, 0, 0, 1, 0, 1  ], index = res.params.index)\n",
    "person"
   ]
  },
  {
   "cell_type": "code",
   "execution_count": 15,
   "metadata": {},
   "outputs": [
    {
     "data": {
      "text/plain": [
       "0.1402226816511517"
      ]
     },
     "execution_count": 15,
     "metadata": {},
     "output_type": "execute_result"
    }
   ],
   "source": [
    "np.exp(sum(person*res.params))"
   ]
  },
  {
   "cell_type": "markdown",
   "metadata": {},
   "source": [
    "According to the model, what is the probability this individual is a violator?"
   ]
  },
  {
   "cell_type": "code",
   "execution_count": 16,
   "metadata": {},
   "outputs": [
    {
     "data": {
      "text/plain": [
       "0.12297833038025154"
      ]
     },
     "execution_count": 16,
     "metadata": {},
     "output_type": "execute_result"
    }
   ],
   "source": [
    "1/(1+np.exp(-sum(person*res.params)))"
   ]
  },
  {
   "cell_type": "markdown",
   "metadata": {},
   "source": [
    "### Evaluating the model on the testing data set\n",
    "Obtain the model's predicted probabilities for parolees in the testing set. What is the maximum predicted probability of a violation?"
   ]
  },
  {
   "cell_type": "code",
   "execution_count": 17,
   "metadata": {},
   "outputs": [
    {
     "data": {
      "text/plain": [
       "0.7182378450775411"
      ]
     },
     "execution_count": 17,
     "metadata": {},
     "output_type": "execute_result"
    }
   ],
   "source": [
    "y_pred = res.predict(X_test)\n",
    "y_pred.max()"
   ]
  },
  {
   "cell_type": "markdown",
   "metadata": {},
   "source": [
    "#### Confusion Matrix\n",
    "A binary classifier can make two types of errors: positive cases that were incorrectly identified as negative and negative cases that were incorrectly identified as positive. Performance of such classifier is evaluated using the _confusion matrix_\n",
    "\n",
    "\n",
    "$$\\begin{matrix}\n",
    "   Actual/Predicted\\\\\n",
    "   \\begin{matrix}\n",
    "   & No & Yes\\\\\n",
    "   No & a & b\\\\\n",
    "   Yes & c & d\n",
    "   \\end{matrix} \n",
    "\\end{matrix} $$\n",
    "\n",
    "#### Accuracy\n",
    "\n",
    "- $a, d$ are the numbers of _correct_ predictions of negative/positive examples\n",
    "- $b, c$ are the numbers of _incorrect_ predictions of negative/positive examples\n",
    "- The _accuracy_ is the proportion of the predictions that are correct\n",
    "$$ \\frac{a+d}{a+b+c+d} $$\n",
    "\n",
    "#### True Positive Rate, False Positive Rate\n",
    "\n",
    "- True positive rate is a proportion of positive cases that were correctly identify\n",
    "$$ TP = \\frac{d}{d+c}$$\n",
    "- False positive rate is a proportion of negative cases that were incorrectly identify\n",
    "$$ FP = \\frac{b}{a+b}$$\n",
    "- True negative rate is a proportion of negative cases that were correctly identify\n",
    "$$ TN = \\frac{a}{a+b}$$\n",
    "- False negative rate is a proportion of positive cases that were incorrectly identify\n",
    "$$ FN = \\frac{c}{d+c}$$\n",
    "- $Sensitivity = TP, Specificity = TN = 1-FP$\n",
    "\n",
    "#### The ROC\n",
    "\n",
    "- The ROC curve is a graphic for displaying the two types of errors for all possible _thresholds_\n",
    "$$ Pr(Y=\"Yes\"|X=x)>threshold$$\n",
    "- _Threshold_ is the cutoff imposed on the predicted probabilities for assigning observation to each class\n",
    "\n",
    "#### The ROC, AUC\n",
    "\n",
    "The overall performance of a classifier is given by the area under the ROC curve (AUC). An ideal ROC curve will hug the top left corner, so the larger the AUC the better classifier.\n"
   ]
  },
  {
   "cell_type": "markdown",
   "metadata": {},
   "source": [
    "Confusion Matrix:"
   ]
  },
  {
   "cell_type": "code",
   "execution_count": 18,
   "metadata": {},
   "outputs": [
    {
     "data": {
      "text/html": [
       "<div>\n",
       "<style scoped>\n",
       "    .dataframe tbody tr th:only-of-type {\n",
       "        vertical-align: middle;\n",
       "    }\n",
       "\n",
       "    .dataframe tbody tr th {\n",
       "        vertical-align: top;\n",
       "    }\n",
       "\n",
       "    .dataframe thead th {\n",
       "        text-align: right;\n",
       "    }\n",
       "</style>\n",
       "<table border=\"1\" class=\"dataframe\">\n",
       "  <thead>\n",
       "    <tr style=\"text-align: right;\">\n",
       "      <th>col_0</th>\n",
       "      <th>False</th>\n",
       "      <th>True</th>\n",
       "    </tr>\n",
       "    <tr>\n",
       "      <th>violator</th>\n",
       "      <th></th>\n",
       "      <th></th>\n",
       "    </tr>\n",
       "  </thead>\n",
       "  <tbody>\n",
       "    <tr>\n",
       "      <th>0</th>\n",
       "      <td>175</td>\n",
       "      <td>5</td>\n",
       "    </tr>\n",
       "    <tr>\n",
       "      <th>1</th>\n",
       "      <td>18</td>\n",
       "      <td>5</td>\n",
       "    </tr>\n",
       "  </tbody>\n",
       "</table>\n",
       "</div>"
      ],
      "text/plain": [
       "col_0     False  True \n",
       "violator              \n",
       "0           175      5\n",
       "1            18      5"
      ]
     },
     "execution_count": 18,
     "metadata": {},
     "output_type": "execute_result"
    }
   ],
   "source": [
    "conf_m = pd.crosstab(y_test, y_pred >= 0.5)\n",
    "conf_m"
   ]
  },
  {
   "cell_type": "markdown",
   "metadata": {},
   "source": [
    "In the following questions, evaluate the model's predictions on the test set using a threshold of 0.5.\n",
    "\n",
    "What is the model's sensitivity?"
   ]
  },
  {
   "cell_type": "code",
   "execution_count": 19,
   "metadata": {},
   "outputs": [
    {
     "data": {
      "text/plain": [
       "18"
      ]
     },
     "execution_count": 19,
     "metadata": {},
     "output_type": "execute_result"
    }
   ],
   "source": [
    "conf_m.loc[1,0]"
   ]
  },
  {
   "cell_type": "code",
   "execution_count": 20,
   "metadata": {},
   "outputs": [
    {
     "data": {
      "text/plain": [
       "0.21739130434782608"
      ]
     },
     "execution_count": 20,
     "metadata": {},
     "output_type": "execute_result"
    }
   ],
   "source": [
    "Sensitivity = conf_m.loc[1,1]/(conf_m.loc[1,1]+conf_m.loc[1,0])\n",
    "Sensitivity"
   ]
  },
  {
   "cell_type": "markdown",
   "metadata": {},
   "source": [
    "What is the model's specificity?"
   ]
  },
  {
   "cell_type": "code",
   "execution_count": 21,
   "metadata": {},
   "outputs": [
    {
     "data": {
      "text/plain": [
       "0.9722222222222222"
      ]
     },
     "execution_count": 21,
     "metadata": {},
     "output_type": "execute_result"
    }
   ],
   "source": [
    "Specificity = 1 - conf_m.loc[0,1]/(conf_m.loc[0,0]+conf_m.loc[0,1])\n",
    "Specificity"
   ]
  },
  {
   "cell_type": "code",
   "execution_count": 22,
   "metadata": {},
   "outputs": [],
   "source": [
    "# Sensitivity, Specificity using module function\n",
    "\n",
    "# from sklearn.metrics import roc_curve\n",
    "# fpr, tpr, thresholds = roc_curve(y_test, y_pred>=0.5, drop_intermediate=False)\n",
    "# Sensitivity\n",
    "# tpr[1]\n",
    "# Specificity\n",
    "# fpr[1]"
   ]
  },
  {
   "cell_type": "markdown",
   "metadata": {},
   "source": [
    "What is the model's accuracy?"
   ]
  },
  {
   "cell_type": "code",
   "execution_count": 23,
   "metadata": {},
   "outputs": [
    {
     "data": {
      "text/plain": [
       "0.8866995073891626"
      ]
     },
     "execution_count": 23,
     "metadata": {},
     "output_type": "execute_result"
    }
   ],
   "source": [
    "(y_test == (y_pred>=0.5)).mean()"
   ]
  },
  {
   "cell_type": "markdown",
   "metadata": {},
   "source": [
    "What is the accuracy of a simple model that predicts that every parolee is a non-violator?"
   ]
  },
  {
   "cell_type": "code",
   "execution_count": 24,
   "metadata": {},
   "outputs": [
    {
     "data": {
      "text/plain": [
       "0.8866995073891626"
      ]
     },
     "execution_count": 24,
     "metadata": {},
     "output_type": "execute_result"
    }
   ],
   "source": [
    "(y_test == 0).sum()/len(y_test)"
   ]
  },
  {
   "cell_type": "markdown",
   "metadata": {},
   "source": [
    "Consider a parole board using the model to predict whether parolees will be violators or not. The job of a parole board is to make sure that a prisoner is ready to be released into free society, and therefore parole boards tend to be particularily concerned about releasing prisoners who will violate their parole. Which of the following most likely describes their preferences and best course of action?"
   ]
  },
  {
   "cell_type": "markdown",
   "metadata": {},
   "source": [
    ">The board assigns more cost to a false negative than false positive, and should therefore use a logostic regression cutoff less than 0.5."
   ]
  },
  {
   "cell_type": "markdown",
   "metadata": {},
   "source": [
    "Which of the following is the most accurate assessment of the value of the logistic regression model with a cutoff 0.5 to a parole board, based on the model's accuracy as compared to the simple baseline model?"
   ]
  },
  {
   "cell_type": "markdown",
   "metadata": {},
   "source": [
    ">The model is likely of value to the board, and using a different logistic regression cutoff is likely to improve the model's value."
   ]
  },
  {
   "cell_type": "markdown",
   "metadata": {},
   "source": [
    "Using the `sklearn` package, what is the AUC value for the model?"
   ]
  },
  {
   "cell_type": "code",
   "execution_count": 99,
   "metadata": {},
   "outputs": [
    {
     "data": {
      "image/png": "[encoded data removed]",
      "text/plain": [
       "<Figure size 432x288 with 1 Axes>"
      ]
     },
     "metadata": {},
     "output_type": "display_data"
    }
   ],
   "source": [
    "from sklearn.metrics import roc_curve, roc_auc_score\n",
    "\n",
    "roc_auc=roc_auc_score(y_test, y_pred)\n",
    "\n",
    "fpr, tpr, thresholds = roc_curve(y_test, y_pred, drop_intermediate=False)\n",
    "\n",
    "plt.title('Receiver Operating Curve')\n",
    "plt.plot(fpr, tpr, 'darkmagenta', label = f\"AUC ={round(roc_auc,2)}\" )\n",
    "plt.legend(loc = 'lower right')\n",
    "plt.plot([0, 1], [0, 1],'k:')\n",
    "plt.xlim([-0.01, 1.01])\n",
    "plt.ylim([0, 1.01])\n",
    "plt.ylabel('True Positive Rate')\n",
    "plt.xlabel('False Positive Rate')\n",
    "plt.show()"
   ]
  },
  {
   "cell_type": "code",
   "execution_count": 171,
   "metadata": {},
   "outputs": [
    {
     "data": {
      "image/png": "[encoded data removed]",
      "text/plain": [
       "<Figure size 432x288 with 2 Axes>"
      ]
     },
     "metadata": {},
     "output_type": "display_data"
    }
   ],
   "source": [
    "import seaborn as sns\n",
    "\n",
    "curve = pd.DataFrame({\"fpr\":fpr[1:], \"tpr\":tpr[1:], \"thresholds\":thresholds[1:]})\n",
    "\n",
    "cmap = sns.cubehelix_palette(as_cmap=True, rot=-.4)\n",
    "points = plt.scatter(fpr[1:], tpr[1:], c=thresholds[1:], marker=\".\", cmap=cmap)\n",
    "\n",
    "cbar = plt.colorbar(points)\n",
    "cbar.ax.set_ylabel('Threshold', rotation = 270)\n",
    "\n",
    "plt.title('Receiver Operating Curve')\n",
    "plt.plot([0, 1], [0, 1],'k:')\n",
    "plt.xlim([-0.01, 1.01])\n",
    "plt.ylim([0, 1.01])\n",
    "plt.ylabel('True Positive Rate')\n",
    "plt.xlabel('False Positive Rate')\n",
    "plt.show()"
   ]
  },
  {
   "cell_type": "markdown",
   "metadata": {},
   "source": [
    "Describe the meaning of AUC in this context.\n",
    "\n",
    "\n"
   ]
  },
  {
   "cell_type": "markdown",
   "metadata": {},
   "source": [
    ">The probability the model can correctly differentiate between a randomly selected parole violator and a randomly selected parole non-violator."
   ]
  },
  {
   "cell_type": "markdown",
   "metadata": {},
   "source": [
    "#### Identifying Bias in Observational Data"
   ]
  },
  {
   "cell_type": "markdown",
   "metadata": {},
   "source": [
    "Our goal has been to predict the outcome of a parole decision, and we used a publicly available dataset of parole releases for predictions. In this final problem, we'll evaluate a potential source of bias associated with our analysis. It is always important to evaluate a dataset for possible sources of bias.\n",
    "\n",
    "The dataset contains all individuals released from parole in 2004, either due to completing their parole term or violating the terms of their parole. However, it does not contain parolees who neither violated their parole nor completed their term in 2004, causing non-violators to be underrepresented. This is called \"selection bias\" or \"selecting on the dependent variable,\" because only a subset of all relevant parolees were included in our analysis, based on our dependent variable in this analysis (parole violation). How could we improve our dataset to best address selection bias?"
   ]
  },
  {
   "cell_type": "markdown",
   "metadata": {},
   "source": [
    "> We should use a dataset tracking a group of parolees from the start of their parole until either they violated parole or they completed their term."
   ]
  },
  {
   "cell_type": "markdown",
   "metadata": {},
   "source": [
    "### Reference\n",
    "\n",
    "1. [Gareth James, Daniela Witten, Trevor Hastie, Robert Tibshirani, An Introduction to Statistical Learning with Applications in R, 2013.](http://faculty.marshall.usc.edu/gareth-james/ISL/)"
   ]
  }
 ],
 "metadata": {
  "kernelspec": {
   "display_name": "Python 3 (Spyder)",
   "language": "python3",
   "name": "python3"
  },
  "language_info": {
   "codemirror_mode": {
    "name": "ipython",
    "version": 3
   },
   "file_extension": ".py",
   "mimetype": "text/x-python",
   "name": "python",
   "nbconvert_exporter": "python",
   "pygments_lexer": "ipython3",
   "version": "3.7.3"
  }
 },
 "nbformat": 4,
 "nbformat_minor": 2
}
