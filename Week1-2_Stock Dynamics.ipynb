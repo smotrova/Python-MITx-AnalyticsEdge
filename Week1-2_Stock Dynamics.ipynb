{
 "cells": [
  {
   "cell_type": "markdown",
   "metadata": {},
   "source": [
    "# Stock Dynamics"
   ]
  },
  {
   "cell_type": "markdown",
   "metadata": {},
   "source": [
    "## Table of Content\n",
    "\n",
    "\n",
    "[Data Description](#Data-Description)\n",
    "\n",
    "[Summary Statistics](#Summary-Statistics)\n",
    "\n",
    "[Visualizing Stock Dymanics](#Visualazing-Stock-Dynamics)\n",
    "\n",
    "[Monthly Trends](#Monthly-Trends)"
   ]
  },
  {
   "cell_type": "markdown",
   "metadata": {},
   "source": [
    "## Data Description"
   ]
  },
  {
   "cell_type": "markdown",
   "metadata": {},
   "source": [
    "A stock market is where buyers and sellers trade shares of a company, and is one of the most popular ways for individuals and companies to invest money. The size of the world stock market  is now estimated to be in the trillions. The largest stock market in the world is the New York Stock Exchange (NYSE), located in New York City. About 2,800 companies are listed on the NYSE. In this problem, we'll look at the monthly stock prices of five of these companies: _IBM_, _General Electric (GE)_, _Procter and Gamble_, _Coca Cola_, and _Boeing_. The data used in this problem comes from Infochimps.\n",
    "\n",
    "Download and read the following files into R, using the read.csv function: `IBMStock.csv`, `GEStock.csv`, `ProcterGambleStock.csv`, `CocaColaStock.csv`, and `BoeingStock.csv`.\n",
    "\n",
    "Call the data frames \"IBM\", \"GE\", \"ProcterGamble\", \"CocaCola\", and \"Boeing\", respectively. Each data frame has two variables, described as follows:\n",
    "\n",
    "* **Date**: the date of the stock price, always given as the first of the month.\n",
    "\n",
    "* **StockPrice**: the average stock price of the company in the given month.\n",
    "\n",
    "In this problem, we'll take a look at how the stock dynamics of these companies have changed over time."
   ]
  },
  {
   "cell_type": "markdown",
   "metadata": {},
   "source": [
    "## Summary Statistics"
   ]
  },
  {
   "cell_type": "markdown",
   "metadata": {},
   "source": [
    "Read the data"
   ]
  },
  {
   "cell_type": "code",
   "execution_count": 1,
   "metadata": {
    "collapsed": true
   },
   "outputs": [],
   "source": [
    "import pandas as pd\n",
    "import numpy as np\n",
    "import matplotlib.pyplot as plt\n",
    "\n",
    "%matplotlib inline\n"
   ]
  },
  {
   "cell_type": "code",
   "execution_count": 2,
   "metadata": {
    "collapsed": true
   },
   "outputs": [],
   "source": [
    "IBM = pd.read_csv(\"../Data/IBMStock.csv\")\n",
    "GE = pd.read_csv(\"../Data/GEStock.csv\")\n",
    "ProcterGamble = pd.read_csv(\"../Data/ProcterGambleStock.csv\")\n",
    "CocaCola = pd.read_csv(\"../Data/CocaColaStock.csv\")\n",
    "Boeing = pd.read_csv(\"../Data/BoeingStock.csv\") "
   ]
  },
  {
   "cell_type": "code",
   "execution_count": 3,
   "metadata": {},
   "outputs": [
    {
     "name": "stdout",
     "output_type": "stream",
     "text": [
      "<class 'pandas.core.frame.DataFrame'>\n",
      "RangeIndex: 480 entries, 0 to 479\n",
      "Data columns (total 2 columns):\n",
      "Date          480 non-null object\n",
      "StockPrice    480 non-null float64\n",
      "dtypes: float64(1), object(1)\n",
      "memory usage: 7.6+ KB\n"
     ]
    }
   ],
   "source": [
    "IBM.info()"
   ]
  },
  {
   "cell_type": "markdown",
   "metadata": {},
   "source": [
    "Before working with these data sets, we need to convert the dates into `Date` object"
   ]
  },
  {
   "cell_type": "code",
   "execution_count": 4,
   "metadata": {
    "collapsed": true
   },
   "outputs": [],
   "source": [
    "IBM[\"Date\"] = pd.to_datetime(IBM[\"Date\"])\n",
    "GE[\"Date\"] = pd.to_datetime(GE[\"Date\"])\n",
    "ProcterGamble[\"Date\"] = pd.to_datetime(ProcterGamble[\"Date\"])\n",
    "CocaCola[\"Date\"] = pd.to_datetime(CocaCola[\"Date\"])\n",
    "Boeing[\"Date\"] = pd.to_datetime(Boeing[\"Date\"])"
   ]
  },
  {
   "cell_type": "markdown",
   "metadata": {},
   "source": [
    "How many observations are there in each data set?"
   ]
  },
  {
   "cell_type": "code",
   "execution_count": 5,
   "metadata": {},
   "outputs": [
    {
     "data": {
      "text/plain": [
       "(480, 2)"
      ]
     },
     "execution_count": 5,
     "metadata": {},
     "output_type": "execute_result"
    }
   ],
   "source": [
    "IBM.shape\n",
    "GE.shape\n",
    "ProcterGamble.shape\n",
    "CocaCola.shape\n",
    "Boeing.shape"
   ]
  },
  {
   "cell_type": "markdown",
   "metadata": {},
   "source": [
    "What is the earliest year in our datasets?"
   ]
  },
  {
   "cell_type": "code",
   "execution_count": 6,
   "metadata": {},
   "outputs": [
    {
     "name": "stdout",
     "output_type": "stream",
     "text": [
      "1970\n",
      "1970\n",
      "1970\n",
      "1970\n",
      "1970\n"
     ]
    }
   ],
   "source": [
    "print(IBM[\"Date\"].dt.year.min())\n",
    "print(GE[\"Date\"].dt.year.min())\n",
    "print(ProcterGamble[\"Date\"].dt.year.min())\n",
    "print(CocaCola[\"Date\"].dt.year.min())\n",
    "print(Boeing[\"Date\"].dt.year.min())"
   ]
  },
  {
   "cell_type": "markdown",
   "metadata": {},
   "source": [
    "What is the latest year in our datasets?"
   ]
  },
  {
   "cell_type": "code",
   "execution_count": 7,
   "metadata": {},
   "outputs": [
    {
     "name": "stdout",
     "output_type": "stream",
     "text": [
      "2009\n",
      "2009\n",
      "2009\n",
      "2009\n",
      "2009\n"
     ]
    }
   ],
   "source": [
    "print(IBM[\"Date\"].dt.year.max())\n",
    "print(GE[\"Date\"].dt.year.max())\n",
    "print(ProcterGamble[\"Date\"].dt.year.max())\n",
    "print(CocaCola[\"Date\"].dt.year.max())\n",
    "print(Boeing[\"Date\"].dt.year.max())"
   ]
  },
  {
   "cell_type": "markdown",
   "metadata": {},
   "source": [
    "What is the mean stock price of IBM over this time period?"
   ]
  },
  {
   "cell_type": "code",
   "execution_count": 8,
   "metadata": {},
   "outputs": [
    {
     "data": {
      "text/plain": [
       "144.3750303076664"
      ]
     },
     "execution_count": 8,
     "metadata": {},
     "output_type": "execute_result"
    }
   ],
   "source": [
    "IBM[\"StockPrice\"].mean()"
   ]
  },
  {
   "cell_type": "markdown",
   "metadata": {},
   "source": [
    "What is the minimum stock price of General Electric (GE) over this time period?"
   ]
  },
  {
   "cell_type": "code",
   "execution_count": 9,
   "metadata": {},
   "outputs": [
    {
     "data": {
      "text/plain": [
       "9.2936363639999993"
      ]
     },
     "execution_count": 9,
     "metadata": {},
     "output_type": "execute_result"
    }
   ],
   "source": [
    "GE[\"StockPrice\"].min()"
   ]
  },
  {
   "cell_type": "markdown",
   "metadata": {},
   "source": [
    "What is the maximum stock price of Coca-Cola over this time period?"
   ]
  },
  {
   "cell_type": "code",
   "execution_count": 10,
   "metadata": {},
   "outputs": [
    {
     "data": {
      "text/plain": [
       "146.58428569999998"
      ]
     },
     "execution_count": 10,
     "metadata": {},
     "output_type": "execute_result"
    }
   ],
   "source": [
    "CocaCola[\"StockPrice\"].max()"
   ]
  },
  {
   "cell_type": "markdown",
   "metadata": {},
   "source": [
    "What is the median stock price of Boeing over this time period?"
   ]
  },
  {
   "cell_type": "code",
   "execution_count": 11,
   "metadata": {},
   "outputs": [
    {
     "data": {
      "text/plain": [
       "44.88339827"
      ]
     },
     "execution_count": 11,
     "metadata": {},
     "output_type": "execute_result"
    }
   ],
   "source": [
    "Boeing[\"StockPrice\"].median()"
   ]
  },
  {
   "cell_type": "markdown",
   "metadata": {},
   "source": [
    "What is the standard deviation of the stock price of Procter & Gamble over this time period?"
   ]
  },
  {
   "cell_type": "code",
   "execution_count": 12,
   "metadata": {},
   "outputs": [
    {
     "data": {
      "text/plain": [
       "18.19414030797156"
      ]
     },
     "execution_count": 12,
     "metadata": {},
     "output_type": "execute_result"
    }
   ],
   "source": [
    "ProcterGamble[\"StockPrice\"].std()"
   ]
  },
  {
   "cell_type": "markdown",
   "metadata": {},
   "source": [
    "## Visualizing Stock Dynamics"
   ]
  },
  {
   "cell_type": "markdown",
   "metadata": {},
   "source": [
    "Let's plot the stock prices to see if we can visualize trends in stock prices during this time period. Using the plot function, plot the Date on the x-axis and the StockPrice on the y-axis."
   ]
  },
  {
   "cell_type": "code",
   "execution_count": 13,
   "metadata": {
    "scrolled": true
   },
   "outputs": [
    {
     "name": "stdout",
     "output_type": "stream",
     "text": [
      "['bmh', 'classic', 'dark_background', 'fivethirtyeight', 'ggplot', 'grayscale', 'seaborn-bright', 'seaborn-colorblind', 'seaborn-dark-palette', 'seaborn-dark', 'seaborn-darkgrid', 'seaborn-deep', 'seaborn-muted', 'seaborn-notebook', 'seaborn-paper', 'seaborn-pastel', 'seaborn-poster', 'seaborn-talk', 'seaborn-ticks', 'seaborn-white', 'seaborn-whitegrid', 'seaborn', '_classic_test']\n"
     ]
    }
   ],
   "source": [
    "import matplotlib as mpl\n",
    "\n",
    "print(plt.style.available)"
   ]
  },
  {
   "cell_type": "code",
   "execution_count": 14,
   "metadata": {
    "collapsed": true
   },
   "outputs": [],
   "source": [
    "# mpl.style.use(['ggplot']) # optional: for ggplot-like style"
   ]
  },
  {
   "cell_type": "code",
   "execution_count": 15,
   "metadata": {},
   "outputs": [
    {
     "data": {
      "image/png": "[encoded data removed]",
      "text/plain": [
       "<matplotlib.figure.Figure at 0x25c41d66be0>"
      ]
     },
     "metadata": {},
     "output_type": "display_data"
    }
   ],
   "source": [
    "plt.plot(CocaCola[\"Date\"], CocaCola[\"StockPrice\"], \"r-\", label = \"CocaCola\")\n",
    "plt.plot(GE[\"Date\"], GE[\"StockPrice\"], \"b-\", label = \"GE\")\n",
    "plt.plot(IBM[\"Date\"], IBM[\"StockPrice\"], \"g-\", label = \"IBM\")\n",
    "plt.plot(ProcterGamble[\"Date\"], ProcterGamble[\"StockPrice\"], \"c-\", label = \"ProcterGamble\")\n",
    "plt.plot(Boeing[\"Date\"], Boeing[\"StockPrice\"], \"m-\", label = \"Boeing\")\n",
    "\n",
    "plt.xlabel(\"Year\")\n",
    "plt.ylabel(\"Stock Price\")\n",
    "plt.legend()\n",
    "plt.show()"
   ]
  },
  {
   "cell_type": "markdown",
   "metadata": {},
   "source": [
    "## Monthly Trends"
   ]
  },
  {
   "cell_type": "markdown",
   "metadata": {},
   "source": [
    "For IBM, compare the monthly averages to the overall average stock price. In which months has IBM historically had a higher stock price (on average)?"
   ]
  },
  {
   "cell_type": "code",
   "execution_count": 16,
   "metadata": {},
   "outputs": [
    {
     "data": {
      "text/plain": [
       "Month\n",
       "1      True\n",
       "2      True\n",
       "3      True\n",
       "4      True\n",
       "5      True\n",
       "6     False\n",
       "7     False\n",
       "8     False\n",
       "9     False\n",
       "10    False\n",
       "11    False\n",
       "12    False\n",
       "Name: StockPrice, dtype: bool"
      ]
     },
     "execution_count": 16,
     "metadata": {},
     "output_type": "execute_result"
    }
   ],
   "source": [
    "IBM[\"Month\"] = IBM[\"Date\"].dt.month\n",
    "IBM[\"StockPrice\"].groupby(IBM[\"Month\"]).mean() > IBM[\"StockPrice\"].mean()"
   ]
  },
  {
   "cell_type": "markdown",
   "metadata": {},
   "source": [
    "General Electric and Coca-Cola both have their highest average stock price in the same month. Which month is this?"
   ]
  },
  {
   "cell_type": "code",
   "execution_count": 18,
   "metadata": {},
   "outputs": [
    {
     "data": {
      "text/html": [
       "<div>\n",
       "<style>\n",
       "    .dataframe thead tr:only-child th {\n",
       "        text-align: right;\n",
       "    }\n",
       "\n",
       "    .dataframe thead th {\n",
       "        text-align: left;\n",
       "    }\n",
       "\n",
       "    .dataframe tbody tr th {\n",
       "        vertical-align: top;\n",
       "    }\n",
       "</style>\n",
       "<table border=\"1\" class=\"dataframe\">\n",
       "  <thead>\n",
       "    <tr style=\"text-align: right;\">\n",
       "      <th></th>\n",
       "      <th>AvgStockPrice</th>\n",
       "    </tr>\n",
       "    <tr>\n",
       "      <th>Month</th>\n",
       "      <th></th>\n",
       "    </tr>\n",
       "  </thead>\n",
       "  <tbody>\n",
       "    <tr>\n",
       "      <th>4</th>\n",
       "      <td>64.480092</td>\n",
       "    </tr>\n",
       "  </tbody>\n",
       "</table>\n",
       "</div>"
      ],
      "text/plain": [
       "       AvgStockPrice\n",
       "Month               \n",
       "4          64.480092"
      ]
     },
     "execution_count": 18,
     "metadata": {},
     "output_type": "execute_result"
    }
   ],
   "source": [
    "GE[\"Month\"] = GE[\"Date\"].dt.month\n",
    "GE_by_month= GE[\"StockPrice\"].groupby(GE[\"Month\"]).mean().to_frame()\n",
    "GE_by_month.rename(columns = {\"StockPrice\":\"AvgStockPrice\" }, inplace = True)\n",
    "GE_by_month.loc[GE_by_month[\"AvgStockPrice\"] == GE_by_month[\"AvgStockPrice\"].max()]"
   ]
  },
  {
   "cell_type": "code",
   "execution_count": null,
   "metadata": {
    "collapsed": true
   },
   "outputs": [],
   "source": []
  },
  {
   "cell_type": "code",
   "execution_count": 19,
   "metadata": {},
   "outputs": [
    {
     "data": {
      "text/html": [
       "<div>\n",
       "<style>\n",
       "    .dataframe thead tr:only-child th {\n",
       "        text-align: right;\n",
       "    }\n",
       "\n",
       "    .dataframe thead th {\n",
       "        text-align: left;\n",
       "    }\n",
       "\n",
       "    .dataframe tbody tr th {\n",
       "        vertical-align: top;\n",
       "    }\n",
       "</style>\n",
       "<table border=\"1\" class=\"dataframe\">\n",
       "  <thead>\n",
       "    <tr style=\"text-align: right;\">\n",
       "      <th></th>\n",
       "      <th>AvgStockPrice</th>\n",
       "    </tr>\n",
       "    <tr>\n",
       "      <th>Month</th>\n",
       "      <th></th>\n",
       "    </tr>\n",
       "  </thead>\n",
       "  <tbody>\n",
       "    <tr>\n",
       "      <th>4</th>\n",
       "      <td>62.688882</td>\n",
       "    </tr>\n",
       "  </tbody>\n",
       "</table>\n",
       "</div>"
      ],
      "text/plain": [
       "       AvgStockPrice\n",
       "Month               \n",
       "4          62.688882"
      ]
     },
     "execution_count": 19,
     "metadata": {},
     "output_type": "execute_result"
    }
   ],
   "source": [
    "CocaCola[\"Month\"] = CocaCola[\"Date\"].dt.month\n",
    "CC_by_month= CocaCola[\"StockPrice\"].groupby(CocaCola[\"Month\"]).mean().to_frame()\n",
    "CC_by_month.rename(columns = {\"StockPrice\":\"AvgStockPrice\" }, inplace = True)\n",
    "CC_by_month.loc[CC_by_month[\"AvgStockPrice\"] == CC_by_month[\"AvgStockPrice\"].max()]"
   ]
  }
 ],
 "metadata": {
  "kernelspec": {
   "display_name": "Python 3",
   "language": "python",
   "name": "python3"
  },
  "language_info": {
   "codemirror_mode": {
    "name": "ipython",
    "version": 3
   },
   "file_extension": ".py",
   "mimetype": "text/x-python",
   "name": "python",
   "nbconvert_exporter": "python",
   "pygments_lexer": "ipython3",
   "version": "3.7.3"
  }
 },
 "nbformat": 4,
 "nbformat_minor": 2
}
