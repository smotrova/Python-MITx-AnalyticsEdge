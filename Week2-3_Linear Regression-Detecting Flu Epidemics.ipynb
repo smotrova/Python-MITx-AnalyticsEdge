{
 "cells": [
  {
   "cell_type": "markdown",
   "metadata": {},
   "source": [
    "# Detecting Flu Epidemics via Search Engine Query Data"
   ]
  },
  {
   "cell_type": "markdown",
   "metadata": {},
   "source": [
    "Flu epidemics constitute a major public health concern causing respiratory illnesses, hospitalizations, and deaths. According to the National Vital Statistics Reports published in October 2012, influenza ranked as the eighth leading cause of death in 2011 in the United States. Each year, 250,000 to 500,000 deaths are attributed to influenza related diseases throughout the world.\n",
    "\n",
    "The U.S. Centers for Disease Control and Prevention (CDC) and the European Influenza Surveillance Scheme (EISS) detect influenza activity through virologic and clinical data, including Influenza-like Illness (ILI) physician visits. Reporting national and regional data, however, are published with a 1-2 week lag.\n",
    "\n",
    "The [Google Flu Trends](https://www.google.org/flutrends/us/#US) project was initiated to see if faster reporting can be made possible by considering flu-related online search queries -- data that is available almost immediately."
   ]
  },
  {
   "cell_type": "markdown",
   "metadata": {},
   "source": [
    "### Understanding the Data"
   ]
  },
  {
   "cell_type": "markdown",
   "metadata": {},
   "source": [
    "We would like to estimate influenza-like illness (ILI) activity using Google web search logs. Fortunately, one can easily access this data online:\n",
    "\n",
    "ILI Data - The [CDC](http://www.cdc.gov/flu/weekly/fluactivitysurv.htm) publishes on its website the official regional and state-level percentage of patient visits to healthcare providers for ILI purposes on a weekly basis.\n",
    "\n",
    "Google Search Queries - [Google Trends](http://www.google.com/trends/) allows public retrieval of weekly counts for every query searched by users around the world. For each location, the counts are normalized by dividing the count for each query in a particular week by the total number of online search queries submitted in that location during the week. Then, the values are adjusted to be between 0 and 1.\n",
    "\n",
    "The csv file `FluTrain.csv` aggregates this data from January 1, 2004 until December 31, 2011 as follows:\n",
    "\n",
    "**Week** - The range of dates represented by this observation, in year/month/day format.\n",
    "\n",
    "**ILI** - This column lists the percentage of ILI-related physician visits for the corresponding week.\n",
    "\n",
    "**Queries** - This column lists the fraction of queries that are ILI-related for the corresponding week, adjusted to be between 0 and 1 (higher values correspond to more ILI-related search queries)."
   ]
  },
  {
   "cell_type": "code",
   "execution_count": 1,
   "metadata": {},
   "outputs": [],
   "source": [
    "# load required modules\n",
    "import pandas as pd\n",
    "import numpy as np\n",
    "import seaborn as sns\n",
    "import matplotlib.pyplot as plt\n",
    "\n",
    "%matplotlib inline"
   ]
  },
  {
   "cell_type": "markdown",
   "metadata": {},
   "source": [
    "Before applying analytics tools on the training set, we first need to understand the data at hand. Load `FluTrain.csv` into a data frame called FluTrain."
   ]
  },
  {
   "cell_type": "code",
   "execution_count": 2,
   "metadata": {},
   "outputs": [
    {
     "data": {
      "text/html": [
       "<div>\n",
       "<style scoped>\n",
       "    .dataframe tbody tr th:only-of-type {\n",
       "        vertical-align: middle;\n",
       "    }\n",
       "\n",
       "    .dataframe tbody tr th {\n",
       "        vertical-align: top;\n",
       "    }\n",
       "\n",
       "    .dataframe thead th {\n",
       "        text-align: right;\n",
       "    }\n",
       "</style>\n",
       "<table border=\"1\" class=\"dataframe\">\n",
       "  <thead>\n",
       "    <tr style=\"text-align: right;\">\n",
       "      <th></th>\n",
       "      <th>Week</th>\n",
       "      <th>ILI</th>\n",
       "      <th>Queries</th>\n",
       "    </tr>\n",
       "  </thead>\n",
       "  <tbody>\n",
       "    <tr>\n",
       "      <th>0</th>\n",
       "      <td>2004-01-04 - 2004-01-10</td>\n",
       "      <td>2.418331</td>\n",
       "      <td>0.237716</td>\n",
       "    </tr>\n",
       "    <tr>\n",
       "      <th>1</th>\n",
       "      <td>2004-01-11 - 2004-01-17</td>\n",
       "      <td>1.809056</td>\n",
       "      <td>0.220452</td>\n",
       "    </tr>\n",
       "    <tr>\n",
       "      <th>2</th>\n",
       "      <td>2004-01-18 - 2004-01-24</td>\n",
       "      <td>1.712024</td>\n",
       "      <td>0.225764</td>\n",
       "    </tr>\n",
       "    <tr>\n",
       "      <th>3</th>\n",
       "      <td>2004-01-25 - 2004-01-31</td>\n",
       "      <td>1.542495</td>\n",
       "      <td>0.237716</td>\n",
       "    </tr>\n",
       "    <tr>\n",
       "      <th>4</th>\n",
       "      <td>2004-02-01 - 2004-02-07</td>\n",
       "      <td>1.437868</td>\n",
       "      <td>0.224436</td>\n",
       "    </tr>\n",
       "  </tbody>\n",
       "</table>\n",
       "</div>"
      ],
      "text/plain": [
       "                      Week       ILI   Queries\n",
       "0  2004-01-04 - 2004-01-10  2.418331  0.237716\n",
       "1  2004-01-11 - 2004-01-17  1.809056  0.220452\n",
       "2  2004-01-18 - 2004-01-24  1.712024  0.225764\n",
       "3  2004-01-25 - 2004-01-31  1.542495  0.237716\n",
       "4  2004-02-01 - 2004-02-07  1.437868  0.224436"
      ]
     },
     "execution_count": 2,
     "metadata": {},
     "output_type": "execute_result"
    }
   ],
   "source": [
    "fluTrain = pd.read_csv(\"../Data/FluTrain.csv\")\n",
    "fluTrain.head()"
   ]
  },
  {
   "cell_type": "code",
   "execution_count": 3,
   "metadata": {},
   "outputs": [
    {
     "name": "stdout",
     "output_type": "stream",
     "text": [
      "<class 'pandas.core.frame.DataFrame'>\n",
      "RangeIndex: 417 entries, 0 to 416\n",
      "Data columns (total 3 columns):\n",
      "Week       417 non-null object\n",
      "ILI        417 non-null float64\n",
      "Queries    417 non-null float64\n",
      "dtypes: float64(2), object(1)\n",
      "memory usage: 9.9+ KB\n"
     ]
    }
   ],
   "source": [
    "fluTrain.info()"
   ]
  },
  {
   "cell_type": "markdown",
   "metadata": {},
   "source": [
    "Looking at the time period 2004-2011, which week corresponds to the highest percentage of ILI-related physician visits? Select the day of the month corresponding to the start of this week."
   ]
  },
  {
   "cell_type": "code",
   "execution_count": 4,
   "metadata": {},
   "outputs": [
    {
     "data": {
      "text/plain": [
       "302    2009-10-18 - 2009-10-24\n",
       "Name: Week, dtype: object"
      ]
     },
     "execution_count": 4,
     "metadata": {},
     "output_type": "execute_result"
    }
   ],
   "source": [
    "fluTrain[\"Week\"][fluTrain[\"ILI\"] == fluTrain[\"ILI\"].max()]"
   ]
  },
  {
   "cell_type": "markdown",
   "metadata": {},
   "source": [
    "Which week corresponds to the highest percentage of ILI-related query fraction?"
   ]
  },
  {
   "cell_type": "code",
   "execution_count": 5,
   "metadata": {},
   "outputs": [
    {
     "data": {
      "text/plain": [
       "302    2009-10-18 - 2009-10-24\n",
       "Name: Week, dtype: object"
      ]
     },
     "execution_count": 5,
     "metadata": {},
     "output_type": "execute_result"
    }
   ],
   "source": [
    "fluTrain[\"Week\"][fluTrain[\"Queries\"] == fluTrain[\"Queries\"].max()]"
   ]
  },
  {
   "cell_type": "markdown",
   "metadata": {},
   "source": [
    "Let us now understand the data at an aggregate level. Plot the histogram of the dependent variable, ILI. What best describes the distribution of values of ILI?"
   ]
  },
  {
   "cell_type": "code",
   "execution_count": 6,
   "metadata": {},
   "outputs": [
    {
     "data": {
      "image/png": "[encoded data removed]",
      "text/plain": [
       "<Figure size 432x288 with 1 Axes>"
      ]
     },
     "metadata": {},
     "output_type": "display_data"
    }
   ],
   "source": [
    "plt.hist(fluTrain[\"ILI\"], \n",
    "         bins = np.linspace( min(fluTrain[\"ILI\"]), max(fluTrain[\"ILI\"]), 10), \n",
    "         edgecolor = \"black\", facecolor = \"magenta\", alpha = 0.5)\n",
    "\n",
    "plt.xlabel(\"ILI\")\n",
    "plt.xticks(np.linspace( min(fluTrain[\"ILI\"]), max(fluTrain[\"ILI\"]), 10))\n",
    "plt.ylabel(\"Frequency\");"
   ]
  },
  {
   "cell_type": "markdown",
   "metadata": {},
   "source": [
    "Most of the ILI values are small, with a relatively small number of much larger values (in statistics, this sort of data is called \"skew right\"). "
   ]
  },
  {
   "cell_type": "markdown",
   "metadata": {},
   "source": [
    "When handling a skewed dependent variable, it is often useful to predict the logarithm of the dependent variable instead of the dependent variable itself -- this prevents the small number of unusually large or small observations from having an undue influence on the sum of squared errors of predictive models. "
   ]
  },
  {
   "cell_type": "code",
   "execution_count": 7,
   "metadata": {},
   "outputs": [
    {
     "data": {
      "image/png": "[encoded data removed]",
      "text/plain": [
       "<Figure size 432x288 with 1 Axes>"
      ]
     },
     "metadata": {},
     "output_type": "display_data"
    }
   ],
   "source": [
    "plt.scatter(fluTrain[\"Queries\"], fluTrain[\"ILI\"].apply(np.log), \n",
    "            color = \"m\", edgecolors = \"black\", alpha = 0.5)\n",
    "plt.xlabel(\"Queries\", fontsize = 14)\n",
    "plt.ylabel(\"ln(ILI)\", fontsize = 14);"
   ]
  },
  {
   "cell_type": "markdown",
   "metadata": {},
   "source": [
    "### Linear Regression Model"
   ]
  },
  {
   "cell_type": "markdown",
   "metadata": {},
   "source": [
    "Based on the plot we just made, it seems that a linear regression model could be a good modeling choice. \n",
    "\n",
    "$log(ILI) = intercept + coef*Queries$, where the coefficient is positive"
   ]
  },
  {
   "cell_type": "code",
   "execution_count": 8,
   "metadata": {},
   "outputs": [],
   "source": [
    "# create a new variable\n",
    "fluTrain[\"log_ILI\"] = fluTrain[\"ILI\"].apply(np.log)"
   ]
  },
  {
   "cell_type": "code",
   "execution_count": 9,
   "metadata": {},
   "outputs": [
    {
     "name": "stdout",
     "output_type": "stream",
     "text": [
      "                            OLS Regression Results                            \n",
      "==============================================================================\n",
      "Dep. Variable:                log_ILI   R-squared:                       0.709\n",
      "Model:                            OLS   Adj. R-squared:                  0.708\n",
      "Method:                 Least Squares   F-statistic:                     1011.\n",
      "Date:                Sun, 14 Jul 2019   Prob (F-statistic):          2.62e-113\n",
      "Time:                        21:21:48   Log-Likelihood:                -87.974\n",
      "No. Observations:                 417   AIC:                             179.9\n",
      "Df Residuals:                     415   BIC:                             188.0\n",
      "Df Model:                           1                                         \n",
      "Covariance Type:            nonrobust                                         \n",
      "==============================================================================\n",
      "                 coef    std err          t      P>|t|      [0.025      0.975]\n",
      "------------------------------------------------------------------------------\n",
      "Intercept     -0.4993      0.030    -16.422      0.000      -0.559      -0.440\n",
      "Queries        2.9613      0.093     31.800      0.000       2.778       3.144\n",
      "==============================================================================\n",
      "Omnibus:                        9.797   Durbin-Watson:                   0.283\n",
      "Prob(Omnibus):                  0.007   Jarque-Bera (JB):                9.884\n",
      "Skew:                           0.373   Prob(JB):                      0.00714\n",
      "Kurtosis:                       3.112   Cond. No.                         6.88\n",
      "==============================================================================\n",
      "\n",
      "Warnings:\n",
      "[1] Standard Errors assume that the covariance matrix of the errors is correctly specified.\n"
     ]
    }
   ],
   "source": [
    "# linear regression using statsmodel \n",
    "# statsmodel using formula\n",
    "import statsmodels.formula.api as smf\n",
    "\n",
    "features = ['Queries']\n",
    "xTrain = fluTrain[features]\n",
    "yTrain = fluTrain['log_ILI']\n",
    "\n",
    "x = \"+\".join(features)\n",
    "modelLR_stat = smf.ols('log_ILI ~ {}'.format(x), data = fluTrain).fit()\n",
    "print(modelLR_stat.summary())"
   ]
  },
  {
   "cell_type": "markdown",
   "metadata": {},
   "source": [
    "For a single variable linear regression model, there is a direct relationship between the R-squared and the correlation between the independent and the dependent variables: $R^2 = r^2$, where $r$ is a correlation."
   ]
  },
  {
   "cell_type": "markdown",
   "metadata": {},
   "source": [
    "### Performance on the Test Set"
   ]
  },
  {
   "cell_type": "markdown",
   "metadata": {},
   "source": [
    "The csv file `FluTest.csv` provides the 2012 weekly data of the ILI-related search queries and the observed weekly percentage of ILI-related physician visits. Load this data into a data frame called FluTest.\n",
    "\n",
    "Normally, we would obtain test-set predictions from the linear regression model. However, the dependent variable in our model is $log(ILI)$, so we need to convert from predictions of $log(ILI)$ to predictions of ILI via exponentiation, or the exp() function."
   ]
  },
  {
   "cell_type": "code",
   "execution_count": 10,
   "metadata": {},
   "outputs": [],
   "source": [
    "fluTest = pd.read_csv(\"../Data/FluTest.csv\")\n",
    "xTest = fluTest[features]\n",
    "yTest = fluTest[\"ILI\"]"
   ]
  },
  {
   "cell_type": "code",
   "execution_count": 11,
   "metadata": {},
   "outputs": [],
   "source": [
    "predictedILI = modelLR_stat.predict(xTest)\n",
    "predictedILI = predictedILI.apply(np.exp)"
   ]
  },
  {
   "cell_type": "markdown",
   "metadata": {},
   "source": [
    "What is our estimate for the percentage of ILI-related physician visits for the week of March 11, 2012?"
   ]
  },
  {
   "cell_type": "code",
   "execution_count": 12,
   "metadata": {},
   "outputs": [
    {
     "data": {
      "text/plain": [
       "10    2.187378\n",
       "dtype: float64"
      ]
     },
     "execution_count": 12,
     "metadata": {},
     "output_type": "execute_result"
    }
   ],
   "source": [
    "weekFilter = fluTest[\"Week\"] == '2012-03-11 - 2012-03-17'\n",
    "predictedILI[weekFilter]"
   ]
  },
  {
   "cell_type": "markdown",
   "metadata": {},
   "source": [
    "What is the relative error betweeen the estimate (our prediction) and the observed value for the week of March 11, 2012? "
   ]
  },
  {
   "cell_type": "code",
   "execution_count": 13,
   "metadata": {},
   "outputs": [
    {
     "data": {
      "text/plain": [
       "10    0.046238\n",
       "dtype: float64"
      ]
     },
     "execution_count": 13,
     "metadata": {},
     "output_type": "execute_result"
    }
   ],
   "source": [
    "(yTest[weekFilter] - predictedILI[weekFilter])/yTest[weekFilter]"
   ]
  },
  {
   "cell_type": "markdown",
   "metadata": {},
   "source": [
    "What is the Root Mean Square Error (RMSE) between our estimates and the actual observations for the percentage of ILI-related physician visits, on the test set?"
   ]
  },
  {
   "cell_type": "markdown",
   "metadata": {},
   "source": [
    "_Mean square error_ (MSE)\n",
    "\\begin{equation}\n",
    "  MSE = \\frac{1}{n}\\sum_{i=1}^{n}{(y_{i}-\\hat y_{i})^2}\n",
    "\\end{equation}\n",
    "\n",
    "_Root Mean Square Error_ (RMSE)\n",
    "\\begin{equation}\n",
    "  RMSE = \\sqrt{MSE}\n",
    "\\end{equation}\n"
   ]
  },
  {
   "cell_type": "code",
   "execution_count": 14,
   "metadata": {},
   "outputs": [
    {
     "data": {
      "text/plain": [
       "0.7490645271019662"
      ]
     },
     "execution_count": 14,
     "metadata": {},
     "output_type": "execute_result"
    }
   ],
   "source": [
    "np.sqrt(np.mean((yTest - predictedILI)**2))"
   ]
  },
  {
   "cell_type": "markdown",
   "metadata": {},
   "source": [
    "### Time series model"
   ]
  },
  {
   "cell_type": "markdown",
   "metadata": {},
   "source": [
    "The observations in this dataset are consecutive weekly measurements of the dependent and independent variables. This sort of dataset is called a \"time series.\" Often, statistical models can be improved by predicting the current value of the dependent variable using the value of the dependent variable from earlier weeks. In our models, this means we will predict the ILI variable in the current week using values of the ILI variable from previous weeks.\n",
    "\n",
    "First, we need to decide the amount of time to lag the observations. Because the ILI variable is reported with a 1- or 2-week lag, a decision maker cannot rely on the previous week's ILI value to predict the current week's value. Instead, the decision maker will only have data available from 2 or more weeks ago. We will build a variable called ILILag2 that contains the ILI value from 2 weeks before the current observation."
   ]
  },
  {
   "cell_type": "code",
   "execution_count": 15,
   "metadata": {},
   "outputs": [],
   "source": [
    "# build a new variable that contains values of the ILI with a 2 weeks lag\n",
    "fluTrain[[\"ILILag2\"]] = fluTrain[[\"ILI\"]].shift(periods = 2)\n",
    "fluTrain[[\"log_ILILag2\"]] = fluTrain[[\"ILILag2\"]].apply(np.log)"
   ]
  },
  {
   "cell_type": "markdown",
   "metadata": {},
   "source": [
    "There is a strong positive relationship between log(ILILag2) and log(ILI)."
   ]
  },
  {
   "cell_type": "code",
   "execution_count": 16,
   "metadata": {},
   "outputs": [
    {
     "data": {
      "image/png": "[encoded data removed]",
      "text/plain": [
       "<Figure size 432x288 with 1 Axes>"
      ]
     },
     "metadata": {},
     "output_type": "display_data"
    }
   ],
   "source": [
    "plt.scatter(fluTrain[[\"log_ILI\"]], fluTrain[[\"log_ILILag2\"]],\n",
    "           color = \"magenta\", alpha = 0.5, edgecolor = \"black\")\n",
    "plt.xlabel(\"$log(ILI)$\")\n",
    "plt.ylabel(\"$log(ILILag2)$\");"
   ]
  },
  {
   "cell_type": "markdown",
   "metadata": {},
   "source": [
    "Train a linear regression model on the FluTrain dataset to predict the log of the ILI variable using the Queries variable as well as the log of the ILILag2 variable."
   ]
  },
  {
   "cell_type": "code",
   "execution_count": 17,
   "metadata": {},
   "outputs": [
    {
     "name": "stdout",
     "output_type": "stream",
     "text": [
      "                            OLS Regression Results                            \n",
      "==============================================================================\n",
      "Dep. Variable:                log_ILI   R-squared:                       0.906\n",
      "Model:                            OLS   Adj. R-squared:                  0.906\n",
      "Method:                 Least Squares   F-statistic:                     1993.\n",
      "Date:                Sun, 14 Jul 2019   Prob (F-statistic):          1.38e-212\n",
      "Time:                        21:21:49   Log-Likelihood:                 147.24\n",
      "No. Observations:                 415   AIC:                            -288.5\n",
      "Df Residuals:                     412   BIC:                            -276.4\n",
      "Df Model:                           2                                         \n",
      "Covariance Type:            nonrobust                                         \n",
      "===============================================================================\n",
      "                  coef    std err          t      P>|t|      [0.025      0.975]\n",
      "-------------------------------------------------------------------------------\n",
      "Intercept      -0.2406      0.020    -12.321      0.000      -0.279      -0.202\n",
      "Queries         1.2558      0.079     15.876      0.000       1.100       1.411\n",
      "log_ILILag2     0.6557      0.023     29.135      0.000       0.611       0.700\n",
      "==============================================================================\n",
      "Omnibus:                       74.791   Durbin-Watson:                   0.764\n",
      "Prob(Omnibus):                  0.000   Jarque-Bera (JB):              159.402\n",
      "Skew:                           0.950   Prob(JB):                     2.43e-35\n",
      "Kurtosis:                       5.368   Cond. No.                         11.1\n",
      "==============================================================================\n",
      "\n",
      "Warnings:\n",
      "[1] Standard Errors assume that the covariance matrix of the errors is correctly specified.\n"
     ]
    }
   ],
   "source": [
    "# linera regression for time series model\n",
    "features = ['Queries', 'log_ILILag2']\n",
    "xTrain = fluTrain[features]\n",
    "yTrain = fluTrain['log_ILI']\n",
    "\n",
    "x = \"+\".join(features)\n",
    "modelLR_time_series = smf.ols('log_ILI ~ {}'.format(x), data = fluTrain).fit()\n",
    "print(modelLR_time_series.summary())"
   ]
  },
  {
   "cell_type": "markdown",
   "metadata": {},
   "source": [
    "Intercept, Queries, and log_ILILag2 coefficients are significant at the p=0.05 level in this regression model. Moving from modelLR_stat to modelLR_time_series, in-sample $R^2$ improved from 0.709 to 0.9063, and the new variable is highly significant. As a result, there is no sign of overfitting, and modelLR_time_series is superior to modelLR_stat on the training set."
   ]
  },
  {
   "cell_type": "markdown",
   "metadata": {},
   "source": [
    "### Evaluating the Time Series Model in the Test Set"
   ]
  },
  {
   "cell_type": "markdown",
   "metadata": {},
   "source": [
    "So far, we have only added the ILILag2 variable to the fluTrain data frame. To make predictions with our modelLR_time_series, we will also need to add ILILag2 to the fluTest data frame."
   ]
  },
  {
   "cell_type": "code",
   "execution_count": 18,
   "metadata": {},
   "outputs": [],
   "source": [
    "fluTest[[\"ILILag2\"]] = fluTest[[\"ILI\"]].shift(periods = 2)\n",
    "fluTest[[\"log_ILILag2\"]] = fluTest[[\"ILILag2\"]].apply(np.log)"
   ]
  },
  {
   "cell_type": "markdown",
   "metadata": {},
   "source": [
    "In this problem, the training and testing sets are split sequentially -- the training set contains all observations from 2004-2011 and the testing set contains all observations from 2012. There is no time gap between the two datasets, meaning the first observation in FluTest was recorded one week after the last observation in FluTrain."
   ]
  },
  {
   "cell_type": "code",
   "execution_count": 19,
   "metadata": {},
   "outputs": [
    {
     "name": "stdout",
     "output_type": "stream",
     "text": [
      "Training Data Set\n",
      "                        Week       ILI  ...   ILILag2  log_ILILag2\n",
      "412  2011-11-27 - 2011-12-03  1.465723  ...  1.462212     0.379950\n",
      "413  2011-12-04 - 2011-12-10  1.518106  ...  1.655415     0.504052\n",
      "414  2011-12-11 - 2011-12-17  1.663954  ...  1.465723     0.382349\n",
      "415  2011-12-18 - 2011-12-24  1.852736  ...  1.518106     0.417464\n",
      "416  2011-12-25 - 2011-12-31  2.124130  ...  1.663954     0.509197\n",
      "\n",
      "[5 rows x 6 columns]\n",
      "\n",
      "Test Data Set\n",
      "                      Week       ILI   Queries   ILILag2  log_ILILag2\n",
      "0  2012-01-01 - 2012-01-07  1.766707  0.593625       NaN          NaN\n",
      "1  2012-01-08 - 2012-01-14  1.543401  0.499336       NaN          NaN\n",
      "2  2012-01-15 - 2012-01-21  1.647615  0.500664  1.766707     0.569117\n",
      "3  2012-01-22 - 2012-01-28  1.684297  0.479416  1.543401     0.433988\n",
      "4  2012-01-29 - 2012-02-04  1.863542  0.471448  1.647615     0.499329\n"
     ]
    }
   ],
   "source": [
    "print(\"Training Data Set\")\n",
    "print(fluTrain.tail())\n",
    "print(\"\\nTest Data Set\")\n",
    "print(fluTest.head())"
   ]
  },
  {
   "cell_type": "markdown",
   "metadata": {},
   "source": [
    "From this, we can fill in the ILILag2 variable for the first and second observations in FluTest with the ILI value of the two last observations in the FluTrain data frame."
   ]
  },
  {
   "cell_type": "code",
   "execution_count": 20,
   "metadata": {},
   "outputs": [
    {
     "data": {
      "text/html": [
       "<div>\n",
       "<style scoped>\n",
       "    .dataframe tbody tr th:only-of-type {\n",
       "        vertical-align: middle;\n",
       "    }\n",
       "\n",
       "    .dataframe tbody tr th {\n",
       "        vertical-align: top;\n",
       "    }\n",
       "\n",
       "    .dataframe thead th {\n",
       "        text-align: right;\n",
       "    }\n",
       "</style>\n",
       "<table border=\"1\" class=\"dataframe\">\n",
       "  <thead>\n",
       "    <tr style=\"text-align: right;\">\n",
       "      <th></th>\n",
       "      <th>Week</th>\n",
       "      <th>ILI</th>\n",
       "      <th>Queries</th>\n",
       "      <th>ILILag2</th>\n",
       "      <th>log_ILILag2</th>\n",
       "    </tr>\n",
       "  </thead>\n",
       "  <tbody>\n",
       "    <tr>\n",
       "      <th>0</th>\n",
       "      <td>2012-01-01 - 2012-01-07</td>\n",
       "      <td>1.766707</td>\n",
       "      <td>0.593625</td>\n",
       "      <td>1.852736</td>\n",
       "      <td>0.616663</td>\n",
       "    </tr>\n",
       "    <tr>\n",
       "      <th>1</th>\n",
       "      <td>2012-01-08 - 2012-01-14</td>\n",
       "      <td>1.543401</td>\n",
       "      <td>0.499336</td>\n",
       "      <td>2.124130</td>\n",
       "      <td>0.753362</td>\n",
       "    </tr>\n",
       "    <tr>\n",
       "      <th>2</th>\n",
       "      <td>2012-01-15 - 2012-01-21</td>\n",
       "      <td>1.647615</td>\n",
       "      <td>0.500664</td>\n",
       "      <td>1.766707</td>\n",
       "      <td>0.569117</td>\n",
       "    </tr>\n",
       "    <tr>\n",
       "      <th>3</th>\n",
       "      <td>2012-01-22 - 2012-01-28</td>\n",
       "      <td>1.684297</td>\n",
       "      <td>0.479416</td>\n",
       "      <td>1.543401</td>\n",
       "      <td>0.433988</td>\n",
       "    </tr>\n",
       "    <tr>\n",
       "      <th>4</th>\n",
       "      <td>2012-01-29 - 2012-02-04</td>\n",
       "      <td>1.863542</td>\n",
       "      <td>0.471448</td>\n",
       "      <td>1.647615</td>\n",
       "      <td>0.499329</td>\n",
       "    </tr>\n",
       "  </tbody>\n",
       "</table>\n",
       "</div>"
      ],
      "text/plain": [
       "                      Week       ILI   Queries   ILILag2  log_ILILag2\n",
       "0  2012-01-01 - 2012-01-07  1.766707  0.593625  1.852736     0.616663\n",
       "1  2012-01-08 - 2012-01-14  1.543401  0.499336  2.124130     0.753362\n",
       "2  2012-01-15 - 2012-01-21  1.647615  0.500664  1.766707     0.569117\n",
       "3  2012-01-22 - 2012-01-28  1.684297  0.479416  1.543401     0.433988\n",
       "4  2012-01-29 - 2012-02-04  1.863542  0.471448  1.647615     0.499329"
      ]
     },
     "execution_count": 20,
     "metadata": {},
     "output_type": "execute_result"
    }
   ],
   "source": [
    "fluTest.loc[0, \"log_ILILag2\"] = fluTrain[\"log_ILI\"].iloc[-2]\n",
    "fluTest.loc[1, \"log_ILILag2\"] = fluTrain[\"log_ILI\"].iloc[-1]\n",
    "\n",
    "fluTest.loc[0,\"ILILag2\"] = fluTrain[\"ILI\"].iloc[-2]\n",
    "fluTest.loc[1, \"ILILag2\"] = fluTrain[\"ILI\"].iloc[-1]\n",
    "\n",
    "fluTest.head()\n"
   ]
  },
  {
   "cell_type": "code",
   "execution_count": 21,
   "metadata": {},
   "outputs": [],
   "source": [
    "xTest = fluTest[features]\n",
    "yTest = fluTest[\"ILI\"]\n",
    "\n",
    "predictedILI = modelLR_time_series.predict(xTest)\n",
    "predictedILI = predictedILI.apply(np.exp)"
   ]
  },
  {
   "cell_type": "markdown",
   "metadata": {},
   "source": [
    "The test-set RMSE of the time series model"
   ]
  },
  {
   "cell_type": "code",
   "execution_count": 22,
   "metadata": {},
   "outputs": [
    {
     "data": {
      "text/plain": [
       "0.2942028535866688"
      ]
     },
     "execution_count": 22,
     "metadata": {},
     "output_type": "execute_result"
    }
   ],
   "source": [
    "np.sqrt(np.mean((yTest - predictedILI)**2))"
   ]
  },
  {
   "cell_type": "markdown",
   "metadata": {},
   "source": [
    "that is the best test set RSME of the two models."
   ]
  }
 ],
 "metadata": {
  "kernelspec": {
   "display_name": "Python 3 (Spyder)",
   "language": "python3",
   "name": "python3"
  },
  "language_info": {
   "codemirror_mode": {
    "name": "ipython",
    "version": 3
   },
   "file_extension": ".py",
   "mimetype": "text/x-python",
   "name": "python",
   "nbconvert_exporter": "python",
   "pygments_lexer": "ipython3",
   "version": "3.7.3"
  }
 },
 "nbformat": 4,
 "nbformat_minor": 2
}
