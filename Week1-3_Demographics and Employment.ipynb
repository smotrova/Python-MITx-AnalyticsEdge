{
 "cells": [
  {
   "cell_type": "markdown",
   "metadata": {},
   "source": [
    "# Demographics and Employment in the United States"
   ]
  },
  {
   "cell_type": "markdown",
   "metadata": {},
   "source": [
    "## Table of Content\n",
    "\n",
    "[Data Description](#Data-Description)\n",
    "\n",
    "[Loading and Summarizing the Dataset](#Loading-and-Summarizing-the-Dataset)\n",
    "\n",
    "[Evaluating Missing Values](#Evaluating-Missing-Values)\n",
    "\n",
    "[Integrating Metropolitan Area Data](#Integrating-Metropolitan-Area-Data)\n",
    "\n",
    "[Integrating Country of Birth Data](#Integrating-Country-of-Birth-Data)"
   ]
  },
  {
   "cell_type": "markdown",
   "metadata": {},
   "source": [
    "## Data Description"
   ]
  },
  {
   "cell_type": "markdown",
   "metadata": {},
   "source": [
    "In the wake of the Great Recession of 2009, there has been a good deal of focus on employment statistics, one of the most important metrics policymakers use to gauge the overall strength of the economy. In the United States, the government measures unemployment using the Current Population Survey (CPS), which collects demographic and employment information from a wide range of Americans each month.\n",
    "\n",
    "The observations in the dataset represent people surveyed in the September 2013 CPS who actually completed a survey. While the full dataset has 385 variables, in this exercise we will use a more compact version of the dataset, `CPSData.csv`, which has the following variables:\n",
    "\n",
    "* **PeopleInHousehold**: The number of people in the interviewee's household.\n",
    "\n",
    "* **Region**: The census region where the interviewee lives.\n",
    "\n",
    "* **State**: The state where the interviewee lives.\n",
    "\n",
    "* **MetroAreaCode**: A code that identifies the metropolitan area in which the interviewee lives (missing if the interviewee does not live in a metropolitan area). The mapping from codes to names of metropolitan areas is provided in the file MetroAreaCodes.csv.\n",
    "\n",
    "* **Age**: The age, in years, of the interviewee. 80 represents people aged 80-84, and 85 represents people aged 85 and higher.\n",
    "\n",
    "* **Married**: The marriage status of the interviewee.\n",
    "\n",
    "* **Sex**: The sex of the interviewee.\n",
    "\n",
    "* **Education**: The maximum level of education obtained by the interviewee.\n",
    "\n",
    "* **Race**: The race of the interviewee.\n",
    "\n",
    "* **Hispanic**: Whether the interviewee is of Hispanic ethnicity.\n",
    "\n",
    "* **CountryOfBirthCode**: A code identifying the country of birth of the interviewee. The mapping from codes to names of countries is provided in the file CountryCodes.csv.\n",
    "\n",
    "* **Citizenship**: The United States citizenship status of the interviewee.\n",
    "\n",
    "* **EmploymentStatus**: The status of employment of the interviewee.\n",
    "\n",
    "* **Industry**: The industry of employment of the interviewee (only available if they are employed)."
   ]
  },
  {
   "cell_type": "markdown",
   "metadata": {},
   "source": [
    "## Loading and Summarizing the Dataset"
   ]
  },
  {
   "cell_type": "code",
   "execution_count": 1,
   "metadata": {},
   "outputs": [
    {
     "name": "stdout",
     "output_type": "stream",
     "text": [
      "Pandas version:  0.20.3\n"
     ]
    }
   ],
   "source": [
    "import pandas as pd\n",
    "print ('Pandas version: ', pd.__version__)\n",
    "\n",
    "import numpy as np\n",
    "\n",
    "import matplotlib.pyplot as plt\n",
    "\n",
    "% matplotlib inline"
   ]
  },
  {
   "cell_type": "code",
   "execution_count": 2,
   "metadata": {},
   "outputs": [],
   "source": [
    "CPS = pd.read_csv(\"../Data/CPSData.csv\")"
   ]
  },
  {
   "cell_type": "code",
   "execution_count": 3,
   "metadata": {
    "scrolled": true
   },
   "outputs": [
    {
     "name": "stdout",
     "output_type": "stream",
     "text": [
      "<class 'pandas.core.frame.DataFrame'>\n",
      "RangeIndex: 131302 entries, 0 to 131301\n",
      "Data columns (total 14 columns):\n",
      "PeopleInHousehold     131302 non-null int64\n",
      "Region                131302 non-null object\n",
      "State                 131302 non-null object\n",
      "MetroAreaCode         97064 non-null float64\n",
      "Age                   131302 non-null int64\n",
      "Married               105964 non-null object\n",
      "Sex                   131302 non-null object\n",
      "Education             105964 non-null object\n",
      "Race                  131302 non-null object\n",
      "Hispanic              131302 non-null int64\n",
      "CountryOfBirthCode    131302 non-null int64\n",
      "Citizenship           131302 non-null object\n",
      "EmploymentStatus      105513 non-null object\n",
      "Industry              66242 non-null object\n",
      "dtypes: float64(1), int64(4), object(9)\n",
      "memory usage: 14.0+ MB\n"
     ]
    }
   ],
   "source": [
    "CPS.info()"
   ]
  },
  {
   "cell_type": "markdown",
   "metadata": {},
   "source": [
    "How many interviewees are in the dataset?\n",
    "\n"
   ]
  },
  {
   "cell_type": "code",
   "execution_count": 4,
   "metadata": {},
   "outputs": [
    {
     "data": {
      "text/plain": [
       "(131302, 14)"
      ]
     },
     "execution_count": 4,
     "metadata": {},
     "output_type": "execute_result"
    }
   ],
   "source": [
    "CPS.shape"
   ]
  },
  {
   "cell_type": "markdown",
   "metadata": {},
   "source": [
    "Among the interviewees with a value reported for the Industry variable, what is the most common industry of employment? Please enter the name exactly how you see it."
   ]
  },
  {
   "cell_type": "code",
   "execution_count": 5,
   "metadata": {},
   "outputs": [
    {
     "data": {
      "text/plain": [
       "Educational and health services                15017\n",
       "Trade                                           8933\n",
       "Professional and business services              7519\n",
       "Manufacturing                                   6791\n",
       "Leisure and hospitality                         6364\n",
       "Construction                                    4387\n",
       "Financial                                       4347\n",
       "Transportation and utilities                    3260\n",
       "Other services                                  3224\n",
       "Public administration                           3186\n",
       "Information                                     1328\n",
       "Agriculture, forestry, fishing, and hunting     1307\n",
       "Mining                                           550\n",
       "Armed forces                                      29\n",
       "Name: Industry, dtype: int64"
      ]
     },
     "execution_count": 5,
     "metadata": {},
     "output_type": "execute_result"
    }
   ],
   "source": [
    "CPS[\"Industry\"].value_counts()"
   ]
  },
  {
   "cell_type": "markdown",
   "metadata": {},
   "source": [
    "Which state has the fewest interviewees? Which state has the largest number of interviewees?"
   ]
  },
  {
   "cell_type": "code",
   "execution_count": 6,
   "metadata": {},
   "outputs": [
    {
     "data": {
      "text/plain": [
       "California              11570\n",
       "Texas                    7077\n",
       "New York                 5595\n",
       "Florida                  5149\n",
       "Pennsylvania             3930\n",
       "Illinois                 3912\n",
       "Ohio                     3678\n",
       "Maryland                 3200\n",
       "Minnesota                3139\n",
       "Michigan                 3063\n",
       "Virginia                 2953\n",
       "Colorado                 2925\n",
       "Connecticut              2836\n",
       "Georgia                  2807\n",
       "Wisconsin                2686\n",
       "New Hampshire            2662\n",
       "North Carolina           2619\n",
       "New Jersey               2567\n",
       "Iowa                     2528\n",
       "Washington               2366\n",
       "Maine                    2263\n",
       "Delaware                 2214\n",
       "Rhode Island             2209\n",
       "Missouri                 2145\n",
       "Hawaii                   2099\n",
       "Indiana                  2004\n",
       "South Dakota             2000\n",
       "Massachusetts            1987\n",
       "Nebraska                 1949\n",
       "Oregon                   1943\n",
       "Kansas                   1935\n",
       "Vermont                  1890\n",
       "Nevada                   1856\n",
       "Utah                     1842\n",
       "Kentucky                 1841\n",
       "District of Columbia     1791\n",
       "Tennessee                1784\n",
       "South Carolina           1658\n",
       "North Dakota             1645\n",
       "Wyoming                  1624\n",
       "Alaska                   1590\n",
       "Arizona                  1528\n",
       "Oklahoma                 1523\n",
       "Idaho                    1518\n",
       "Louisiana                1450\n",
       "Arkansas                 1421\n",
       "West Virginia            1409\n",
       "Alabama                  1376\n",
       "Mississippi              1230\n",
       "Montana                  1214\n",
       "New Mexico               1102\n",
       "Name: State, dtype: int64"
      ]
     },
     "execution_count": 6,
     "metadata": {},
     "output_type": "execute_result"
    }
   ],
   "source": [
    "CPS[\"State\"].value_counts()"
   ]
  },
  {
   "cell_type": "markdown",
   "metadata": {},
   "source": [
    "What proportion of interviewees are citizens of the United States?"
   ]
  },
  {
   "cell_type": "code",
   "execution_count": 7,
   "metadata": {},
   "outputs": [
    {
     "name": "stdout",
     "output_type": "stream",
     "text": [
      "                      Citizenship\n",
      "Citizen, Native            116639\n",
      "Non-Citizen                  7590\n",
      "Citizen, Naturalized         7073\n"
     ]
    },
    {
     "data": {
      "text/plain": [
       "Citizenship    0.942194\n",
       "dtype: float64"
      ]
     },
     "execution_count": 7,
     "metadata": {},
     "output_type": "execute_result"
    }
   ],
   "source": [
    "citizens_USA = CPS[\"Citizenship\"].value_counts().to_frame()\n",
    "print(citizens_USA)\n",
    "\n",
    "(citizens_USA.loc['Citizen, Native'] + citizens_USA.loc['Citizen, Naturalized'])/len(CPS[\"Citizenship\"])"
   ]
  },
  {
   "cell_type": "markdown",
   "metadata": {},
   "source": [
    "The CPS differentiates between race (with possible values American Indian, Asian, Black, Pacific Islander, White, or Multiracial) and ethnicity. A number of interviewees are of Hispanic ethnicity, as captured by the Hispanic variable. For which races are there at least 250 interviewees in the CPS dataset of Hispanic ethnicity?"
   ]
  },
  {
   "cell_type": "code",
   "execution_count": 8,
   "metadata": {},
   "outputs": [
    {
     "data": {
      "text/html": [
       "<div>\n",
       "<style>\n",
       "    .dataframe thead tr:only-child th {\n",
       "        text-align: right;\n",
       "    }\n",
       "\n",
       "    .dataframe thead th {\n",
       "        text-align: left;\n",
       "    }\n",
       "\n",
       "    .dataframe tbody tr th {\n",
       "        vertical-align: top;\n",
       "    }\n",
       "</style>\n",
       "<table border=\"1\" class=\"dataframe\">\n",
       "  <thead>\n",
       "    <tr style=\"text-align: right;\">\n",
       "      <th>Hispanic</th>\n",
       "      <th>0</th>\n",
       "      <th>1</th>\n",
       "    </tr>\n",
       "    <tr>\n",
       "      <th>Race</th>\n",
       "      <th></th>\n",
       "      <th></th>\n",
       "    </tr>\n",
       "  </thead>\n",
       "  <tbody>\n",
       "    <tr>\n",
       "      <th>American Indian</th>\n",
       "      <td>1129</td>\n",
       "      <td>304</td>\n",
       "    </tr>\n",
       "    <tr>\n",
       "      <th>Asian</th>\n",
       "      <td>6407</td>\n",
       "      <td>113</td>\n",
       "    </tr>\n",
       "    <tr>\n",
       "      <th>Black</th>\n",
       "      <td>13292</td>\n",
       "      <td>621</td>\n",
       "    </tr>\n",
       "    <tr>\n",
       "      <th>Multiracial</th>\n",
       "      <td>2449</td>\n",
       "      <td>448</td>\n",
       "    </tr>\n",
       "    <tr>\n",
       "      <th>Pacific Islander</th>\n",
       "      <td>541</td>\n",
       "      <td>77</td>\n",
       "    </tr>\n",
       "    <tr>\n",
       "      <th>White</th>\n",
       "      <td>89190</td>\n",
       "      <td>16731</td>\n",
       "    </tr>\n",
       "  </tbody>\n",
       "</table>\n",
       "</div>"
      ],
      "text/plain": [
       "Hispanic              0      1\n",
       "Race                          \n",
       "American Indian    1129    304\n",
       "Asian              6407    113\n",
       "Black             13292    621\n",
       "Multiracial        2449    448\n",
       "Pacific Islander    541     77\n",
       "White             89190  16731"
      ]
     },
     "execution_count": 8,
     "metadata": {},
     "output_type": "execute_result"
    }
   ],
   "source": [
    "pd.crosstab(CPS[\"Race\"], CPS[\"Hispanic\"])"
   ]
  },
  {
   "cell_type": "markdown",
   "metadata": {},
   "source": [
    "## Evaluating Missing Values"
   ]
  },
  {
   "cell_type": "markdown",
   "metadata": {},
   "source": [
    "Which variables have at least one interviewee with a missing (NA) value? "
   ]
  },
  {
   "cell_type": "code",
   "execution_count": 9,
   "metadata": {},
   "outputs": [
    {
     "data": {
      "text/plain": [
       "MetroAreaCode       34238\n",
       "Married             25338\n",
       "Education           25338\n",
       "EmploymentStatus    25789\n",
       "Industry            65060\n",
       "dtype: int64"
      ]
     },
     "execution_count": 9,
     "metadata": {},
     "output_type": "execute_result"
    }
   ],
   "source": [
    "columns_with_NA = CPS.isnull().sum(axis = 0)\n",
    "columns_with_NA[columns_with_NA > 0]"
   ]
  },
  {
   "cell_type": "markdown",
   "metadata": {},
   "source": [
    "Often when evaluating a new dataset, we try to identify if there is a pattern in the missing values in the dataset. For example, the `Married` variable being missing is related to the `Age` value for the interviewee."
   ]
  },
  {
   "cell_type": "code",
   "execution_count": 10,
   "metadata": {
    "scrolled": true
   },
   "outputs": [
    {
     "data": {
      "text/html": [
       "<div>\n",
       "<style>\n",
       "    .dataframe thead tr:only-child th {\n",
       "        text-align: right;\n",
       "    }\n",
       "\n",
       "    .dataframe thead th {\n",
       "        text-align: left;\n",
       "    }\n",
       "\n",
       "    .dataframe tbody tr th {\n",
       "        vertical-align: top;\n",
       "    }\n",
       "</style>\n",
       "<table border=\"1\" class=\"dataframe\">\n",
       "  <thead>\n",
       "    <tr style=\"text-align: right;\">\n",
       "      <th>Married_NA</th>\n",
       "      <th>False</th>\n",
       "      <th>True</th>\n",
       "    </tr>\n",
       "    <tr>\n",
       "      <th>Age</th>\n",
       "      <th></th>\n",
       "      <th></th>\n",
       "    </tr>\n",
       "  </thead>\n",
       "  <tbody>\n",
       "    <tr>\n",
       "      <th>0</th>\n",
       "      <td>0</td>\n",
       "      <td>1283</td>\n",
       "    </tr>\n",
       "    <tr>\n",
       "      <th>1</th>\n",
       "      <td>0</td>\n",
       "      <td>1559</td>\n",
       "    </tr>\n",
       "    <tr>\n",
       "      <th>2</th>\n",
       "      <td>0</td>\n",
       "      <td>1574</td>\n",
       "    </tr>\n",
       "    <tr>\n",
       "      <th>3</th>\n",
       "      <td>0</td>\n",
       "      <td>1693</td>\n",
       "    </tr>\n",
       "    <tr>\n",
       "      <th>4</th>\n",
       "      <td>0</td>\n",
       "      <td>1695</td>\n",
       "    </tr>\n",
       "    <tr>\n",
       "      <th>5</th>\n",
       "      <td>0</td>\n",
       "      <td>1795</td>\n",
       "    </tr>\n",
       "    <tr>\n",
       "      <th>6</th>\n",
       "      <td>0</td>\n",
       "      <td>1721</td>\n",
       "    </tr>\n",
       "    <tr>\n",
       "      <th>7</th>\n",
       "      <td>0</td>\n",
       "      <td>1681</td>\n",
       "    </tr>\n",
       "    <tr>\n",
       "      <th>8</th>\n",
       "      <td>0</td>\n",
       "      <td>1729</td>\n",
       "    </tr>\n",
       "    <tr>\n",
       "      <th>9</th>\n",
       "      <td>0</td>\n",
       "      <td>1748</td>\n",
       "    </tr>\n",
       "  </tbody>\n",
       "</table>\n",
       "</div>"
      ],
      "text/plain": [
       "Married_NA  False  True \n",
       "Age                     \n",
       "0               0   1283\n",
       "1               0   1559\n",
       "2               0   1574\n",
       "3               0   1693\n",
       "4               0   1695\n",
       "5               0   1795\n",
       "6               0   1721\n",
       "7               0   1681\n",
       "8               0   1729\n",
       "9               0   1748"
      ]
     },
     "execution_count": 10,
     "metadata": {},
     "output_type": "execute_result"
    }
   ],
   "source": [
    "CPS[\"Married_NA\"] = CPS[\"Married\"].isnull()\n",
    "pd.crosstab(CPS[\"Age\"], CPS[\"Married_NA\"] ).head(10)\n"
   ]
  },
  {
   "cell_type": "markdown",
   "metadata": {},
   "source": [
    "As mentioned in the variable descriptions, MetroAreaCode is missing if an interviewee does not live in a metropolitan area. Using the same technique as in the previous question, answer the following questions about people who live in non-metropolitan areas.\n",
    "\n",
    "How many states had all interviewees living in a non-metropolitan area (aka they have a missing MetroAreaCode value)? How many states had all interviewees living in a metropolitan area? For this question, treat the District of Columbia as a state (even though it is not technically a state)."
   ]
  },
  {
   "cell_type": "code",
   "execution_count": 11,
   "metadata": {},
   "outputs": [
    {
     "data": {
      "text/html": [
       "<div>\n",
       "<style>\n",
       "    .dataframe thead tr:only-child th {\n",
       "        text-align: right;\n",
       "    }\n",
       "\n",
       "    .dataframe thead th {\n",
       "        text-align: left;\n",
       "    }\n",
       "\n",
       "    .dataframe tbody tr th {\n",
       "        vertical-align: top;\n",
       "    }\n",
       "</style>\n",
       "<table border=\"1\" class=\"dataframe\">\n",
       "  <thead>\n",
       "    <tr style=\"text-align: right;\">\n",
       "      <th>MetroAreaCode</th>\n",
       "      <th>False</th>\n",
       "      <th>True</th>\n",
       "    </tr>\n",
       "    <tr>\n",
       "      <th>State</th>\n",
       "      <th></th>\n",
       "      <th></th>\n",
       "    </tr>\n",
       "  </thead>\n",
       "  <tbody>\n",
       "    <tr>\n",
       "      <th>Alabama</th>\n",
       "      <td>1020</td>\n",
       "      <td>356</td>\n",
       "    </tr>\n",
       "    <tr>\n",
       "      <th>Alaska</th>\n",
       "      <td>0</td>\n",
       "      <td>1590</td>\n",
       "    </tr>\n",
       "    <tr>\n",
       "      <th>Arizona</th>\n",
       "      <td>1327</td>\n",
       "      <td>201</td>\n",
       "    </tr>\n",
       "    <tr>\n",
       "      <th>Arkansas</th>\n",
       "      <td>724</td>\n",
       "      <td>697</td>\n",
       "    </tr>\n",
       "    <tr>\n",
       "      <th>California</th>\n",
       "      <td>11333</td>\n",
       "      <td>237</td>\n",
       "    </tr>\n",
       "    <tr>\n",
       "      <th>Colorado</th>\n",
       "      <td>2545</td>\n",
       "      <td>380</td>\n",
       "    </tr>\n",
       "    <tr>\n",
       "      <th>Connecticut</th>\n",
       "      <td>2593</td>\n",
       "      <td>243</td>\n",
       "    </tr>\n",
       "    <tr>\n",
       "      <th>Delaware</th>\n",
       "      <td>1696</td>\n",
       "      <td>518</td>\n",
       "    </tr>\n",
       "    <tr>\n",
       "      <th>District of Columbia</th>\n",
       "      <td>1791</td>\n",
       "      <td>0</td>\n",
       "    </tr>\n",
       "    <tr>\n",
       "      <th>Florida</th>\n",
       "      <td>4947</td>\n",
       "      <td>202</td>\n",
       "    </tr>\n",
       "    <tr>\n",
       "      <th>Georgia</th>\n",
       "      <td>2250</td>\n",
       "      <td>557</td>\n",
       "    </tr>\n",
       "    <tr>\n",
       "      <th>Hawaii</th>\n",
       "      <td>1576</td>\n",
       "      <td>523</td>\n",
       "    </tr>\n",
       "    <tr>\n",
       "      <th>Idaho</th>\n",
       "      <td>761</td>\n",
       "      <td>757</td>\n",
       "    </tr>\n",
       "    <tr>\n",
       "      <th>Illinois</th>\n",
       "      <td>3473</td>\n",
       "      <td>439</td>\n",
       "    </tr>\n",
       "    <tr>\n",
       "      <th>Indiana</th>\n",
       "      <td>1420</td>\n",
       "      <td>584</td>\n",
       "    </tr>\n",
       "    <tr>\n",
       "      <th>Iowa</th>\n",
       "      <td>1297</td>\n",
       "      <td>1231</td>\n",
       "    </tr>\n",
       "    <tr>\n",
       "      <th>Kansas</th>\n",
       "      <td>1234</td>\n",
       "      <td>701</td>\n",
       "    </tr>\n",
       "    <tr>\n",
       "      <th>Kentucky</th>\n",
       "      <td>908</td>\n",
       "      <td>933</td>\n",
       "    </tr>\n",
       "    <tr>\n",
       "      <th>Louisiana</th>\n",
       "      <td>1216</td>\n",
       "      <td>234</td>\n",
       "    </tr>\n",
       "    <tr>\n",
       "      <th>Maine</th>\n",
       "      <td>909</td>\n",
       "      <td>1354</td>\n",
       "    </tr>\n",
       "    <tr>\n",
       "      <th>Maryland</th>\n",
       "      <td>2978</td>\n",
       "      <td>222</td>\n",
       "    </tr>\n",
       "    <tr>\n",
       "      <th>Massachusetts</th>\n",
       "      <td>1858</td>\n",
       "      <td>129</td>\n",
       "    </tr>\n",
       "    <tr>\n",
       "      <th>Michigan</th>\n",
       "      <td>2517</td>\n",
       "      <td>546</td>\n",
       "    </tr>\n",
       "    <tr>\n",
       "      <th>Minnesota</th>\n",
       "      <td>2150</td>\n",
       "      <td>989</td>\n",
       "    </tr>\n",
       "    <tr>\n",
       "      <th>Mississippi</th>\n",
       "      <td>376</td>\n",
       "      <td>854</td>\n",
       "    </tr>\n",
       "    <tr>\n",
       "      <th>Missouri</th>\n",
       "      <td>1440</td>\n",
       "      <td>705</td>\n",
       "    </tr>\n",
       "    <tr>\n",
       "      <th>Montana</th>\n",
       "      <td>199</td>\n",
       "      <td>1015</td>\n",
       "    </tr>\n",
       "    <tr>\n",
       "      <th>Nebraska</th>\n",
       "      <td>816</td>\n",
       "      <td>1133</td>\n",
       "    </tr>\n",
       "    <tr>\n",
       "      <th>Nevada</th>\n",
       "      <td>1609</td>\n",
       "      <td>247</td>\n",
       "    </tr>\n",
       "    <tr>\n",
       "      <th>New Hampshire</th>\n",
       "      <td>1148</td>\n",
       "      <td>1514</td>\n",
       "    </tr>\n",
       "    <tr>\n",
       "      <th>New Jersey</th>\n",
       "      <td>2567</td>\n",
       "      <td>0</td>\n",
       "    </tr>\n",
       "    <tr>\n",
       "      <th>New Mexico</th>\n",
       "      <td>832</td>\n",
       "      <td>270</td>\n",
       "    </tr>\n",
       "    <tr>\n",
       "      <th>New York</th>\n",
       "      <td>5144</td>\n",
       "      <td>451</td>\n",
       "    </tr>\n",
       "    <tr>\n",
       "      <th>North Carolina</th>\n",
       "      <td>1642</td>\n",
       "      <td>977</td>\n",
       "    </tr>\n",
       "    <tr>\n",
       "      <th>North Dakota</th>\n",
       "      <td>432</td>\n",
       "      <td>1213</td>\n",
       "    </tr>\n",
       "    <tr>\n",
       "      <th>Ohio</th>\n",
       "      <td>2754</td>\n",
       "      <td>924</td>\n",
       "    </tr>\n",
       "    <tr>\n",
       "      <th>Oklahoma</th>\n",
       "      <td>1024</td>\n",
       "      <td>499</td>\n",
       "    </tr>\n",
       "    <tr>\n",
       "      <th>Oregon</th>\n",
       "      <td>1519</td>\n",
       "      <td>424</td>\n",
       "    </tr>\n",
       "    <tr>\n",
       "      <th>Pennsylvania</th>\n",
       "      <td>3245</td>\n",
       "      <td>685</td>\n",
       "    </tr>\n",
       "    <tr>\n",
       "      <th>Rhode Island</th>\n",
       "      <td>2209</td>\n",
       "      <td>0</td>\n",
       "    </tr>\n",
       "    <tr>\n",
       "      <th>South Carolina</th>\n",
       "      <td>1139</td>\n",
       "      <td>519</td>\n",
       "    </tr>\n",
       "    <tr>\n",
       "      <th>South Dakota</th>\n",
       "      <td>595</td>\n",
       "      <td>1405</td>\n",
       "    </tr>\n",
       "    <tr>\n",
       "      <th>Tennessee</th>\n",
       "      <td>1149</td>\n",
       "      <td>635</td>\n",
       "    </tr>\n",
       "    <tr>\n",
       "      <th>Texas</th>\n",
       "      <td>6060</td>\n",
       "      <td>1017</td>\n",
       "    </tr>\n",
       "    <tr>\n",
       "      <th>Utah</th>\n",
       "      <td>1455</td>\n",
       "      <td>387</td>\n",
       "    </tr>\n",
       "    <tr>\n",
       "      <th>Vermont</th>\n",
       "      <td>657</td>\n",
       "      <td>1233</td>\n",
       "    </tr>\n",
       "    <tr>\n",
       "      <th>Virginia</th>\n",
       "      <td>2367</td>\n",
       "      <td>586</td>\n",
       "    </tr>\n",
       "    <tr>\n",
       "      <th>Washington</th>\n",
       "      <td>1937</td>\n",
       "      <td>429</td>\n",
       "    </tr>\n",
       "    <tr>\n",
       "      <th>West Virginia</th>\n",
       "      <td>344</td>\n",
       "      <td>1065</td>\n",
       "    </tr>\n",
       "    <tr>\n",
       "      <th>Wisconsin</th>\n",
       "      <td>1882</td>\n",
       "      <td>804</td>\n",
       "    </tr>\n",
       "    <tr>\n",
       "      <th>Wyoming</th>\n",
       "      <td>0</td>\n",
       "      <td>1624</td>\n",
       "    </tr>\n",
       "  </tbody>\n",
       "</table>\n",
       "</div>"
      ],
      "text/plain": [
       "MetroAreaCode         False  True \n",
       "State                             \n",
       "Alabama                1020    356\n",
       "Alaska                    0   1590\n",
       "Arizona                1327    201\n",
       "Arkansas                724    697\n",
       "California            11333    237\n",
       "Colorado               2545    380\n",
       "Connecticut            2593    243\n",
       "Delaware               1696    518\n",
       "District of Columbia   1791      0\n",
       "Florida                4947    202\n",
       "Georgia                2250    557\n",
       "Hawaii                 1576    523\n",
       "Idaho                   761    757\n",
       "Illinois               3473    439\n",
       "Indiana                1420    584\n",
       "Iowa                   1297   1231\n",
       "Kansas                 1234    701\n",
       "Kentucky                908    933\n",
       "Louisiana              1216    234\n",
       "Maine                   909   1354\n",
       "Maryland               2978    222\n",
       "Massachusetts          1858    129\n",
       "Michigan               2517    546\n",
       "Minnesota              2150    989\n",
       "Mississippi             376    854\n",
       "Missouri               1440    705\n",
       "Montana                 199   1015\n",
       "Nebraska                816   1133\n",
       "Nevada                 1609    247\n",
       "New Hampshire          1148   1514\n",
       "New Jersey             2567      0\n",
       "New Mexico              832    270\n",
       "New York               5144    451\n",
       "North Carolina         1642    977\n",
       "North Dakota            432   1213\n",
       "Ohio                   2754    924\n",
       "Oklahoma               1024    499\n",
       "Oregon                 1519    424\n",
       "Pennsylvania           3245    685\n",
       "Rhode Island           2209      0\n",
       "South Carolina         1139    519\n",
       "South Dakota            595   1405\n",
       "Tennessee              1149    635\n",
       "Texas                  6060   1017\n",
       "Utah                   1455    387\n",
       "Vermont                 657   1233\n",
       "Virginia               2367    586\n",
       "Washington             1937    429\n",
       "West Virginia           344   1065\n",
       "Wisconsin              1882    804\n",
       "Wyoming                   0   1624"
      ]
     },
     "execution_count": 11,
     "metadata": {},
     "output_type": "execute_result"
    }
   ],
   "source": [
    "pd.crosstab(CPS[\"State\"], CPS[\"MetroAreaCode\"].isnull())"
   ]
  },
  {
   "cell_type": "markdown",
   "metadata": {},
   "source": [
    "Alaska and Wyoming have no interviewees living in a metropolitan area, and the District of Columbia, New Jersey, and Rhode Island have all interviewees living in a metro area."
   ]
  },
  {
   "cell_type": "markdown",
   "metadata": {},
   "source": [
    "Which region of the United States has the largest proportion of interviewees living in a non-metropolitan area?"
   ]
  },
  {
   "cell_type": "code",
   "execution_count": 12,
   "metadata": {
    "scrolled": true
   },
   "outputs": [
    {
     "name": "stdout",
     "output_type": "stream",
     "text": [
      "NonMetropolian     False     True \n",
      "Region                            \n",
      "Midwest         0.652131  0.347869\n",
      "Northeast       0.783762  0.216238\n",
      "South           0.762156  0.237844\n",
      "West            0.756337  0.243663\n"
     ]
    }
   ],
   "source": [
    "#  MetroAreaCode is missing if an interviewee does not live in a metropolitan area\n",
    "# define interviewees living out metropolian area\n",
    "CPS[\"NonMetropolian\"] = CPS[\"MetroAreaCode\"].isnull()\n",
    "\n",
    "CPS_metro = pd.crosstab(CPS[\"Region\"], CPS[\"NonMetropolian\"], normalize = 'index')\n",
    "print(CPS_metro)"
   ]
  },
  {
   "cell_type": "markdown",
   "metadata": {},
   "source": [
    "## Integrating Metropolitan Area Data"
   ]
  },
  {
   "cell_type": "markdown",
   "metadata": {},
   "source": [
    "Codes like MetroAreaCode and CountryOfBirthCode are a compact way to encode factor variables with text as their possible values, and they are therefore quite common in survey datasets. In fact, all but one of the variables in this dataset were actually stored by a numeric code in the original CPS datafile.\n",
    "\n",
    "When analyzing a variable stored by a numeric code, we will often want to convert it into the values the codes represent. To do this, we will use a dictionary, which maps the the code to the actual value of the variable. We have provided dictionaries MetroAreaCodes.csv and CountryCodes.csv, which respectively map MetroAreaCode and CountryOfBirthCode into their true values. Read these two dictionaries into data frames MetroAreaMap and CountryMap."
   ]
  },
  {
   "cell_type": "markdown",
   "metadata": {},
   "source": [
    "How many observations (codes for metropolitan areas) are there in MetroAreaMap?"
   ]
  },
  {
   "cell_type": "code",
   "execution_count": 13,
   "metadata": {},
   "outputs": [
    {
     "name": "stdout",
     "output_type": "stream",
     "text": [
      "<class 'pandas.core.frame.DataFrame'>\n",
      "RangeIndex: 271 entries, 0 to 270\n",
      "Data columns (total 2 columns):\n",
      "Code         271 non-null int64\n",
      "MetroArea    271 non-null object\n",
      "dtypes: int64(1), object(1)\n",
      "memory usage: 4.3+ KB\n"
     ]
    }
   ],
   "source": [
    "MetroAreaMap = pd.read_csv(\"../Data/MetroAreaCodes.csv\")\n",
    "MetroAreaMap.info()"
   ]
  },
  {
   "cell_type": "markdown",
   "metadata": {},
   "source": [
    "How many observations (codes for countries) are there in CountryMap?"
   ]
  },
  {
   "cell_type": "code",
   "execution_count": 14,
   "metadata": {},
   "outputs": [
    {
     "name": "stdout",
     "output_type": "stream",
     "text": [
      "<class 'pandas.core.frame.DataFrame'>\n",
      "RangeIndex: 149 entries, 0 to 148\n",
      "Data columns (total 2 columns):\n",
      "Code       149 non-null int64\n",
      "Country    149 non-null object\n",
      "dtypes: int64(1), object(1)\n",
      "memory usage: 2.4+ KB\n"
     ]
    }
   ],
   "source": [
    "CountryMap = pd.read_csv(\"../Data/CountryCodes.csv\")\n",
    "CountryMap.info()"
   ]
  },
  {
   "cell_type": "markdown",
   "metadata": {},
   "source": [
    "To merge in the metropolitan areas, we want to connect the field MetroAreaCode from the CPS data frame with the field Code in MetroAreaMap."
   ]
  },
  {
   "cell_type": "code",
   "execution_count": 15,
   "metadata": {},
   "outputs": [
    {
     "name": "stdout",
     "output_type": "stream",
     "text": [
      "<class 'pandas.core.frame.DataFrame'>\n",
      "Int64Index: 131302 entries, 0 to 131301\n",
      "Data columns (total 18 columns):\n",
      "PeopleInHousehold     131302 non-null int64\n",
      "Region                131302 non-null object\n",
      "State                 131302 non-null object\n",
      "MetroAreaCode         97064 non-null object\n",
      "Age                   131302 non-null int64\n",
      "Married               105964 non-null object\n",
      "Sex                   131302 non-null object\n",
      "Education             105964 non-null object\n",
      "Race                  131302 non-null object\n",
      "Hispanic              131302 non-null int64\n",
      "CountryOfBirthCode    131302 non-null int64\n",
      "Citizenship           131302 non-null object\n",
      "EmploymentStatus      105513 non-null object\n",
      "Industry              66242 non-null object\n",
      "Married_NA            131302 non-null bool\n",
      "NonMetropolian        131302 non-null bool\n",
      "Code                  97064 non-null float64\n",
      "MetroArea             97064 non-null object\n",
      "dtypes: bool(2), float64(1), int64(4), object(11)\n",
      "memory usage: 17.3+ MB\n"
     ]
    }
   ],
   "source": [
    "CPS = pd.merge(CPS, MetroAreaMap, left_on = \"MetroAreaCode\", how = \"left\", right_on = \"Code\")\n",
    "CPS.info()"
   ]
  },
  {
   "cell_type": "markdown",
   "metadata": {},
   "source": [
    "How many interviewees have a missing value for the new metropolitan area variable? "
   ]
  },
  {
   "cell_type": "code",
   "execution_count": 16,
   "metadata": {},
   "outputs": [
    {
     "data": {
      "text/plain": [
       "34238"
      ]
     },
     "execution_count": 16,
     "metadata": {},
     "output_type": "execute_result"
    }
   ],
   "source": [
    "CPS[\"MetroArea\"].isnull().sum()"
   ]
  },
  {
   "cell_type": "markdown",
   "metadata": {},
   "source": [
    "What metropolitan areas has the largest number of interviewees?"
   ]
  },
  {
   "cell_type": "code",
   "execution_count": 17,
   "metadata": {},
   "outputs": [
    {
     "data": {
      "text/plain": [
       "New York-Northern New Jersey-Long Island, NY-NJ-PA    5409\n",
       "Washington-Arlington-Alexandria, DC-VA-MD-WV          4177\n",
       "Los Angeles-Long Beach-Santa Ana, CA                  4102\n",
       "Philadelphia-Camden-Wilmington, PA-NJ-DE              2855\n",
       "Chicago-Naperville-Joliet, IN-IN-WI                   2772\n",
       "Providence-Fall River-Warwick, MA-RI                  2284\n",
       "Boston-Cambridge-Quincy, MA-NH                        2229\n",
       "Minneapolis-St Paul-Bloomington, MN-WI                1942\n",
       "Dallas-Fort Worth-Arlington, TX                       1863\n",
       "Houston-Baytown-Sugar Land, TX                        1649\n",
       "Name: MetroArea, dtype: int64"
      ]
     },
     "execution_count": 17,
     "metadata": {},
     "output_type": "execute_result"
    }
   ],
   "source": [
    "CPS[\"MetroArea\"].value_counts().head(10)"
   ]
  },
  {
   "cell_type": "markdown",
   "metadata": {},
   "source": [
    "Which metropolitan area has the highest proportion of interviewees of Hispanic ethnicity?"
   ]
  },
  {
   "cell_type": "code",
   "execution_count": 18,
   "metadata": {},
   "outputs": [
    {
     "data": {
      "text/html": [
       "<div>\n",
       "<style>\n",
       "    .dataframe thead tr:only-child th {\n",
       "        text-align: right;\n",
       "    }\n",
       "\n",
       "    .dataframe thead th {\n",
       "        text-align: left;\n",
       "    }\n",
       "\n",
       "    .dataframe tbody tr th {\n",
       "        vertical-align: top;\n",
       "    }\n",
       "</style>\n",
       "<table border=\"1\" class=\"dataframe\">\n",
       "  <thead>\n",
       "    <tr style=\"text-align: right;\">\n",
       "      <th>Hispanic</th>\n",
       "      <th>0</th>\n",
       "      <th>1</th>\n",
       "    </tr>\n",
       "    <tr>\n",
       "      <th>MetroArea</th>\n",
       "      <th></th>\n",
       "      <th></th>\n",
       "    </tr>\n",
       "  </thead>\n",
       "  <tbody>\n",
       "    <tr>\n",
       "      <th>Laredo, TX</th>\n",
       "      <td>0.033708</td>\n",
       "      <td>0.966292</td>\n",
       "    </tr>\n",
       "    <tr>\n",
       "      <th>McAllen-Edinburg-Pharr, TX</th>\n",
       "      <td>0.051282</td>\n",
       "      <td>0.948718</td>\n",
       "    </tr>\n",
       "    <tr>\n",
       "      <th>Brownsville-Harlingen, TX</th>\n",
       "      <td>0.202532</td>\n",
       "      <td>0.797468</td>\n",
       "    </tr>\n",
       "    <tr>\n",
       "      <th>El Paso, TX</th>\n",
       "      <td>0.209016</td>\n",
       "      <td>0.790984</td>\n",
       "    </tr>\n",
       "    <tr>\n",
       "      <th>El Centro, CA</th>\n",
       "      <td>0.313131</td>\n",
       "      <td>0.686869</td>\n",
       "    </tr>\n",
       "  </tbody>\n",
       "</table>\n",
       "</div>"
      ],
      "text/plain": [
       "Hispanic                           0         1\n",
       "MetroArea                                     \n",
       "Laredo, TX                  0.033708  0.966292\n",
       "McAllen-Edinburg-Pharr, TX  0.051282  0.948718\n",
       "Brownsville-Harlingen, TX   0.202532  0.797468\n",
       "El Paso, TX                 0.209016  0.790984\n",
       "El Centro, CA               0.313131  0.686869"
      ]
     },
     "execution_count": 18,
     "metadata": {},
     "output_type": "execute_result"
    }
   ],
   "source": [
    "Top5Metropolitan_hispanic = pd.crosstab(CPS[\"MetroArea\"], CPS[\"Hispanic\"], normalize = \"index\").sort_values(by = 0).head()\n",
    "Top5Metropolitan_hispanic"
   ]
  },
  {
   "cell_type": "markdown",
   "metadata": {},
   "source": [
    " Determine the number of metropolitan areas in the United States from which at least 20% of interviewees are Asian."
   ]
  },
  {
   "cell_type": "code",
   "execution_count": 19,
   "metadata": {},
   "outputs": [
    {
     "data": {
      "text/html": [
       "<div>\n",
       "<style>\n",
       "    .dataframe thead tr:only-child th {\n",
       "        text-align: right;\n",
       "    }\n",
       "\n",
       "    .dataframe thead th {\n",
       "        text-align: left;\n",
       "    }\n",
       "\n",
       "    .dataframe tbody tr th {\n",
       "        vertical-align: top;\n",
       "    }\n",
       "</style>\n",
       "<table border=\"1\" class=\"dataframe\">\n",
       "  <thead>\n",
       "    <tr style=\"text-align: right;\">\n",
       "      <th>Race</th>\n",
       "      <th>American Indian</th>\n",
       "      <th>Asian</th>\n",
       "      <th>Black</th>\n",
       "      <th>Multiracial</th>\n",
       "      <th>Pacific Islander</th>\n",
       "      <th>White</th>\n",
       "    </tr>\n",
       "    <tr>\n",
       "      <th>MetroArea</th>\n",
       "      <th></th>\n",
       "      <th></th>\n",
       "      <th></th>\n",
       "      <th></th>\n",
       "      <th></th>\n",
       "      <th></th>\n",
       "    </tr>\n",
       "  </thead>\n",
       "  <tbody>\n",
       "    <tr>\n",
       "      <th>Honolulu, HI</th>\n",
       "      <td>0.003807</td>\n",
       "      <td>0.501904</td>\n",
       "      <td>0.011421</td>\n",
       "      <td>0.194797</td>\n",
       "      <td>0.117386</td>\n",
       "      <td>0.170685</td>\n",
       "    </tr>\n",
       "    <tr>\n",
       "      <th>San Francisco-Oakland-Fremont, CA</th>\n",
       "      <td>0.018759</td>\n",
       "      <td>0.246753</td>\n",
       "      <td>0.071429</td>\n",
       "      <td>0.045455</td>\n",
       "      <td>0.010823</td>\n",
       "      <td>0.606782</td>\n",
       "    </tr>\n",
       "    <tr>\n",
       "      <th>San Jose-Sunnyvale-Santa Clara, CA</th>\n",
       "      <td>0.025373</td>\n",
       "      <td>0.241791</td>\n",
       "      <td>0.016418</td>\n",
       "      <td>0.040299</td>\n",
       "      <td>0.008955</td>\n",
       "      <td>0.667164</td>\n",
       "    </tr>\n",
       "    <tr>\n",
       "      <th>Vallejo-Fairfield, CA</th>\n",
       "      <td>0.000000</td>\n",
       "      <td>0.203008</td>\n",
       "      <td>0.165414</td>\n",
       "      <td>0.015038</td>\n",
       "      <td>0.022556</td>\n",
       "      <td>0.593985</td>\n",
       "    </tr>\n",
       "  </tbody>\n",
       "</table>\n",
       "</div>"
      ],
      "text/plain": [
       "Race                                American Indian     Asian     Black  \\\n",
       "MetroArea                                                                 \n",
       "Honolulu, HI                               0.003807  0.501904  0.011421   \n",
       "San Francisco-Oakland-Fremont, CA          0.018759  0.246753  0.071429   \n",
       "San Jose-Sunnyvale-Santa Clara, CA         0.025373  0.241791  0.016418   \n",
       "Vallejo-Fairfield, CA                      0.000000  0.203008  0.165414   \n",
       "\n",
       "Race                                Multiracial  Pacific Islander     White  \n",
       "MetroArea                                                                    \n",
       "Honolulu, HI                           0.194797          0.117386  0.170685  \n",
       "San Francisco-Oakland-Fremont, CA      0.045455          0.010823  0.606782  \n",
       "San Jose-Sunnyvale-Santa Clara, CA     0.040299          0.008955  0.667164  \n",
       "Vallejo-Fairfield, CA                  0.015038          0.022556  0.593985  "
      ]
     },
     "execution_count": 19,
     "metadata": {},
     "output_type": "execute_result"
    }
   ],
   "source": [
    "frame = pd.crosstab(CPS[\"MetroArea\"], CPS[\"Race\"], normalize = \"index\")\n",
    "\n",
    "frame[frame[\"Asian\"] > 0.2]"
   ]
  },
  {
   "cell_type": "markdown",
   "metadata": {},
   "source": [
    "Determine which metropolitan area has the smallest proportion of interviewees who have received no high school diploma."
   ]
  },
  {
   "cell_type": "code",
   "execution_count": 20,
   "metadata": {},
   "outputs": [
    {
     "data": {
      "text/plain": [
       "MetroArea\n",
       "Iowa City, IA               0.022901\n",
       "Bowling Green, KY           0.034483\n",
       "Kalamazoo-Portage, MI       0.039370\n",
       "Champaign-Urbana, IL        0.040984\n",
       "Bremerton-Silverdale, WA    0.045977\n",
       "Name: Education_NoDiploma, dtype: float64"
      ]
     },
     "execution_count": 20,
     "metadata": {},
     "output_type": "execute_result"
    }
   ],
   "source": [
    "CPS[\"Education_NoDiploma\"] = CPS[\"Education\"] == \"No high school diploma\"\n",
    "CPS[\"Education_NoDiploma\"].groupby(CPS[\"MetroArea\"]).mean().sort_values().head()"
   ]
  },
  {
   "cell_type": "markdown",
   "metadata": {},
   "source": [
    "## Integrating Country of Birth Data"
   ]
  },
  {
   "cell_type": "markdown",
   "metadata": {},
   "source": [
    "Just as we did with the metropolitan area information, merge in the country of birth information from the CountryMap data frame, replacing the CPS data frame with the result.\n",
    "\n",
    "What is the name of the variable added to the CPS data frame by this merge operation?"
   ]
  },
  {
   "cell_type": "code",
   "execution_count": 21,
   "metadata": {},
   "outputs": [
    {
     "name": "stdout",
     "output_type": "stream",
     "text": [
      "(131302, 19)\n",
      "(131302, 21)\n",
      "<class 'pandas.core.frame.DataFrame'>\n",
      "Int64Index: 131302 entries, 0 to 131301\n",
      "Data columns (total 21 columns):\n",
      "PeopleInHousehold      131302 non-null int64\n",
      "Region                 131302 non-null object\n",
      "State                  131302 non-null object\n",
      "MetroAreaCode          97064 non-null object\n",
      "Age                    131302 non-null int64\n",
      "Married                105964 non-null object\n",
      "Sex                    131302 non-null object\n",
      "Education              105964 non-null object\n",
      "Race                   131302 non-null object\n",
      "Hispanic               131302 non-null int64\n",
      "CountryOfBirthCode     131302 non-null int64\n",
      "Citizenship            131302 non-null object\n",
      "EmploymentStatus       105513 non-null object\n",
      "Industry               66242 non-null object\n",
      "Married_NA             131302 non-null bool\n",
      "NonMetropolian         131302 non-null bool\n",
      "Code_x                 97064 non-null float64\n",
      "MetroArea              97064 non-null object\n",
      "Education_NoDiploma    131302 non-null bool\n",
      "Code_y                 131126 non-null float64\n",
      "Country                131126 non-null object\n",
      "dtypes: bool(3), float64(2), int64(4), object(12)\n",
      "memory usage: 19.4+ MB\n"
     ]
    }
   ],
   "source": [
    "#CPS = pd.read_csv(\"../Data/CPSData.csv\")\n",
    "print(CPS.shape)\n",
    "\n",
    "CPS = pd.merge(CPS, CountryMap, how = 'left', left_on = \"CountryOfBirthCode\", right_on = \"Code\")\n",
    "print(CPS.shape)\n",
    "CPS.info()"
   ]
  },
  {
   "cell_type": "markdown",
   "metadata": {},
   "source": [
    "How many interviewees have a missing value for the new country of birth variable?"
   ]
  },
  {
   "cell_type": "code",
   "execution_count": 22,
   "metadata": {},
   "outputs": [
    {
     "data": {
      "text/plain": [
       "176"
      ]
     },
     "execution_count": 22,
     "metadata": {},
     "output_type": "execute_result"
    }
   ],
   "source": [
    "CPS[\"Country\"].isnull().sum()"
   ]
  },
  {
   "cell_type": "markdown",
   "metadata": {},
   "source": [
    "Among all interviewees born outside of North America, which country was the most common place of birth?"
   ]
  },
  {
   "cell_type": "code",
   "execution_count": 28,
   "metadata": {},
   "outputs": [
    {
     "data": {
      "text/plain": [
       "United States    115063\n",
       "Mexico             3921\n",
       "Philippines         839\n",
       "India               770\n",
       "China               581\n",
       "Name: Country, dtype: int64"
      ]
     },
     "execution_count": 28,
     "metadata": {},
     "output_type": "execute_result"
    }
   ],
   "source": [
    "CPS[\"Country\"].value_counts().head()"
   ]
  }
 ],
 "metadata": {
  "kernelspec": {
   "display_name": "Python 3 (Spyder)",
   "language": "python3",
   "name": "python3"
  },
  "language_info": {
   "codemirror_mode": {
    "name": "ipython",
    "version": 3
   },
   "file_extension": ".py",
   "mimetype": "text/x-python",
   "name": "python",
   "nbconvert_exporter": "python",
   "pygments_lexer": "ipython3",
   "version": "3.7.3"
  }
 },
 "nbformat": 4,
 "nbformat_minor": 2
}
